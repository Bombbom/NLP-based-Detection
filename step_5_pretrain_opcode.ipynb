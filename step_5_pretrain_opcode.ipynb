{
 "cells": [
  {
   "cell_type": "code",
   "execution_count": 1,
   "metadata": {},
   "outputs": [],
   "source": [
    "int2op = {\"00\": \"STOP\",\n",
    "\"01\": \"ADD\",\n",
    "\"02\": \"MUL\",\n",
    "\"03\": \"SUB\",\n",
    "\"04\": \"DIV\",\n",
    "\"05\": \"SDIV\",\n",
    "\"06\": \"MOD\",\n",
    "\"07\":\"SMOD\",\n",
    "\"08\":\"ADDMOD\",\n",
    "\"09\":\"MULMOD\",\n",
    "\"0a\":\"EXP\",\n",
    "\"0b\":\"SIGNEXTEND\",\n",
    "\"10\":\"LT\",\n",
    "\"11\":\"GT\",\n",
    "\"12\":\"SLT\",\n",
    "\"13\":\"SGT\",\n",
    "\"14\":\"EQ\",\n",
    "\"15\":\"ISZERO\",\n",
    "\"16\":\"AND\",\n",
    "\"17\":\"OR\",\n",
    "\"18\":\"XOR\",\n",
    "\"19\":\"NOT\",\n",
    "\"1a\":\"BYTE\",\n",
    "\"1b\":\"SHL\",\n",
    "\"1c\": \"SHR\",\n",
    "\"1d\": \"SAR\",\n",
    "\"20\":\"SHA3\",\n",
    "\"30\":\"ADDRESS\",\n",
    "\"31\":\"BALANCE\",\n",
    "\"32\":\"ORIGIN\",\n",
    "\"33\":\"CALLER\",\n",
    "\"34\":\"CALLVALUE\",\n",
    "\"35\":\"CALLDATALOAD\",\n",
    "\"36\":\"CALLDATASIZE\",\n",
    "\"37\":\"CALLDATACOPY\",\n",
    "\"38\":\"CODESIZE\",\n",
    "\"39\":\"CODECOPY\",\n",
    "\"3a\":\"GASPRICE\",\n",
    "\"3b\":\"EXTCODESIZE\",\n",
    "\"3c\":\"EXTCODECOPY\",\n",
    "\"3d\":\"RETURNDATASIZE\",\n",
    "\"3e\":\"RETURNDATACOPY\",\n",
    "\"3f\": \"EXTCODEHASH\",\n",
    "\"40\":\"BLOCKHASH\",\n",
    "\"41\":\"COINBASE\",\n",
    "\"42\":\"TIMESTAMP\",\n",
    "\"43\":\"NUMBER\",\n",
    "\"44\":\"DIFFICULTY\",\n",
    "\"45\":\"GASLIMIT\",\n",
    "\"46\": \"CHAINID\",\n",
    "\"47\": \"SELFBALANCE\",\n",
    "\"50\":\"POP\",\n",
    "\"51\":\"MLOAD\",\n",
    "\"52\":\"MSTORE\",\n",
    "\"53\":\"MSTORE8\",\n",
    "\"54\":\"SLOAD\",\n",
    "\"55\":\"SSTORE\",\n",
    "\"56\":\"JUMP\",\n",
    "\"57\":\"JUMPI\",\n",
    "\"58\":\"PC\",\n",
    "\"59\":\"MSIZE\",\n",
    "\"5a\":\"GAS\",\n",
    "\"5b\":\"JUMPDEST\",\n",
    "\"60\":\"PUSH1\",\n",
    "\"61\":\"PUSH2\",\n",
    "\"62\":\"PUSH3\",\n",
    "\"63\":\"PUSH4\",\n",
    "\"64\":\"PUSH5\",\n",
    "\"65\":\"PUSH6\",\n",
    "\"66\":\"PUSH7\",\n",
    "\"67\":\"PUSH8\",\n",
    "\"68\":\"PUSH9\",\n",
    "\"69\":\"PUSH10\",\n",
    "\"6a\":\"PUSH11\",\n",
    "\"6b\":\"PUSH12\",\n",
    "\"6c\":\"PUSH13\",\n",
    "\"6d\":\"PUSH14\",\n",
    "\"6e\":\"PUSH15\",\n",
    "\"6f\":\"PUSH16\",\n",
    "\"70\":\"PUSH17\",\n",
    "\"71\":\"PUSH18\",\n",
    "\"72\":\"PUSH19\",\n",
    "\"73\":\"PUSH20\",\n",
    "\"74\":\"PUSH21\",\n",
    "\"75\":\"PUSH22\",\n",
    "\"76\":\"PUSH23\",\n",
    "\"77\":\"PUSH24\",\n",
    "\"78\":\"PUSH25\",\n",
    "\"79\":\"PUSH26\",\n",
    "\"7a\":\"PUSH27\",\n",
    "\"7b\":\"PUSH28\",\n",
    "\"7c\":\"PUSH29\",\n",
    "\"7d\":\"PUSH30\",\n",
    "\"7e\":\"PUSH31\",\n",
    "\"7f\":\"PUSH32\",\n",
    "\"80\":\"DUP1\",\n",
    "\"81\":\"DUP2\",\n",
    "\"82\":\"DUP3\",\n",
    "\"83\":\"DUP4\",\n",
    "\"84\":\"DUP5\",\n",
    "\"85\":\"DUP6\",\n",
    "\"86\":\"DUP7\",\n",
    "\"87\":\"DUP8\",\n",
    "\"88\":\"DUP9\",\n",
    "\"89\":\"DUP10\",\n",
    "\"8a\":\"DUP11\",\n",
    "\"8b\":\"DUP12\",\n",
    "\"8c\":\"DUP13\",\n",
    "\"8d\":\"DUP14\",\n",
    "\"8e\":\"DUP15\",\n",
    "\"8f\":\"DUP16\",\n",
    "\"90\":\"SWAP1\",\n",
    "\"91\":\"SWAP2\",\n",
    "\"92\":\"SWAP3\",\n",
    "\"93\":\"SWAP4\",\n",
    "\"94\":\"SWAP5\",\n",
    "\"95\":\"SWAP6\",\n",
    "\"96\":\"SWAP7\",\n",
    "\"97\":\"SWAP8\",\n",
    "\"98\":\"SWAP9\",\n",
    "\"99\":\"SWAP10\",\n",
    "\"9a\":\"SWAP11\",\n",
    "\"9b\":\"SWAP12\",\n",
    "\"9c\":\"SWAP13\",\n",
    "\"9d\":\"SWAP14\",\n",
    "\"9e\":\"SWAP15\",\n",
    "\"9f\":\"SWAP16\",\n",
    "\"a0\":\"LOG0\",\n",
    "\"a1\":\"LOG1\",\n",
    "\"a2\":\"LOG2\",\n",
    "\"a3\":\"LOG3\",\n",
    "\"a4\":\"LOG4\",\n",
    "\"b0\":\"PUSH\",\n",
    "\"b1\":\"DUP\",\n",
    "\"b2\":\"SWAP\",\n",
    "\"f0\":\"CREATE\",\n",
    "\"f1\":\"CALL\",\n",
    "\"f2\":\"CALLCODE\",\n",
    "\"f3\":\"RETURN\",\n",
    "\"f4\":\"DELEGATECALL\",\n",
    "\"f5\":\"CREATE2\",\n",
    "\"fa\":\"STATICCALL\",\n",
    "\"fd\":\"REVERT\",\n",
    "\"fe\":\"INVALID\",\n",
    "\"ff\":\"SELFDESTRUCT\"}"
   ]
  },
  {
   "cell_type": "code",
   "execution_count": 2,
   "metadata": {},
   "outputs": [
    {
     "name": "stderr",
     "output_type": "stream",
     "text": [
      "/home/bombbom/Documents/NLP_in_Detection_System/env_nlp/lib/python3.8/site-packages/tqdm/auto.py:21: TqdmWarning: IProgress not found. Please update jupyter and ipywidgets. See https://ipywidgets.readthedocs.io/en/stable/user_install.html\n",
      "  from .autonotebook import tqdm as notebook_tqdm\n"
     ]
    }
   ],
   "source": [
    "from datasets import Dataset\n",
    "import pandas as pd\n",
    "import re"
   ]
  },
  {
   "cell_type": "code",
   "execution_count": 3,
   "metadata": {},
   "outputs": [
    {
     "data": {
      "text/html": [
       "<div>\n",
       "<style scoped>\n",
       "    .dataframe tbody tr th:only-of-type {\n",
       "        vertical-align: middle;\n",
       "    }\n",
       "\n",
       "    .dataframe tbody tr th {\n",
       "        vertical-align: top;\n",
       "    }\n",
       "\n",
       "    .dataframe thead th {\n",
       "        text-align: right;\n",
       "    }\n",
       "</style>\n",
       "<table border=\"1\" class=\"dataframe\">\n",
       "  <thead>\n",
       "    <tr style=\"text-align: right;\">\n",
       "      <th></th>\n",
       "      <th>address</th>\n",
       "      <th>source_code</th>\n",
       "      <th>categories</th>\n",
       "      <th>lines</th>\n",
       "    </tr>\n",
       "  </thead>\n",
       "  <tbody>\n",
       "    <tr>\n",
       "      <th>0</th>\n",
       "      <td>0x21e13cb3f3f26f92a62ac7adab4093e8997d1fb1</td>\n",
       "      <td>pragma solidity ^0.4.18;\\n\\n// ---------------...</td>\n",
       "      <td>['Other', 'arithmetic', 'arithmetic']</td>\n",
       "      <td>[154, 141, 103]</td>\n",
       "    </tr>\n",
       "    <tr>\n",
       "      <th>1</th>\n",
       "      <td>0x344005c29af957567f0b40950b425ed018b92170</td>\n",
       "      <td>pragma solidity  ^0.4.21;\\n\\n\\ncontract DSMath...</td>\n",
       "      <td>['arithmetic', 'reentrancy', 'arithmetic', 'ar...</td>\n",
       "      <td>[201, 16, 209, 176, 146, 154, 29]</td>\n",
       "    </tr>\n",
       "    <tr>\n",
       "      <th>2</th>\n",
       "      <td>0x44e320110176c11c93e116f6770f13d96deded43</td>\n",
       "      <td>pragma solidity ^0.4.20;\\n\\n\\ncontract Ownable...</td>\n",
       "      <td>['arithmetic']</td>\n",
       "      <td>[82, 46]</td>\n",
       "    </tr>\n",
       "    <tr>\n",
       "      <th>3</th>\n",
       "      <td>0x5ecd84482176db90bb741ddc8c2f9ccc290e29ce</td>\n",
       "      <td>pragma solidity ^0.4.8;\\ncontract Token{\\n    ...</td>\n",
       "      <td>['arithmetic', 'unchecked_low_calls', 'arithme...</td>\n",
       "      <td>[99, 38, 78, 48, 49, 60, 93]</td>\n",
       "    </tr>\n",
       "    <tr>\n",
       "      <th>4</th>\n",
       "      <td>0xcaf187eb618d2335b4130d784a697be96f4b07b9</td>\n",
       "      <td>pragma solidity 0.4.15;\\n\\ncontract RegistryIC...</td>\n",
       "      <td>['Other']</td>\n",
       "      <td>[80, 28, 63]</td>\n",
       "    </tr>\n",
       "    <tr>\n",
       "      <th>...</th>\n",
       "      <td>...</td>\n",
       "      <td>...</td>\n",
       "      <td>...</td>\n",
       "      <td>...</td>\n",
       "    </tr>\n",
       "    <tr>\n",
       "      <th>47326</th>\n",
       "      <td>0x7f650f3b231d3a32c2b0e2940e870acdd4aa9961</td>\n",
       "      <td>pragma solidity ^0.4.24;\\n\\n\\n\\n\\n/**\\n * @tit...</td>\n",
       "      <td>['reentrancy', 'arithmetic', 'time_manipulatio...</td>\n",
       "      <td>[258, 264, 245, 253, 287]</td>\n",
       "    </tr>\n",
       "    <tr>\n",
       "      <th>47327</th>\n",
       "      <td>0xc73f2474001ad1d6aed615af53631148cf98de6b</td>\n",
       "      <td>pragma solidity ^0.4.18;\\n\\n// ---------------...</td>\n",
       "      <td>['Other', 'arithmetic', 'arithmetic']</td>\n",
       "      <td>[200, 218, 128, 102]</td>\n",
       "    </tr>\n",
       "    <tr>\n",
       "      <th>47328</th>\n",
       "      <td>0xb2105f178abe620ddbb86a70afa94bfa9daa4d01</td>\n",
       "      <td>pragma solidity ^0.4.23;\\n\\nlibrary SafeMath {...</td>\n",
       "      <td>['arithmetic', 'arithmetic', 'front_running']</td>\n",
       "      <td>[124, 20, 205]</td>\n",
       "    </tr>\n",
       "    <tr>\n",
       "      <th>47329</th>\n",
       "      <td>0xe2d4b960d0c639633582cddef57528461e62083d</td>\n",
       "      <td>pragma solidity ^0.4.23;\\n\\n\\n/// @title Multi...</td>\n",
       "      <td>['arithmetic', 'Other', 'unchecked_low_calls',...</td>\n",
       "      <td>[140, 142, 23, 282, 410, 157, 287, 296, 302, 3...</td>\n",
       "    </tr>\n",
       "    <tr>\n",
       "      <th>47330</th>\n",
       "      <td>0xb44a2acd38f7ee6ae965aa8d77f4f14849770203</td>\n",
       "      <td>pragma solidity ^0.4.2;  \\n\\ncontract Maurel {...</td>\n",
       "      <td>['arithmetic']</td>\n",
       "      <td>[7]</td>\n",
       "    </tr>\n",
       "  </tbody>\n",
       "</table>\n",
       "<p>47331 rows × 4 columns</p>\n",
       "</div>"
      ],
      "text/plain": [
       "                                          address  \\\n",
       "0      0x21e13cb3f3f26f92a62ac7adab4093e8997d1fb1   \n",
       "1      0x344005c29af957567f0b40950b425ed018b92170   \n",
       "2      0x44e320110176c11c93e116f6770f13d96deded43   \n",
       "3      0x5ecd84482176db90bb741ddc8c2f9ccc290e29ce   \n",
       "4      0xcaf187eb618d2335b4130d784a697be96f4b07b9   \n",
       "...                                           ...   \n",
       "47326  0x7f650f3b231d3a32c2b0e2940e870acdd4aa9961   \n",
       "47327  0xc73f2474001ad1d6aed615af53631148cf98de6b   \n",
       "47328  0xb2105f178abe620ddbb86a70afa94bfa9daa4d01   \n",
       "47329  0xe2d4b960d0c639633582cddef57528461e62083d   \n",
       "47330  0xb44a2acd38f7ee6ae965aa8d77f4f14849770203   \n",
       "\n",
       "                                             source_code  \\\n",
       "0      pragma solidity ^0.4.18;\\n\\n// ---------------...   \n",
       "1      pragma solidity  ^0.4.21;\\n\\n\\ncontract DSMath...   \n",
       "2      pragma solidity ^0.4.20;\\n\\n\\ncontract Ownable...   \n",
       "3      pragma solidity ^0.4.8;\\ncontract Token{\\n    ...   \n",
       "4      pragma solidity 0.4.15;\\n\\ncontract RegistryIC...   \n",
       "...                                                  ...   \n",
       "47326  pragma solidity ^0.4.24;\\n\\n\\n\\n\\n/**\\n * @tit...   \n",
       "47327  pragma solidity ^0.4.18;\\n\\n// ---------------...   \n",
       "47328  pragma solidity ^0.4.23;\\n\\nlibrary SafeMath {...   \n",
       "47329  pragma solidity ^0.4.23;\\n\\n\\n/// @title Multi...   \n",
       "47330  pragma solidity ^0.4.2;  \\n\\ncontract Maurel {...   \n",
       "\n",
       "                                              categories  \\\n",
       "0                  ['Other', 'arithmetic', 'arithmetic']   \n",
       "1      ['arithmetic', 'reentrancy', 'arithmetic', 'ar...   \n",
       "2                                         ['arithmetic']   \n",
       "3      ['arithmetic', 'unchecked_low_calls', 'arithme...   \n",
       "4                                              ['Other']   \n",
       "...                                                  ...   \n",
       "47326  ['reentrancy', 'arithmetic', 'time_manipulatio...   \n",
       "47327              ['Other', 'arithmetic', 'arithmetic']   \n",
       "47328      ['arithmetic', 'arithmetic', 'front_running']   \n",
       "47329  ['arithmetic', 'Other', 'unchecked_low_calls',...   \n",
       "47330                                     ['arithmetic']   \n",
       "\n",
       "                                                   lines  \n",
       "0                                        [154, 141, 103]  \n",
       "1                      [201, 16, 209, 176, 146, 154, 29]  \n",
       "2                                               [82, 46]  \n",
       "3                           [99, 38, 78, 48, 49, 60, 93]  \n",
       "4                                           [80, 28, 63]  \n",
       "...                                                  ...  \n",
       "47326                          [258, 264, 245, 253, 287]  \n",
       "47327                               [200, 218, 128, 102]  \n",
       "47328                                     [124, 20, 205]  \n",
       "47329  [140, 142, 23, 282, 410, 157, 287, 296, 302, 3...  \n",
       "47330                                                [7]  \n",
       "\n",
       "[47331 rows x 4 columns]"
      ]
     },
     "execution_count": 3,
     "metadata": {},
     "output_type": "execute_result"
    }
   ],
   "source": [
    "data = pd.read_pickle(\"/home/bombbom/Documents/NLP_in_Detection_System/dataset_example/labeled_SBW_datasets.pkl\")\n",
    "data"
   ]
  },
  {
   "cell_type": "code",
   "execution_count": 4,
   "metadata": {},
   "outputs": [],
   "source": [
    "# data = data[['address', 'source_code', 'categories']]"
   ]
  },
  {
   "cell_type": "code",
   "execution_count": 4,
   "metadata": {},
   "outputs": [],
   "source": [
    "import re\n",
    "def get_version(source_code):\n",
    "    x = re.findall(\"[0][.][0-9][.][0-9]*[0-9]\", source_code)\n",
    "    if len(x)>0:\n",
    "        return x[0]\n",
    "    return \"0.4.25\""
   ]
  },
  {
   "cell_type": "code",
   "execution_count": 5,
   "metadata": {},
   "outputs": [],
   "source": [
    "data['version'] = data.source_code.apply(get_version)"
   ]
  },
  {
   "cell_type": "code",
   "execution_count": 7,
   "metadata": {},
   "outputs": [],
   "source": [
    "def change(version):\n",
    "    if version =='0.4.99' :\n",
    "        return '0.5.0'"
   ]
  },
  {
   "cell_type": "code",
   "execution_count": 8,
   "metadata": {},
   "outputs": [
    {
     "data": {
      "text/plain": [
       "array(['0.4.18', '0.4.21', '0.4.20', '0.4.8', '0.4.15', '0.4.17',\n",
       "       '0.4.24', '0.4.4', '0.4.19', '0.4.16', '0.4.25', '0.4.13',\n",
       "       '0.4.99', '0.5.0', '0.4.22', '0.4.11', '0.4.23', '0.5.2', '0.5.7',\n",
       "       '0.5.6', '0.5.4', '0.4.0', '0.5.1', '0.4.2', '0.4.3', '0.4.9',\n",
       "       '0.5.5', '0.4.7', '0.4.10', '0.5.00', '0.5.8', '0.4.14', '0.4.12',\n",
       "       '0.7.1', '0.5.9', '0.4.6', '0.1.4', '0.0.1', '0.5.3', '0.3.14',\n",
       "       '0.4.26', '0.1.0', '0.5.10', '0.2.1', '0.4.1', '0.3.6', '0.3.5',\n",
       "       '0.9.9', '0.0.2', '0.4.5', '0.2.4', '0.3.1', '0.1.5', '0.1.2',\n",
       "       '0.3.3', '0.1.3', '0.1.1', '0.3.2', '0.6.0'], dtype=object)"
      ]
     },
     "execution_count": 8,
     "metadata": {},
     "output_type": "execute_result"
    }
   ],
   "source": [
    "data['version'].unique()"
   ]
  },
  {
   "cell_type": "code",
   "execution_count": 9,
   "metadata": {},
   "outputs": [],
   "source": [
    "value = [ '0.4.8', '0.4.4',  '0.4.0',  '0.4.2', '0.4.3', '0.4.9', '0.4.7', '0.4.10', '0.5.00', '0.4.6', '0.1.4', '0.0.1',  '0.3.14','0.1.0',  '0.2.1', '0.4.1', '0.3.6', '0.3.5','0.9.9', '0.0.2', '0.4.5', '0.2.4', '0.3.1', '0.1.5', '0.1.2','0.3.3', '0.1.3', '0.1.1', '0.3.2']\n",
    "\n",
    "def filter_rows_by_values(df, col, values):\n",
    "       df = data[~data[col].isin(values)]\n",
    "       return df\n",
    "       "
   ]
  },
  {
   "cell_type": "code",
   "execution_count": 10,
   "metadata": {},
   "outputs": [],
   "source": [
    "data = filter_rows_by_values(data, \"version\", value)"
   ]
  },
  {
   "cell_type": "code",
   "execution_count": 11,
   "metadata": {},
   "outputs": [
    {
     "data": {
      "text/html": [
       "<div>\n",
       "<style scoped>\n",
       "    .dataframe tbody tr th:only-of-type {\n",
       "        vertical-align: middle;\n",
       "    }\n",
       "\n",
       "    .dataframe tbody tr th {\n",
       "        vertical-align: top;\n",
       "    }\n",
       "\n",
       "    .dataframe thead th {\n",
       "        text-align: right;\n",
       "    }\n",
       "</style>\n",
       "<table border=\"1\" class=\"dataframe\">\n",
       "  <thead>\n",
       "    <tr style=\"text-align: right;\">\n",
       "      <th></th>\n",
       "      <th>address</th>\n",
       "      <th>source_code</th>\n",
       "      <th>categories</th>\n",
       "      <th>lines</th>\n",
       "      <th>version</th>\n",
       "    </tr>\n",
       "  </thead>\n",
       "  <tbody>\n",
       "    <tr>\n",
       "      <th>0</th>\n",
       "      <td>0x21e13cb3f3f26f92a62ac7adab4093e8997d1fb1</td>\n",
       "      <td>pragma solidity ^0.4.18;\\n\\n// ---------------...</td>\n",
       "      <td>['Other', 'arithmetic', 'arithmetic']</td>\n",
       "      <td>[154, 141, 103]</td>\n",
       "      <td>0.4.18</td>\n",
       "    </tr>\n",
       "    <tr>\n",
       "      <th>1</th>\n",
       "      <td>0x344005c29af957567f0b40950b425ed018b92170</td>\n",
       "      <td>pragma solidity  ^0.4.21;\\n\\n\\ncontract DSMath...</td>\n",
       "      <td>['arithmetic', 'reentrancy', 'arithmetic', 'ar...</td>\n",
       "      <td>[201, 16, 209, 176, 146, 154, 29]</td>\n",
       "      <td>0.4.21</td>\n",
       "    </tr>\n",
       "    <tr>\n",
       "      <th>2</th>\n",
       "      <td>0x44e320110176c11c93e116f6770f13d96deded43</td>\n",
       "      <td>pragma solidity ^0.4.20;\\n\\n\\ncontract Ownable...</td>\n",
       "      <td>['arithmetic']</td>\n",
       "      <td>[82, 46]</td>\n",
       "      <td>0.4.20</td>\n",
       "    </tr>\n",
       "    <tr>\n",
       "      <th>3</th>\n",
       "      <td>0xcaf187eb618d2335b4130d784a697be96f4b07b9</td>\n",
       "      <td>pragma solidity 0.4.15;\\n\\ncontract RegistryIC...</td>\n",
       "      <td>['Other']</td>\n",
       "      <td>[80, 28, 63]</td>\n",
       "      <td>0.4.15</td>\n",
       "    </tr>\n",
       "    <tr>\n",
       "      <th>4</th>\n",
       "      <td>0x2ab58a02c4d26bcf3c6116f62ec5c1a6d4c7a53f</td>\n",
       "      <td>pragma solidity ^0.4.18;\\n\\n// File: openzeppe...</td>\n",
       "      <td>['arithmetic', 'front_running', 'Other', 'reen...</td>\n",
       "      <td>[37, 166, 199, 103, 167, 175, 80, 178, 84, 86,...</td>\n",
       "      <td>0.4.18</td>\n",
       "    </tr>\n",
       "    <tr>\n",
       "      <th>...</th>\n",
       "      <td>...</td>\n",
       "      <td>...</td>\n",
       "      <td>...</td>\n",
       "      <td>...</td>\n",
       "      <td>...</td>\n",
       "    </tr>\n",
       "    <tr>\n",
       "      <th>42829</th>\n",
       "      <td>0xc2396239e59d07bd726e94411413a26152e8c733</td>\n",
       "      <td>pragma solidity ^0.4.18;\\n\\n// ---------------...</td>\n",
       "      <td>['Other', 'arithmetic', 'arithmetic']</td>\n",
       "      <td>[129, 219, 201]</td>\n",
       "      <td>0.4.18</td>\n",
       "    </tr>\n",
       "    <tr>\n",
       "      <th>42830</th>\n",
       "      <td>0x7f650f3b231d3a32c2b0e2940e870acdd4aa9961</td>\n",
       "      <td>pragma solidity ^0.4.24;\\n\\n\\n\\n\\n/**\\n * @tit...</td>\n",
       "      <td>['reentrancy', 'arithmetic', 'time_manipulatio...</td>\n",
       "      <td>[258, 264, 245, 253, 287]</td>\n",
       "      <td>0.4.24</td>\n",
       "    </tr>\n",
       "    <tr>\n",
       "      <th>42831</th>\n",
       "      <td>0xc73f2474001ad1d6aed615af53631148cf98de6b</td>\n",
       "      <td>pragma solidity ^0.4.18;\\n\\n// ---------------...</td>\n",
       "      <td>['Other', 'arithmetic', 'arithmetic']</td>\n",
       "      <td>[200, 218, 128, 102]</td>\n",
       "      <td>0.4.18</td>\n",
       "    </tr>\n",
       "    <tr>\n",
       "      <th>42832</th>\n",
       "      <td>0xb2105f178abe620ddbb86a70afa94bfa9daa4d01</td>\n",
       "      <td>pragma solidity ^0.4.23;\\n\\nlibrary SafeMath {...</td>\n",
       "      <td>['arithmetic', 'arithmetic', 'front_running']</td>\n",
       "      <td>[124, 20, 205]</td>\n",
       "      <td>0.4.23</td>\n",
       "    </tr>\n",
       "    <tr>\n",
       "      <th>42833</th>\n",
       "      <td>0xe2d4b960d0c639633582cddef57528461e62083d</td>\n",
       "      <td>pragma solidity ^0.4.23;\\n\\n\\n/// @title Multi...</td>\n",
       "      <td>['arithmetic', 'Other', 'unchecked_low_calls',...</td>\n",
       "      <td>[140, 142, 23, 282, 410, 157, 287, 296, 302, 3...</td>\n",
       "      <td>0.4.23</td>\n",
       "    </tr>\n",
       "  </tbody>\n",
       "</table>\n",
       "<p>42834 rows × 5 columns</p>\n",
       "</div>"
      ],
      "text/plain": [
       "                                          address  \\\n",
       "0      0x21e13cb3f3f26f92a62ac7adab4093e8997d1fb1   \n",
       "1      0x344005c29af957567f0b40950b425ed018b92170   \n",
       "2      0x44e320110176c11c93e116f6770f13d96deded43   \n",
       "3      0xcaf187eb618d2335b4130d784a697be96f4b07b9   \n",
       "4      0x2ab58a02c4d26bcf3c6116f62ec5c1a6d4c7a53f   \n",
       "...                                           ...   \n",
       "42829  0xc2396239e59d07bd726e94411413a26152e8c733   \n",
       "42830  0x7f650f3b231d3a32c2b0e2940e870acdd4aa9961   \n",
       "42831  0xc73f2474001ad1d6aed615af53631148cf98de6b   \n",
       "42832  0xb2105f178abe620ddbb86a70afa94bfa9daa4d01   \n",
       "42833  0xe2d4b960d0c639633582cddef57528461e62083d   \n",
       "\n",
       "                                             source_code  \\\n",
       "0      pragma solidity ^0.4.18;\\n\\n// ---------------...   \n",
       "1      pragma solidity  ^0.4.21;\\n\\n\\ncontract DSMath...   \n",
       "2      pragma solidity ^0.4.20;\\n\\n\\ncontract Ownable...   \n",
       "3      pragma solidity 0.4.15;\\n\\ncontract RegistryIC...   \n",
       "4      pragma solidity ^0.4.18;\\n\\n// File: openzeppe...   \n",
       "...                                                  ...   \n",
       "42829  pragma solidity ^0.4.18;\\n\\n// ---------------...   \n",
       "42830  pragma solidity ^0.4.24;\\n\\n\\n\\n\\n/**\\n * @tit...   \n",
       "42831  pragma solidity ^0.4.18;\\n\\n// ---------------...   \n",
       "42832  pragma solidity ^0.4.23;\\n\\nlibrary SafeMath {...   \n",
       "42833  pragma solidity ^0.4.23;\\n\\n\\n/// @title Multi...   \n",
       "\n",
       "                                              categories  \\\n",
       "0                  ['Other', 'arithmetic', 'arithmetic']   \n",
       "1      ['arithmetic', 'reentrancy', 'arithmetic', 'ar...   \n",
       "2                                         ['arithmetic']   \n",
       "3                                              ['Other']   \n",
       "4      ['arithmetic', 'front_running', 'Other', 'reen...   \n",
       "...                                                  ...   \n",
       "42829              ['Other', 'arithmetic', 'arithmetic']   \n",
       "42830  ['reentrancy', 'arithmetic', 'time_manipulatio...   \n",
       "42831              ['Other', 'arithmetic', 'arithmetic']   \n",
       "42832      ['arithmetic', 'arithmetic', 'front_running']   \n",
       "42833  ['arithmetic', 'Other', 'unchecked_low_calls',...   \n",
       "\n",
       "                                                   lines version  \n",
       "0                                        [154, 141, 103]  0.4.18  \n",
       "1                      [201, 16, 209, 176, 146, 154, 29]  0.4.21  \n",
       "2                                               [82, 46]  0.4.20  \n",
       "3                                           [80, 28, 63]  0.4.15  \n",
       "4      [37, 166, 199, 103, 167, 175, 80, 178, 84, 86,...  0.4.18  \n",
       "...                                                  ...     ...  \n",
       "42829                                    [129, 219, 201]  0.4.18  \n",
       "42830                          [258, 264, 245, 253, 287]  0.4.24  \n",
       "42831                               [200, 218, 128, 102]  0.4.18  \n",
       "42832                                     [124, 20, 205]  0.4.23  \n",
       "42833  [140, 142, 23, 282, 410, 157, 287, 296, 302, 3...  0.4.23  \n",
       "\n",
       "[42834 rows x 5 columns]"
      ]
     },
     "execution_count": 11,
     "metadata": {},
     "output_type": "execute_result"
    }
   ],
   "source": [
    "data.reset_index(drop = \"True\")"
   ]
  },
  {
   "cell_type": "code",
   "execution_count": 12,
   "metadata": {},
   "outputs": [
    {
     "name": "stderr",
     "output_type": "stream",
     "text": [
      "/tmp/ipykernel_105203/1490153070.py:1: SettingWithCopyWarning: \n",
      "A value is trying to be set on a copy of a slice from a DataFrame.\n",
      "Try using .loc[row_indexer,col_indexer] = value instead\n",
      "\n",
      "See the caveats in the documentation: https://pandas.pydata.org/pandas-docs/stable/user_guide/indexing.html#returning-a-view-versus-a-copy\n",
      "  data.version = data.version.apply(change)\n"
     ]
    }
   ],
   "source": [
    "data.version = data.version.apply(change)"
   ]
  },
  {
   "cell_type": "code",
   "execution_count": 21,
   "metadata": {},
   "outputs": [
    {
     "data": {
      "text/plain": [
       "Version('0.4.11')"
      ]
     },
     "execution_count": 21,
     "metadata": {},
     "output_type": "execute_result"
    }
   ],
   "source": [
    "import solcx\n",
    "solcx.install_solc('0.4.11')"
   ]
  },
  {
   "cell_type": "code",
   "execution_count": 13,
   "metadata": {},
   "outputs": [],
   "source": [
    "import os\n",
    "import solcx\n",
    "def compiler(input):\n",
    "    version = get_version(input)\n",
    "    token = \"\"\n",
    "    \n",
    "    try: \n",
    "        solcx.install_solc(version)\n",
    "        a = solcx.compile_source(\n",
    "            input,\n",
    "            output_values=[\"opcodes\"],\n",
    "            solc_version=version\n",
    "        )\n",
    "        \n",
    "        for key, value in a.items():\n",
    "            for k in value:\n",
    "                # print(value[k])\n",
    "                # print(len(value[k]))\n",
    "                # token = value[k].split()\n",
    "                # print(len(token))\n",
    "                token = value[k]\n",
    "    except:\n",
    "        token=\"\"\n",
    "    \n",
    "    return token"
   ]
  },
  {
   "cell_type": "code",
   "execution_count": 14,
   "metadata": {},
   "outputs": [
    {
     "name": "stderr",
     "output_type": "stream",
     "text": [
      "/tmp/ipykernel_105203/1518998255.py:1: SettingWithCopyWarning: \n",
      "A value is trying to be set on a copy of a slice from a DataFrame.\n",
      "Try using .loc[row_indexer,col_indexer] = value instead\n",
      "\n",
      "See the caveats in the documentation: https://pandas.pydata.org/pandas-docs/stable/user_guide/indexing.html#returning-a-view-versus-a-copy\n",
      "  data['opcode'] = data.source_code.apply(compiler)\n"
     ]
    }
   ],
   "source": [
    "data['opcode'] = data.source_code.apply(compiler)"
   ]
  },
  {
   "cell_type": "code",
   "execution_count": 9,
   "metadata": {},
   "outputs": [],
   "source": [
    "data.to_pickle(\"data_full.pkl\")"
   ]
  },
  {
   "cell_type": "code",
   "execution_count": 10,
   "metadata": {},
   "outputs": [
    {
     "data": {
      "text/html": [
       "<div>\n",
       "<style scoped>\n",
       "    .dataframe tbody tr th:only-of-type {\n",
       "        vertical-align: middle;\n",
       "    }\n",
       "\n",
       "    .dataframe tbody tr th {\n",
       "        vertical-align: top;\n",
       "    }\n",
       "\n",
       "    .dataframe thead th {\n",
       "        text-align: right;\n",
       "    }\n",
       "</style>\n",
       "<table border=\"1\" class=\"dataframe\">\n",
       "  <thead>\n",
       "    <tr style=\"text-align: right;\">\n",
       "      <th></th>\n",
       "      <th>source_code</th>\n",
       "      <th>version</th>\n",
       "    </tr>\n",
       "  </thead>\n",
       "  <tbody>\n",
       "    <tr>\n",
       "      <th>0</th>\n",
       "      <td>PUSH1 0x60 PUSH1 0x40 MSTORE CALLVALUE ISZERO ...</td>\n",
       "      <td>None</td>\n",
       "    </tr>\n",
       "    <tr>\n",
       "      <th>1</th>\n",
       "      <td>PUSH1 0x60 PUSH1 0x40 MSTORE CALLVALUE ISZERO ...</td>\n",
       "      <td>None</td>\n",
       "    </tr>\n",
       "    <tr>\n",
       "      <th>2</th>\n",
       "      <td>PUSH1 0x60 PUSH1 0x40 MSTORE CALLVALUE ISZERO ...</td>\n",
       "      <td>None</td>\n",
       "    </tr>\n",
       "    <tr>\n",
       "      <th>4</th>\n",
       "      <td>PUSH1 0x60 PUSH1 0x40 MSTORE CALLVALUE ISZERO ...</td>\n",
       "      <td>None</td>\n",
       "    </tr>\n",
       "    <tr>\n",
       "      <th>5</th>\n",
       "      <td>PUSH1 0x60 PUSH1 0x40 MSTORE PUSH1 0x40 DUP1 M...</td>\n",
       "      <td>None</td>\n",
       "    </tr>\n",
       "    <tr>\n",
       "      <th>...</th>\n",
       "      <td>...</td>\n",
       "      <td>...</td>\n",
       "    </tr>\n",
       "    <tr>\n",
       "      <th>47325</th>\n",
       "      <td>PUSH1 0x60 PUSH1 0x40 MSTORE CALLVALUE ISZERO ...</td>\n",
       "      <td>None</td>\n",
       "    </tr>\n",
       "    <tr>\n",
       "      <th>47326</th>\n",
       "      <td>PUSH1 0x4C PUSH1 0x2C PUSH1 0xB DUP3 DUP3 DUP3...</td>\n",
       "      <td>None</td>\n",
       "    </tr>\n",
       "    <tr>\n",
       "      <th>47327</th>\n",
       "      <td>PUSH1 0x60 PUSH1 0x40 MSTORE CALLVALUE ISZERO ...</td>\n",
       "      <td>None</td>\n",
       "    </tr>\n",
       "    <tr>\n",
       "      <th>47328</th>\n",
       "      <td>PUSH1 0x4C PUSH1 0x2C PUSH1 0xB DUP3 DUP3 DUP3...</td>\n",
       "      <td>None</td>\n",
       "    </tr>\n",
       "    <tr>\n",
       "      <th>47329</th>\n",
       "      <td>PUSH1 0x80 PUSH1 0x40 MSTORE CALLVALUE DUP1 IS...</td>\n",
       "      <td>None</td>\n",
       "    </tr>\n",
       "  </tbody>\n",
       "</table>\n",
       "<p>42834 rows × 2 columns</p>\n",
       "</div>"
      ],
      "text/plain": [
       "                                             source_code version\n",
       "0      PUSH1 0x60 PUSH1 0x40 MSTORE CALLVALUE ISZERO ...    None\n",
       "1      PUSH1 0x60 PUSH1 0x40 MSTORE CALLVALUE ISZERO ...    None\n",
       "2      PUSH1 0x60 PUSH1 0x40 MSTORE CALLVALUE ISZERO ...    None\n",
       "4      PUSH1 0x60 PUSH1 0x40 MSTORE CALLVALUE ISZERO ...    None\n",
       "5      PUSH1 0x60 PUSH1 0x40 MSTORE PUSH1 0x40 DUP1 M...    None\n",
       "...                                                  ...     ...\n",
       "47325  PUSH1 0x60 PUSH1 0x40 MSTORE CALLVALUE ISZERO ...    None\n",
       "47326  PUSH1 0x4C PUSH1 0x2C PUSH1 0xB DUP3 DUP3 DUP3...    None\n",
       "47327  PUSH1 0x60 PUSH1 0x40 MSTORE CALLVALUE ISZERO ...    None\n",
       "47328  PUSH1 0x4C PUSH1 0x2C PUSH1 0xB DUP3 DUP3 DUP3...    None\n",
       "47329  PUSH1 0x80 PUSH1 0x40 MSTORE CALLVALUE DUP1 IS...    None\n",
       "\n",
       "[42834 rows x 2 columns]"
      ]
     },
     "execution_count": 10,
     "metadata": {},
     "output_type": "execute_result"
    }
   ],
   "source": [
    "data"
   ]
  },
  {
   "cell_type": "code",
   "execution_count": 11,
   "metadata": {},
   "outputs": [],
   "source": [
    "data=data[['source_code']]"
   ]
  },
  {
   "cell_type": "code",
   "execution_count": 14,
   "metadata": {},
   "outputs": [],
   "source": [
    "data = data.reset_index(drop=True)"
   ]
  },
  {
   "cell_type": "code",
   "execution_count": 7,
   "metadata": {},
   "outputs": [],
   "source": [
    "data =pd.read_pickle(\"/home/bombbom/Documents/NLP_in_Detection_System/data.pkl\")"
   ]
  },
  {
   "cell_type": "code",
   "execution_count": 15,
   "metadata": {},
   "outputs": [
    {
     "data": {
      "text/html": [
       "<div>\n",
       "<style scoped>\n",
       "    .dataframe tbody tr th:only-of-type {\n",
       "        vertical-align: middle;\n",
       "    }\n",
       "\n",
       "    .dataframe tbody tr th {\n",
       "        vertical-align: top;\n",
       "    }\n",
       "\n",
       "    .dataframe thead th {\n",
       "        text-align: right;\n",
       "    }\n",
       "</style>\n",
       "<table border=\"1\" class=\"dataframe\">\n",
       "  <thead>\n",
       "    <tr style=\"text-align: right;\">\n",
       "      <th></th>\n",
       "      <th>source_code</th>\n",
       "    </tr>\n",
       "  </thead>\n",
       "  <tbody>\n",
       "    <tr>\n",
       "      <th>0</th>\n",
       "      <td>PUSH1 0x60 PUSH1 0x40 MSTORE CALLVALUE ISZERO ...</td>\n",
       "    </tr>\n",
       "    <tr>\n",
       "      <th>1</th>\n",
       "      <td>PUSH1 0x60 PUSH1 0x40 MSTORE CALLVALUE ISZERO ...</td>\n",
       "    </tr>\n",
       "    <tr>\n",
       "      <th>2</th>\n",
       "      <td>PUSH1 0x60 PUSH1 0x40 MSTORE CALLVALUE ISZERO ...</td>\n",
       "    </tr>\n",
       "    <tr>\n",
       "      <th>3</th>\n",
       "      <td>PUSH1 0x60 PUSH1 0x40 MSTORE CALLVALUE ISZERO ...</td>\n",
       "    </tr>\n",
       "    <tr>\n",
       "      <th>4</th>\n",
       "      <td>PUSH1 0x60 PUSH1 0x40 MSTORE PUSH1 0x40 DUP1 M...</td>\n",
       "    </tr>\n",
       "    <tr>\n",
       "      <th>...</th>\n",
       "      <td>...</td>\n",
       "    </tr>\n",
       "    <tr>\n",
       "      <th>42829</th>\n",
       "      <td>PUSH1 0x60 PUSH1 0x40 MSTORE CALLVALUE ISZERO ...</td>\n",
       "    </tr>\n",
       "    <tr>\n",
       "      <th>42830</th>\n",
       "      <td>PUSH1 0x4C PUSH1 0x2C PUSH1 0xB DUP3 DUP3 DUP3...</td>\n",
       "    </tr>\n",
       "    <tr>\n",
       "      <th>42831</th>\n",
       "      <td>PUSH1 0x60 PUSH1 0x40 MSTORE CALLVALUE ISZERO ...</td>\n",
       "    </tr>\n",
       "    <tr>\n",
       "      <th>42832</th>\n",
       "      <td>PUSH1 0x4C PUSH1 0x2C PUSH1 0xB DUP3 DUP3 DUP3...</td>\n",
       "    </tr>\n",
       "    <tr>\n",
       "      <th>42833</th>\n",
       "      <td>PUSH1 0x80 PUSH1 0x40 MSTORE CALLVALUE DUP1 IS...</td>\n",
       "    </tr>\n",
       "  </tbody>\n",
       "</table>\n",
       "<p>42834 rows × 1 columns</p>\n",
       "</div>"
      ],
      "text/plain": [
       "                                             source_code\n",
       "0      PUSH1 0x60 PUSH1 0x40 MSTORE CALLVALUE ISZERO ...\n",
       "1      PUSH1 0x60 PUSH1 0x40 MSTORE CALLVALUE ISZERO ...\n",
       "2      PUSH1 0x60 PUSH1 0x40 MSTORE CALLVALUE ISZERO ...\n",
       "3      PUSH1 0x60 PUSH1 0x40 MSTORE CALLVALUE ISZERO ...\n",
       "4      PUSH1 0x60 PUSH1 0x40 MSTORE PUSH1 0x40 DUP1 M...\n",
       "...                                                  ...\n",
       "42829  PUSH1 0x60 PUSH1 0x40 MSTORE CALLVALUE ISZERO ...\n",
       "42830  PUSH1 0x4C PUSH1 0x2C PUSH1 0xB DUP3 DUP3 DUP3...\n",
       "42831  PUSH1 0x60 PUSH1 0x40 MSTORE CALLVALUE ISZERO ...\n",
       "42832  PUSH1 0x4C PUSH1 0x2C PUSH1 0xB DUP3 DUP3 DUP3...\n",
       "42833  PUSH1 0x80 PUSH1 0x40 MSTORE CALLVALUE DUP1 IS...\n",
       "\n",
       "[42834 rows x 1 columns]"
      ]
     },
     "execution_count": 15,
     "metadata": {},
     "output_type": "execute_result"
    }
   ],
   "source": [
    "data"
   ]
  },
  {
   "cell_type": "code",
   "execution_count": null,
   "metadata": {},
   "outputs": [],
   "source": []
  },
  {
   "cell_type": "code",
   "execution_count": 16,
   "metadata": {},
   "outputs": [],
   "source": [
    "data = Dataset.from_pandas(data)"
   ]
  },
  {
   "cell_type": "code",
   "execution_count": 17,
   "metadata": {},
   "outputs": [],
   "source": [
    "def get_training_corpus():\n",
    "    return (\n",
    "        data[i : i + 1000][\"source_code\"]\n",
    "        for i in range(0, len(data), 1000)\n",
    "    )\n",
    "\n",
    "\n",
    "training_corpus = get_training_corpus()"
   ]
  },
  {
   "cell_type": "code",
   "execution_count": 18,
   "metadata": {},
   "outputs": [],
   "source": [
    "from transformers import AutoTokenizer\n",
    "\n",
    "old_tokenizer = AutoTokenizer.from_pretrained(\"distilbert-base-uncased\")"
   ]
  },
  {
   "cell_type": "code",
   "execution_count": 19,
   "metadata": {},
   "outputs": [
    {
     "data": {
      "text/plain": [
       "['push',\n",
       " '##1',\n",
       " '0',\n",
       " '##x',\n",
       " '##80',\n",
       " 'push',\n",
       " '##1',\n",
       " '0',\n",
       " '##x',\n",
       " '##40',\n",
       " 'ms',\n",
       " '##tore',\n",
       " 'call',\n",
       " '##val',\n",
       " '##ue',\n",
       " 'du',\n",
       " '##p',\n",
       " '##1']"
      ]
     },
     "execution_count": 19,
     "metadata": {},
     "output_type": "execute_result"
    }
   ],
   "source": [
    "example = '''PUSH1 0x80 PUSH1 0x40 MSTORE CALLVALUE DUP1'''\n",
    "\n",
    "tokens = old_tokenizer.tokenize(example)\n",
    "tokens"
   ]
  },
  {
   "cell_type": "code",
   "execution_count": 20,
   "metadata": {},
   "outputs": [
    {
     "data": {
      "text/plain": [
       "145"
      ]
     },
     "execution_count": 20,
     "metadata": {},
     "output_type": "execute_result"
    }
   ],
   "source": [
    "old_tokenizer.add_tokens(list(int2op.values()))"
   ]
  },
  {
   "cell_type": "code",
   "execution_count": 21,
   "metadata": {},
   "outputs": [
    {
     "name": "stdout",
     "output_type": "stream",
     "text": [
      "\n",
      "\n",
      "\n"
     ]
    }
   ],
   "source": [
    "tokenizer = old_tokenizer.train_new_from_iterator(training_corpus, 52000)\n"
   ]
  },
  {
   "cell_type": "code",
   "execution_count": 22,
   "metadata": {},
   "outputs": [
    {
     "data": {
      "text/plain": [
       "['push1', '0x80', 'push1', '0x40', 'mstore', 'callvalue', 'dup1']"
      ]
     },
     "execution_count": 22,
     "metadata": {},
     "output_type": "execute_result"
    }
   ],
   "source": [
    "tokens = tokenizer.tokenize(example)\n",
    "tokens"
   ]
  },
  {
   "cell_type": "code",
   "execution_count": 23,
   "metadata": {},
   "outputs": [
    {
     "data": {
      "text/plain": [
       "('/home/bombbom/Documents/NLP_in_Detection_System/save_model/tokenizer_opcode/tokenizer_config.json',\n",
       " '/home/bombbom/Documents/NLP_in_Detection_System/save_model/tokenizer_opcode/special_tokens_map.json',\n",
       " '/home/bombbom/Documents/NLP_in_Detection_System/save_model/tokenizer_opcode/vocab.txt',\n",
       " '/home/bombbom/Documents/NLP_in_Detection_System/save_model/tokenizer_opcode/added_tokens.json',\n",
       " '/home/bombbom/Documents/NLP_in_Detection_System/save_model/tokenizer_opcode/tokenizer.json')"
      ]
     },
     "execution_count": 23,
     "metadata": {},
     "output_type": "execute_result"
    }
   ],
   "source": [
    "tokenizer.save_pretrained(\"/home/bombbom/Documents/NLP_in_Detection_System/save_model/tokenizer_opcode/\")"
   ]
  },
  {
   "attachments": {},
   "cell_type": "markdown",
   "metadata": {},
   "source": [
    "# Pretrain"
   ]
  },
  {
   "cell_type": "code",
   "execution_count": 24,
   "metadata": {},
   "outputs": [],
   "source": [
    "df=pd.read_pickle(\"/home/bombbom/Documents/NLP_in_Detection_System/data.pkl\")"
   ]
  },
  {
   "cell_type": "code",
   "execution_count": 25,
   "metadata": {},
   "outputs": [],
   "source": [
    "df =df[['source_code']]"
   ]
  },
  {
   "cell_type": "code",
   "execution_count": 26,
   "metadata": {},
   "outputs": [
    {
     "data": {
      "text/html": [
       "<div>\n",
       "<style scoped>\n",
       "    .dataframe tbody tr th:only-of-type {\n",
       "        vertical-align: middle;\n",
       "    }\n",
       "\n",
       "    .dataframe tbody tr th {\n",
       "        vertical-align: top;\n",
       "    }\n",
       "\n",
       "    .dataframe thead th {\n",
       "        text-align: right;\n",
       "    }\n",
       "</style>\n",
       "<table border=\"1\" class=\"dataframe\">\n",
       "  <thead>\n",
       "    <tr style=\"text-align: right;\">\n",
       "      <th></th>\n",
       "      <th>source_code</th>\n",
       "    </tr>\n",
       "  </thead>\n",
       "  <tbody>\n",
       "    <tr>\n",
       "      <th>0</th>\n",
       "      <td>PUSH1 0x60 PUSH1 0x40 MSTORE CALLVALUE ISZERO ...</td>\n",
       "    </tr>\n",
       "    <tr>\n",
       "      <th>1</th>\n",
       "      <td>PUSH1 0x60 PUSH1 0x40 MSTORE CALLVALUE ISZERO ...</td>\n",
       "    </tr>\n",
       "    <tr>\n",
       "      <th>2</th>\n",
       "      <td>PUSH1 0x60 PUSH1 0x40 MSTORE CALLVALUE ISZERO ...</td>\n",
       "    </tr>\n",
       "    <tr>\n",
       "      <th>4</th>\n",
       "      <td>PUSH1 0x60 PUSH1 0x40 MSTORE CALLVALUE ISZERO ...</td>\n",
       "    </tr>\n",
       "    <tr>\n",
       "      <th>5</th>\n",
       "      <td>PUSH1 0x60 PUSH1 0x40 MSTORE PUSH1 0x40 DUP1 M...</td>\n",
       "    </tr>\n",
       "    <tr>\n",
       "      <th>...</th>\n",
       "      <td>...</td>\n",
       "    </tr>\n",
       "    <tr>\n",
       "      <th>47325</th>\n",
       "      <td>PUSH1 0x60 PUSH1 0x40 MSTORE CALLVALUE ISZERO ...</td>\n",
       "    </tr>\n",
       "    <tr>\n",
       "      <th>47326</th>\n",
       "      <td>PUSH1 0x4C PUSH1 0x2C PUSH1 0xB DUP3 DUP3 DUP3...</td>\n",
       "    </tr>\n",
       "    <tr>\n",
       "      <th>47327</th>\n",
       "      <td>PUSH1 0x60 PUSH1 0x40 MSTORE CALLVALUE ISZERO ...</td>\n",
       "    </tr>\n",
       "    <tr>\n",
       "      <th>47328</th>\n",
       "      <td>PUSH1 0x4C PUSH1 0x2C PUSH1 0xB DUP3 DUP3 DUP3...</td>\n",
       "    </tr>\n",
       "    <tr>\n",
       "      <th>47329</th>\n",
       "      <td>PUSH1 0x80 PUSH1 0x40 MSTORE CALLVALUE DUP1 IS...</td>\n",
       "    </tr>\n",
       "  </tbody>\n",
       "</table>\n",
       "<p>42834 rows × 1 columns</p>\n",
       "</div>"
      ],
      "text/plain": [
       "                                             source_code\n",
       "0      PUSH1 0x60 PUSH1 0x40 MSTORE CALLVALUE ISZERO ...\n",
       "1      PUSH1 0x60 PUSH1 0x40 MSTORE CALLVALUE ISZERO ...\n",
       "2      PUSH1 0x60 PUSH1 0x40 MSTORE CALLVALUE ISZERO ...\n",
       "4      PUSH1 0x60 PUSH1 0x40 MSTORE CALLVALUE ISZERO ...\n",
       "5      PUSH1 0x60 PUSH1 0x40 MSTORE PUSH1 0x40 DUP1 M...\n",
       "...                                                  ...\n",
       "47325  PUSH1 0x60 PUSH1 0x40 MSTORE CALLVALUE ISZERO ...\n",
       "47326  PUSH1 0x4C PUSH1 0x2C PUSH1 0xB DUP3 DUP3 DUP3...\n",
       "47327  PUSH1 0x60 PUSH1 0x40 MSTORE CALLVALUE ISZERO ...\n",
       "47328  PUSH1 0x4C PUSH1 0x2C PUSH1 0xB DUP3 DUP3 DUP3...\n",
       "47329  PUSH1 0x80 PUSH1 0x40 MSTORE CALLVALUE DUP1 IS...\n",
       "\n",
       "[42834 rows x 1 columns]"
      ]
     },
     "execution_count": 26,
     "metadata": {},
     "output_type": "execute_result"
    }
   ],
   "source": [
    "df"
   ]
  },
  {
   "cell_type": "code",
   "execution_count": 28,
   "metadata": {},
   "outputs": [],
   "source": [
    "from sklearn.model_selection import train_test_split\n",
    "\n",
    "train, test = train_test_split(df,test_size=0.3, random_state=20)"
   ]
  },
  {
   "cell_type": "code",
   "execution_count": 29,
   "metadata": {},
   "outputs": [],
   "source": [
    "train, val = train_test_split(train,test_size=0.15, random_state=20)"
   ]
  },
  {
   "cell_type": "code",
   "execution_count": 30,
   "metadata": {},
   "outputs": [],
   "source": [
    "data_train = Dataset.from_pandas(train)\n",
    "data_test = Dataset.from_pandas(test)\n",
    "data_val = Dataset.from_pandas(val)"
   ]
  },
  {
   "cell_type": "code",
   "execution_count": 31,
   "metadata": {},
   "outputs": [],
   "source": [
    "def preprocess_function(examples):\n",
    "    return tokenizer([\" \".join(x) for x in examples[\"source_code\"]], padding = \"max_length\", truncation=True)\n",
    "\n",
    "block_size = 128\n",
    "\n",
    "def group_texts(examples):\n",
    "    # Concatenate all texts.\n",
    "    concatenated_examples = {k: sum(examples[k], []) for k in examples.keys()}\n",
    "    total_length = len(concatenated_examples[list(examples.keys())[0]])\n",
    "    # We drop the small remainder, we could add padding if the model supported it instead of this drop, you can\n",
    "    # customize this part to your needs.\n",
    "    if total_length >= block_size:\n",
    "        total_length = (total_length // block_size) * block_size\n",
    "    # Split by chunks of block_size.\n",
    "    result = {\n",
    "        k: [t[i : i + block_size] for i in range(0, total_length, block_size)]\n",
    "        for k, t in concatenated_examples.items()\n",
    "    }\n",
    "    result[\"labels\"] = result[\"input_ids\"].copy()\n",
    "    return result\n"
   ]
  },
  {
   "cell_type": "code",
   "execution_count": 32,
   "metadata": {},
   "outputs": [
    {
     "name": "stderr",
     "output_type": "stream",
     "text": [
      "                                                                               \r"
     ]
    }
   ],
   "source": [
    "tokenized_data_train = data_train.map(preprocess_function, batched = True, num_proc=4, remove_columns = data_train.column_names)\n",
    "tokenized_data_val = data_val.map(preprocess_function, batched = True, num_proc=4, remove_columns = data_val.column_names)\n"
   ]
  },
  {
   "cell_type": "code",
   "execution_count": 33,
   "metadata": {},
   "outputs": [
    {
     "name": "stderr",
     "output_type": "stream",
     "text": [
      "                                                                                \r"
     ]
    }
   ],
   "source": [
    "lm_dataset_train = tokenized_data_train.map(group_texts, batched=True, num_proc=4 )\n",
    "lm_dataset_val = tokenized_data_val.map(group_texts, batched=True, num_proc=4)"
   ]
  },
  {
   "cell_type": "code",
   "execution_count": 36,
   "metadata": {},
   "outputs": [
    {
     "name": "stdout",
     "output_type": "stream",
     "text": [
      "DistilBertForMaskedLM(\n",
      "  (activation): GELUActivation()\n",
      "  (distilbert): DistilBertModel(\n",
      "    (embeddings): Embeddings(\n",
      "      (word_embeddings): Embedding(30522, 768, padding_idx=0)\n",
      "      (position_embeddings): Embedding(512, 768)\n",
      "      (LayerNorm): LayerNorm((768,), eps=1e-12, elementwise_affine=True)\n",
      "      (dropout): Dropout(p=0.1, inplace=False)\n",
      "    )\n",
      "    (transformer): Transformer(\n",
      "      (layer): ModuleList(\n",
      "        (0-5): 6 x TransformerBlock(\n",
      "          (attention): MultiHeadSelfAttention(\n",
      "            (dropout): Dropout(p=0.1, inplace=False)\n",
      "            (q_lin): Linear(in_features=768, out_features=768, bias=True)\n",
      "            (k_lin): Linear(in_features=768, out_features=768, bias=True)\n",
      "            (v_lin): Linear(in_features=768, out_features=768, bias=True)\n",
      "            (out_lin): Linear(in_features=768, out_features=768, bias=True)\n",
      "          )\n",
      "          (sa_layer_norm): LayerNorm((768,), eps=1e-12, elementwise_affine=True)\n",
      "          (ffn): FFN(\n",
      "            (dropout): Dropout(p=0.1, inplace=False)\n",
      "            (lin1): Linear(in_features=768, out_features=3072, bias=True)\n",
      "            (lin2): Linear(in_features=3072, out_features=768, bias=True)\n",
      "            (activation): GELUActivation()\n",
      "          )\n",
      "          (output_layer_norm): LayerNorm((768,), eps=1e-12, elementwise_affine=True)\n",
      "        )\n",
      "      )\n",
      "    )\n",
      "  )\n",
      "  (vocab_transform): Linear(in_features=768, out_features=768, bias=True)\n",
      "  (vocab_layer_norm): LayerNorm((768,), eps=1e-12, elementwise_affine=True)\n",
      "  (vocab_projector): Linear(in_features=768, out_features=30522, bias=True)\n",
      "  (mlm_loss_fct): CrossEntropyLoss()\n",
      ")\n",
      "DistilBertForMaskedLM(\n",
      "  (activation): GELUActivation()\n",
      "  (distilbert): DistilBertModel(\n",
      "    (embeddings): Embeddings(\n",
      "      (word_embeddings): Embedding(52000, 768)\n",
      "      (position_embeddings): Embedding(512, 768)\n",
      "      (LayerNorm): LayerNorm((768,), eps=1e-12, elementwise_affine=True)\n",
      "      (dropout): Dropout(p=0.1, inplace=False)\n",
      "    )\n",
      "    (transformer): Transformer(\n",
      "      (layer): ModuleList(\n",
      "        (0-5): 6 x TransformerBlock(\n",
      "          (attention): MultiHeadSelfAttention(\n",
      "            (dropout): Dropout(p=0.1, inplace=False)\n",
      "            (q_lin): Linear(in_features=768, out_features=768, bias=True)\n",
      "            (k_lin): Linear(in_features=768, out_features=768, bias=True)\n",
      "            (v_lin): Linear(in_features=768, out_features=768, bias=True)\n",
      "            (out_lin): Linear(in_features=768, out_features=768, bias=True)\n",
      "          )\n",
      "          (sa_layer_norm): LayerNorm((768,), eps=1e-12, elementwise_affine=True)\n",
      "          (ffn): FFN(\n",
      "            (dropout): Dropout(p=0.1, inplace=False)\n",
      "            (lin1): Linear(in_features=768, out_features=3072, bias=True)\n",
      "            (lin2): Linear(in_features=3072, out_features=768, bias=True)\n",
      "            (activation): GELUActivation()\n",
      "          )\n",
      "          (output_layer_norm): LayerNorm((768,), eps=1e-12, elementwise_affine=True)\n",
      "        )\n",
      "      )\n",
      "    )\n",
      "  )\n",
      "  (vocab_transform): Linear(in_features=768, out_features=768, bias=True)\n",
      "  (vocab_layer_norm): LayerNorm((768,), eps=1e-12, elementwise_affine=True)\n",
      "  (vocab_projector): Linear(in_features=768, out_features=52000, bias=True)\n",
      "  (mlm_loss_fct): CrossEntropyLoss()\n",
      ")\n"
     ]
    }
   ],
   "source": [
    "from transformers import DataCollatorForLanguageModeling\n",
    "\n",
    "data_collator = DataCollatorForLanguageModeling(tokenizer=tokenizer, mlm_probability=0.15)\n",
    "from transformers import AutoModelForMaskedLM\n",
    "model = AutoModelForMaskedLM.from_pretrained(\"distilbert-base-uncased\")\n",
    "print(model)\n",
    "# %%\n",
    "len(tokenizer)\n",
    "## Resize \n",
    "model.resize_token_embeddings(len(tokenizer))\n",
    "print(model)"
   ]
  },
  {
   "cell_type": "code",
   "execution_count": 37,
   "metadata": {},
   "outputs": [],
   "source": [
    "## Step 5: Setup training_args \n",
    "from transformers import Trainer, TrainingArguments\n",
    "training_args = TrainingArguments(\n",
    "    output_dir=\"pre-train-mlm_opcode\",\n",
    "    evaluation_strategy=\"epoch\",\n",
    "    learning_rate=2e-5,\n",
    "    num_train_epochs=10,\n",
    "    weight_decay=0.01,\n",
    "    save_steps=10000,\n",
    "    push_to_hub=False,\n",
    ")\n",
    "\n",
    "trainer = Trainer(\n",
    "    model=model,\n",
    "    args=training_args,\n",
    "    train_dataset=lm_dataset_train,\n",
    "    eval_dataset=lm_dataset_val,\n",
    "    data_collator=data_collator,\n",
    ")\n"
   ]
  },
  {
   "cell_type": "code",
   "execution_count": 38,
   "metadata": {},
   "outputs": [
    {
     "name": "stderr",
     "output_type": "stream",
     "text": [
      "/home/bombbom/Documents/NLP_in_Detection_System/env_nlp/lib/python3.8/site-packages/transformers/optimization.py:411: FutureWarning: This implementation of AdamW is deprecated and will be removed in a future version. Use the PyTorch implementation torch.optim.AdamW instead, or set `no_deprecation_warning=True` to disable this warning\n",
      "  warnings.warn(\n",
      "  0%|          | 0/127430 [00:00<?, ?it/s]You're using a DistilBertTokenizerFast tokenizer. Please note that with a fast tokenizer, using the `__call__` method is faster than using a method to encode the text followed by a call to the `pad` method to get a padded encoding.\n",
      "  0%|          | 500/127430 [05:27<27:28:00,  1.28it/s]"
     ]
    },
    {
     "name": "stdout",
     "output_type": "stream",
     "text": [
      "{'loss': 3.1237, 'learning_rate': 1.9921525543435614e-05, 'epoch': 0.04}\n"
     ]
    },
    {
     "name": "stderr",
     "output_type": "stream",
     "text": [
      "  1%|          | 1000/127430 [13:35<39:21:16,  1.12s/it]"
     ]
    },
    {
     "name": "stdout",
     "output_type": "stream",
     "text": [
      "{'loss': 1.7057, 'learning_rate': 1.9843051086871227e-05, 'epoch': 0.08}\n"
     ]
    },
    {
     "name": "stderr",
     "output_type": "stream",
     "text": [
      "  1%|          | 1500/127430 [23:41<45:39:17,  1.31s/it]"
     ]
    },
    {
     "name": "stdout",
     "output_type": "stream",
     "text": [
      "{'loss': 1.0983, 'learning_rate': 1.9764576630306837e-05, 'epoch': 0.12}\n"
     ]
    },
    {
     "name": "stderr",
     "output_type": "stream",
     "text": [
      "  2%|▏         | 2000/127430 [34:43<50:07:11,  1.44s/it]"
     ]
    },
    {
     "name": "stdout",
     "output_type": "stream",
     "text": [
      "{'loss': 0.7229, 'learning_rate': 1.9686102173742446e-05, 'epoch': 0.16}\n"
     ]
    },
    {
     "name": "stderr",
     "output_type": "stream",
     "text": [
      "  2%|▏         | 2500/127430 [45:48<47:15:19,  1.36s/it]"
     ]
    },
    {
     "name": "stdout",
     "output_type": "stream",
     "text": [
      "{'loss': 0.5268, 'learning_rate': 1.960762771717806e-05, 'epoch': 0.2}\n"
     ]
    },
    {
     "name": "stderr",
     "output_type": "stream",
     "text": [
      "  2%|▏         | 3000/127430 [56:45<42:36:41,  1.23s/it]"
     ]
    },
    {
     "name": "stdout",
     "output_type": "stream",
     "text": [
      "{'loss': 0.4495, 'learning_rate': 1.952915326061367e-05, 'epoch': 0.24}\n"
     ]
    },
    {
     "name": "stderr",
     "output_type": "stream",
     "text": [
      "  3%|▎         | 3500/127430 [1:07:46<43:40:27,  1.27s/it]"
     ]
    },
    {
     "name": "stdout",
     "output_type": "stream",
     "text": [
      "{'loss': 0.4057, 'learning_rate': 1.9450678804049284e-05, 'epoch': 0.27}\n"
     ]
    },
    {
     "name": "stderr",
     "output_type": "stream",
     "text": [
      "  3%|▎         | 4000/127430 [1:18:44<47:59:55,  1.40s/it]"
     ]
    },
    {
     "name": "stdout",
     "output_type": "stream",
     "text": [
      "{'loss': 0.3692, 'learning_rate': 1.9372204347484894e-05, 'epoch': 0.31}\n"
     ]
    },
    {
     "name": "stderr",
     "output_type": "stream",
     "text": [
      "  4%|▎         | 4500/127430 [1:29:44<47:13:26,  1.38s/it]"
     ]
    },
    {
     "name": "stdout",
     "output_type": "stream",
     "text": [
      "{'loss': 0.3589, 'learning_rate': 1.9293729890920507e-05, 'epoch': 0.35}\n"
     ]
    },
    {
     "name": "stderr",
     "output_type": "stream",
     "text": [
      "  4%|▍         | 5000/127430 [1:40:29<46:00:28,  1.35s/it]"
     ]
    },
    {
     "name": "stdout",
     "output_type": "stream",
     "text": [
      "{'loss': 0.3292, 'learning_rate': 1.921525543435612e-05, 'epoch': 0.39}\n"
     ]
    },
    {
     "name": "stderr",
     "output_type": "stream",
     "text": [
      "  4%|▍         | 5500/127430 [1:51:20<42:25:46,  1.25s/it]"
     ]
    },
    {
     "name": "stdout",
     "output_type": "stream",
     "text": [
      "{'loss': 0.3005, 'learning_rate': 1.9136780977791732e-05, 'epoch': 0.43}\n"
     ]
    },
    {
     "name": "stderr",
     "output_type": "stream",
     "text": [
      "  5%|▍         | 6000/127430 [2:01:56<41:05:07,  1.22s/it]"
     ]
    },
    {
     "name": "stdout",
     "output_type": "stream",
     "text": [
      "{'loss': 0.3118, 'learning_rate': 1.905830652122734e-05, 'epoch': 0.47}\n"
     ]
    },
    {
     "name": "stderr",
     "output_type": "stream",
     "text": [
      "  5%|▌         | 6500/127430 [2:12:24<45:46:59,  1.36s/it]"
     ]
    },
    {
     "name": "stdout",
     "output_type": "stream",
     "text": [
      "{'loss': 0.2864, 'learning_rate': 1.8979832064662954e-05, 'epoch': 0.51}\n"
     ]
    },
    {
     "name": "stderr",
     "output_type": "stream",
     "text": [
      "  5%|▌         | 7000/127430 [2:23:03<42:47:27,  1.28s/it]"
     ]
    },
    {
     "name": "stdout",
     "output_type": "stream",
     "text": [
      "{'loss': 0.2758, 'learning_rate': 1.8901357608098564e-05, 'epoch': 0.55}\n"
     ]
    },
    {
     "name": "stderr",
     "output_type": "stream",
     "text": [
      "  6%|▌         | 7500/127430 [2:33:25<33:07:29,  1.01it/s]"
     ]
    },
    {
     "name": "stdout",
     "output_type": "stream",
     "text": [
      "{'loss': 0.2673, 'learning_rate': 1.8822883151534176e-05, 'epoch': 0.59}\n"
     ]
    },
    {
     "name": "stderr",
     "output_type": "stream",
     "text": [
      "  6%|▋         | 8000/127430 [2:40:45<25:22:38,  1.31it/s]"
     ]
    },
    {
     "name": "stdout",
     "output_type": "stream",
     "text": [
      "{'loss': 0.266, 'learning_rate': 1.874440869496979e-05, 'epoch': 0.63}\n"
     ]
    },
    {
     "name": "stderr",
     "output_type": "stream",
     "text": [
      "  7%|▋         | 8500/127430 [2:47:04<24:57:56,  1.32it/s]"
     ]
    },
    {
     "name": "stdout",
     "output_type": "stream",
     "text": [
      "{'loss': 0.26, 'learning_rate': 1.8665934238405402e-05, 'epoch': 0.67}\n"
     ]
    },
    {
     "name": "stderr",
     "output_type": "stream",
     "text": [
      "  7%|▋         | 9000/127430 [2:53:09<24:57:22,  1.32it/s]"
     ]
    },
    {
     "name": "stdout",
     "output_type": "stream",
     "text": [
      "{'loss': 0.2644, 'learning_rate': 1.858745978184101e-05, 'epoch': 0.71}\n"
     ]
    },
    {
     "name": "stderr",
     "output_type": "stream",
     "text": [
      "  7%|▋         | 9500/127430 [2:59:09<23:42:44,  1.38it/s]"
     ]
    },
    {
     "name": "stdout",
     "output_type": "stream",
     "text": [
      "{'loss': 0.2594, 'learning_rate': 1.8508985325276624e-05, 'epoch': 0.75}\n"
     ]
    },
    {
     "name": "stderr",
     "output_type": "stream",
     "text": [
      "  8%|▊         | 10000/127430 [3:05:08<23:12:05,  1.41it/s]"
     ]
    },
    {
     "name": "stdout",
     "output_type": "stream",
     "text": [
      "{'loss': 0.2365, 'learning_rate': 1.8430510868712234e-05, 'epoch': 0.78}\n"
     ]
    },
    {
     "name": "stderr",
     "output_type": "stream",
     "text": [
      "  8%|▊         | 10500/127430 [3:11:11<24:02:00,  1.35it/s]"
     ]
    },
    {
     "name": "stdout",
     "output_type": "stream",
     "text": [
      "{'loss': 0.2268, 'learning_rate': 1.8352036412147846e-05, 'epoch': 0.82}\n"
     ]
    },
    {
     "name": "stderr",
     "output_type": "stream",
     "text": [
      "  9%|▊         | 11000/127430 [3:17:09<22:41:14,  1.43it/s]"
     ]
    },
    {
     "name": "stdout",
     "output_type": "stream",
     "text": [
      "{'loss': 0.2295, 'learning_rate': 1.827356195558346e-05, 'epoch': 0.86}\n"
     ]
    },
    {
     "name": "stderr",
     "output_type": "stream",
     "text": [
      "  9%|▉         | 11500/127430 [3:23:05<21:58:18,  1.47it/s]"
     ]
    },
    {
     "name": "stdout",
     "output_type": "stream",
     "text": [
      "{'loss': 0.231, 'learning_rate': 1.8195087499019072e-05, 'epoch': 0.9}\n"
     ]
    },
    {
     "name": "stderr",
     "output_type": "stream",
     "text": [
      "  9%|▉         | 12000/127430 [3:29:02<22:45:52,  1.41it/s]"
     ]
    },
    {
     "name": "stdout",
     "output_type": "stream",
     "text": [
      "{'loss': 0.2266, 'learning_rate': 1.811661304245468e-05, 'epoch': 0.94}\n"
     ]
    },
    {
     "name": "stderr",
     "output_type": "stream",
     "text": [
      " 10%|▉         | 12500/127430 [3:35:01<23:01:32,  1.39it/s]"
     ]
    },
    {
     "name": "stdout",
     "output_type": "stream",
     "text": [
      "{'loss': 0.2219, 'learning_rate': 1.8038138585890294e-05, 'epoch': 0.98}\n"
     ]
    },
    {
     "name": "stderr",
     "output_type": "stream",
     "text": [
      "                                                           \n",
      " 10%|█         | 12743/127430 [3:48:46<20:42:15,  1.54it/s]"
     ]
    },
    {
     "name": "stdout",
     "output_type": "stream",
     "text": [
      "{'eval_loss': nan, 'eval_runtime': 648.1576, 'eval_samples_per_second': 27.759, 'eval_steps_per_second': 3.47, 'epoch': 1.0}\n"
     ]
    },
    {
     "name": "stderr",
     "output_type": "stream",
     "text": [
      " 10%|█         | 13000/127430 [3:51:53<22:39:48,  1.40it/s]   "
     ]
    },
    {
     "name": "stdout",
     "output_type": "stream",
     "text": [
      "{'loss': 0.2068, 'learning_rate': 1.7959664129325907e-05, 'epoch': 1.02}\n"
     ]
    },
    {
     "name": "stderr",
     "output_type": "stream",
     "text": [
      " 11%|█         | 13500/127430 [3:57:45<21:36:46,  1.46it/s]"
     ]
    },
    {
     "name": "stdout",
     "output_type": "stream",
     "text": [
      "{'loss': 0.2231, 'learning_rate': 1.788118967276152e-05, 'epoch': 1.06}\n"
     ]
    },
    {
     "name": "stderr",
     "output_type": "stream",
     "text": [
      " 11%|█         | 14000/127430 [4:03:35<22:14:58,  1.42it/s]"
     ]
    },
    {
     "name": "stdout",
     "output_type": "stream",
     "text": [
      "{'loss': 0.2004, 'learning_rate': 1.780271521619713e-05, 'epoch': 1.1}\n"
     ]
    },
    {
     "name": "stderr",
     "output_type": "stream",
     "text": [
      " 11%|█▏        | 14500/127430 [4:09:27<22:37:30,  1.39it/s]"
     ]
    },
    {
     "name": "stdout",
     "output_type": "stream",
     "text": [
      "{'loss': 0.2109, 'learning_rate': 1.7724240759632742e-05, 'epoch': 1.14}\n"
     ]
    },
    {
     "name": "stderr",
     "output_type": "stream",
     "text": [
      " 12%|█▏        | 15000/127430 [4:15:15<20:37:49,  1.51it/s]"
     ]
    },
    {
     "name": "stdout",
     "output_type": "stream",
     "text": [
      "{'loss': 0.2083, 'learning_rate': 1.764576630306835e-05, 'epoch': 1.18}\n"
     ]
    },
    {
     "name": "stderr",
     "output_type": "stream",
     "text": [
      " 12%|█▏        | 15500/127430 [4:21:09<22:00:25,  1.41it/s]"
     ]
    },
    {
     "name": "stdout",
     "output_type": "stream",
     "text": [
      "{'loss': 0.2061, 'learning_rate': 1.7567291846503964e-05, 'epoch': 1.22}\n"
     ]
    },
    {
     "name": "stderr",
     "output_type": "stream",
     "text": [
      " 13%|█▎        | 16000/127430 [4:27:09<21:44:43,  1.42it/s]"
     ]
    },
    {
     "name": "stdout",
     "output_type": "stream",
     "text": [
      "{'loss': 0.1983, 'learning_rate': 1.7488817389939577e-05, 'epoch': 1.26}\n"
     ]
    },
    {
     "name": "stderr",
     "output_type": "stream",
     "text": [
      " 13%|█▎        | 16500/127430 [4:33:13<22:23:27,  1.38it/s]"
     ]
    },
    {
     "name": "stdout",
     "output_type": "stream",
     "text": [
      "{'loss': 0.2001, 'learning_rate': 1.741034293337519e-05, 'epoch': 1.29}\n"
     ]
    },
    {
     "name": "stderr",
     "output_type": "stream",
     "text": [
      " 13%|█▎        | 17000/127430 [4:39:13<21:45:33,  1.41it/s]"
     ]
    },
    {
     "name": "stdout",
     "output_type": "stream",
     "text": [
      "{'loss': 0.1966, 'learning_rate': 1.73318684768108e-05, 'epoch': 1.33}\n"
     ]
    },
    {
     "name": "stderr",
     "output_type": "stream",
     "text": [
      " 14%|█▎        | 17500/127430 [4:45:09<21:53:38,  1.39it/s]"
     ]
    },
    {
     "name": "stdout",
     "output_type": "stream",
     "text": [
      "{'loss': 0.196, 'learning_rate': 1.7253394020246412e-05, 'epoch': 1.37}\n"
     ]
    },
    {
     "name": "stderr",
     "output_type": "stream",
     "text": [
      " 14%|█▍        | 18000/127430 [4:51:05<22:10:40,  1.37it/s]"
     ]
    },
    {
     "name": "stdout",
     "output_type": "stream",
     "text": [
      "{'loss': 0.208, 'learning_rate': 1.717491956368202e-05, 'epoch': 1.41}\n"
     ]
    },
    {
     "name": "stderr",
     "output_type": "stream",
     "text": [
      " 15%|█▍        | 18500/127430 [4:57:03<21:47:18,  1.39it/s]"
     ]
    },
    {
     "name": "stdout",
     "output_type": "stream",
     "text": [
      "{'loss': 0.1998, 'learning_rate': 1.7096445107117634e-05, 'epoch': 1.45}\n"
     ]
    },
    {
     "name": "stderr",
     "output_type": "stream",
     "text": [
      " 15%|█▍        | 19000/127430 [5:03:00<21:54:32,  1.37it/s]"
     ]
    },
    {
     "name": "stdout",
     "output_type": "stream",
     "text": [
      "{'loss': 0.188, 'learning_rate': 1.7017970650553247e-05, 'epoch': 1.49}\n"
     ]
    },
    {
     "name": "stderr",
     "output_type": "stream",
     "text": [
      " 15%|█▌        | 19500/127430 [5:08:57<21:30:25,  1.39it/s]"
     ]
    },
    {
     "name": "stdout",
     "output_type": "stream",
     "text": [
      "{'loss': 0.1851, 'learning_rate': 1.693949619398886e-05, 'epoch': 1.53}\n"
     ]
    },
    {
     "name": "stderr",
     "output_type": "stream",
     "text": [
      " 16%|█▌        | 20000/127430 [5:14:54<22:20:39,  1.34it/s]"
     ]
    },
    {
     "name": "stdout",
     "output_type": "stream",
     "text": [
      "{'loss': 0.1887, 'learning_rate': 1.686102173742447e-05, 'epoch': 1.57}\n"
     ]
    },
    {
     "name": "stderr",
     "output_type": "stream",
     "text": [
      " 16%|█▌        | 20500/127430 [5:20:54<21:46:10,  1.36it/s]"
     ]
    },
    {
     "name": "stdout",
     "output_type": "stream",
     "text": [
      "{'loss': 0.1978, 'learning_rate': 1.6782547280860082e-05, 'epoch': 1.61}\n"
     ]
    },
    {
     "name": "stderr",
     "output_type": "stream",
     "text": [
      " 16%|█▋        | 21000/127430 [5:26:52<21:14:43,  1.39it/s]"
     ]
    },
    {
     "name": "stdout",
     "output_type": "stream",
     "text": [
      "{'loss': 0.188, 'learning_rate': 1.6704072824295695e-05, 'epoch': 1.65}\n"
     ]
    },
    {
     "name": "stderr",
     "output_type": "stream",
     "text": [
      " 17%|█▋        | 21500/127430 [5:32:53<21:03:23,  1.40it/s]"
     ]
    },
    {
     "name": "stdout",
     "output_type": "stream",
     "text": [
      "{'loss': 0.1798, 'learning_rate': 1.6625598367731304e-05, 'epoch': 1.69}\n"
     ]
    },
    {
     "name": "stderr",
     "output_type": "stream",
     "text": [
      " 17%|█▋        | 22000/127430 [5:38:56<21:58:03,  1.33it/s]"
     ]
    },
    {
     "name": "stdout",
     "output_type": "stream",
     "text": [
      "{'loss': 0.1913, 'learning_rate': 1.6547123911166917e-05, 'epoch': 1.73}\n"
     ]
    },
    {
     "name": "stderr",
     "output_type": "stream",
     "text": [
      " 18%|█▊        | 22500/127430 [5:44:57<21:29:01,  1.36it/s]"
     ]
    },
    {
     "name": "stdout",
     "output_type": "stream",
     "text": [
      "{'loss': 0.184, 'learning_rate': 1.6468649454602526e-05, 'epoch': 1.77}\n"
     ]
    },
    {
     "name": "stderr",
     "output_type": "stream",
     "text": [
      " 18%|█▊        | 23000/127430 [5:50:56<20:55:58,  1.39it/s]"
     ]
    },
    {
     "name": "stdout",
     "output_type": "stream",
     "text": [
      "{'loss': 0.1768, 'learning_rate': 1.639017499803814e-05, 'epoch': 1.8}\n"
     ]
    },
    {
     "name": "stderr",
     "output_type": "stream",
     "text": [
      " 18%|█▊        | 23500/127430 [5:56:55<20:53:41,  1.38it/s]"
     ]
    },
    {
     "name": "stdout",
     "output_type": "stream",
     "text": [
      "{'loss': 0.1875, 'learning_rate': 1.631170054147375e-05, 'epoch': 1.84}\n"
     ]
    },
    {
     "name": "stderr",
     "output_type": "stream",
     "text": [
      " 19%|█▉        | 24000/127430 [6:02:57<20:20:10,  1.41it/s]"
     ]
    },
    {
     "name": "stdout",
     "output_type": "stream",
     "text": [
      "{'loss': 0.184, 'learning_rate': 1.6233226084909364e-05, 'epoch': 1.88}\n"
     ]
    },
    {
     "name": "stderr",
     "output_type": "stream",
     "text": [
      " 19%|█▉        | 24500/127430 [6:09:00<21:23:07,  1.34it/s]"
     ]
    },
    {
     "name": "stdout",
     "output_type": "stream",
     "text": [
      "{'loss': 0.1784, 'learning_rate': 1.6154751628344977e-05, 'epoch': 1.92}\n"
     ]
    },
    {
     "name": "stderr",
     "output_type": "stream",
     "text": [
      " 20%|█▉        | 25000/127430 [6:15:03<20:15:10,  1.40it/s]"
     ]
    },
    {
     "name": "stdout",
     "output_type": "stream",
     "text": [
      "{'loss': 0.1728, 'learning_rate': 1.6076277171780587e-05, 'epoch': 1.96}\n"
     ]
    },
    {
     "name": "stderr",
     "output_type": "stream",
     "text": [
      "                                                           \n",
      " 20%|██        | 25486/127430 [6:31:29<17:31:24,  1.62it/s]"
     ]
    },
    {
     "name": "stdout",
     "output_type": "stream",
     "text": [
      "{'eval_loss': nan, 'eval_runtime': 635.8524, 'eval_samples_per_second': 28.296, 'eval_steps_per_second': 3.537, 'epoch': 2.0}\n"
     ]
    },
    {
     "name": "stderr",
     "output_type": "stream",
     "text": [
      " 20%|██        | 25500/127430 [6:31:39<73:48:25,  2.61s/it]   "
     ]
    },
    {
     "name": "stdout",
     "output_type": "stream",
     "text": [
      "{'loss': 0.1717, 'learning_rate': 1.5997802715216196e-05, 'epoch': 2.0}\n"
     ]
    },
    {
     "name": "stderr",
     "output_type": "stream",
     "text": [
      " 20%|██        | 26000/127430 [6:37:43<19:59:13,  1.41it/s]"
     ]
    },
    {
     "name": "stdout",
     "output_type": "stream",
     "text": [
      "{'loss': 0.1654, 'learning_rate': 1.591932825865181e-05, 'epoch': 2.04}\n"
     ]
    },
    {
     "name": "stderr",
     "output_type": "stream",
     "text": [
      " 21%|██        | 26500/127430 [6:43:44<20:50:57,  1.34it/s]"
     ]
    },
    {
     "name": "stdout",
     "output_type": "stream",
     "text": [
      "{'loss': 0.1851, 'learning_rate': 1.584085380208742e-05, 'epoch': 2.08}\n"
     ]
    },
    {
     "name": "stderr",
     "output_type": "stream",
     "text": [
      " 21%|██        | 27000/127430 [6:49:42<20:55:46,  1.33it/s]"
     ]
    },
    {
     "name": "stdout",
     "output_type": "stream",
     "text": [
      "{'loss': 0.1771, 'learning_rate': 1.5762379345523034e-05, 'epoch': 2.12}\n"
     ]
    },
    {
     "name": "stderr",
     "output_type": "stream",
     "text": [
      " 22%|██▏       | 27500/127430 [6:55:42<19:50:15,  1.40it/s]"
     ]
    },
    {
     "name": "stdout",
     "output_type": "stream",
     "text": [
      "{'loss': 0.1671, 'learning_rate': 1.5683904888958644e-05, 'epoch': 2.16}\n"
     ]
    },
    {
     "name": "stderr",
     "output_type": "stream",
     "text": [
      " 22%|██▏       | 28000/127430 [7:01:40<20:17:26,  1.36it/s]"
     ]
    },
    {
     "name": "stdout",
     "output_type": "stream",
     "text": [
      "{'loss': 0.1796, 'learning_rate': 1.5605430432394257e-05, 'epoch': 2.2}\n"
     ]
    },
    {
     "name": "stderr",
     "output_type": "stream",
     "text": [
      " 22%|██▏       | 28500/127430 [7:07:40<19:26:42,  1.41it/s]"
     ]
    },
    {
     "name": "stdout",
     "output_type": "stream",
     "text": [
      "{'loss': 0.1731, 'learning_rate': 1.552695597582987e-05, 'epoch': 2.24}\n"
     ]
    },
    {
     "name": "stderr",
     "output_type": "stream",
     "text": [
      " 23%|██▎       | 29000/127430 [7:13:31<18:23:44,  1.49it/s]"
     ]
    },
    {
     "name": "stdout",
     "output_type": "stream",
     "text": [
      "{'loss': 0.1828, 'learning_rate': 1.5448481519265482e-05, 'epoch': 2.28}\n"
     ]
    },
    {
     "name": "stderr",
     "output_type": "stream",
     "text": [
      " 23%|██▎       | 29500/127430 [7:19:14<18:25:00,  1.48it/s]"
     ]
    },
    {
     "name": "stdout",
     "output_type": "stream",
     "text": [
      "{'loss': 0.186, 'learning_rate': 1.537000706270109e-05, 'epoch': 2.31}\n"
     ]
    },
    {
     "name": "stderr",
     "output_type": "stream",
     "text": [
      " 24%|██▎       | 30000/127430 [7:24:53<18:27:28,  1.47it/s]"
     ]
    },
    {
     "name": "stdout",
     "output_type": "stream",
     "text": [
      "{'loss': 0.1733, 'learning_rate': 1.5291532606136704e-05, 'epoch': 2.35}\n"
     ]
    },
    {
     "name": "stderr",
     "output_type": "stream",
     "text": [
      " 24%|██▍       | 30500/127430 [7:30:49<19:03:28,  1.41it/s]"
     ]
    },
    {
     "name": "stdout",
     "output_type": "stream",
     "text": [
      "{'loss': 0.1603, 'learning_rate': 1.5213058149572315e-05, 'epoch': 2.39}\n"
     ]
    },
    {
     "name": "stderr",
     "output_type": "stream",
     "text": [
      " 24%|██▍       | 31000/127430 [7:36:43<18:24:15,  1.46it/s]"
     ]
    },
    {
     "name": "stdout",
     "output_type": "stream",
     "text": [
      "{'loss': 0.1704, 'learning_rate': 1.5134583693007926e-05, 'epoch': 2.43}\n"
     ]
    },
    {
     "name": "stderr",
     "output_type": "stream",
     "text": [
      " 25%|██▍       | 31500/127430 [7:42:37<18:39:43,  1.43it/s]"
     ]
    },
    {
     "name": "stdout",
     "output_type": "stream",
     "text": [
      "{'loss': 0.1818, 'learning_rate': 1.505610923644354e-05, 'epoch': 2.47}\n"
     ]
    },
    {
     "name": "stderr",
     "output_type": "stream",
     "text": [
      " 25%|██▌       | 32000/127430 [7:48:22<16:26:06,  1.61it/s]"
     ]
    },
    {
     "name": "stdout",
     "output_type": "stream",
     "text": [
      "{'loss': 0.1745, 'learning_rate': 1.497763477987915e-05, 'epoch': 2.51}\n"
     ]
    },
    {
     "name": "stderr",
     "output_type": "stream",
     "text": [
      " 26%|██▌       | 32500/127430 [7:53:43<16:27:38,  1.60it/s]"
     ]
    },
    {
     "name": "stdout",
     "output_type": "stream",
     "text": [
      "{'loss': 0.1685, 'learning_rate': 1.4899160323314763e-05, 'epoch': 2.55}\n"
     ]
    },
    {
     "name": "stderr",
     "output_type": "stream",
     "text": [
      " 26%|██▌       | 33000/127430 [7:58:58<16:28:19,  1.59it/s]"
     ]
    },
    {
     "name": "stdout",
     "output_type": "stream",
     "text": [
      "{'loss': 0.1683, 'learning_rate': 1.4820685866750374e-05, 'epoch': 2.59}\n"
     ]
    },
    {
     "name": "stderr",
     "output_type": "stream",
     "text": [
      " 26%|██▋       | 33500/127430 [8:04:11<16:34:10,  1.57it/s]"
     ]
    },
    {
     "name": "stdout",
     "output_type": "stream",
     "text": [
      "{'loss': 0.1657, 'learning_rate': 1.4742211410185985e-05, 'epoch': 2.63}\n"
     ]
    },
    {
     "name": "stderr",
     "output_type": "stream",
     "text": [
      " 27%|██▋       | 34000/127430 [8:09:23<16:05:37,  1.61it/s]"
     ]
    },
    {
     "name": "stdout",
     "output_type": "stream",
     "text": [
      "{'loss': 0.1677, 'learning_rate': 1.4663736953621596e-05, 'epoch': 2.67}\n"
     ]
    },
    {
     "name": "stderr",
     "output_type": "stream",
     "text": [
      " 27%|██▋       | 34500/127430 [8:14:35<16:15:42,  1.59it/s]"
     ]
    },
    {
     "name": "stdout",
     "output_type": "stream",
     "text": [
      "{'loss': 0.1626, 'learning_rate': 1.458526249705721e-05, 'epoch': 2.71}\n"
     ]
    },
    {
     "name": "stderr",
     "output_type": "stream",
     "text": [
      " 27%|██▋       | 35000/127430 [8:19:49<16:08:57,  1.59it/s]"
     ]
    },
    {
     "name": "stdout",
     "output_type": "stream",
     "text": [
      "{'loss': 0.1668, 'learning_rate': 1.450678804049282e-05, 'epoch': 2.75}\n"
     ]
    },
    {
     "name": "stderr",
     "output_type": "stream",
     "text": [
      " 28%|██▊       | 35500/127430 [8:25:01<15:38:01,  1.63it/s]"
     ]
    },
    {
     "name": "stdout",
     "output_type": "stream",
     "text": [
      "{'loss': 0.1612, 'learning_rate': 1.4428313583928433e-05, 'epoch': 2.79}\n"
     ]
    },
    {
     "name": "stderr",
     "output_type": "stream",
     "text": [
      " 28%|██▊       | 36000/127430 [8:30:15<15:53:27,  1.60it/s]"
     ]
    },
    {
     "name": "stdout",
     "output_type": "stream",
     "text": [
      "{'loss': 0.1625, 'learning_rate': 1.4349839127364044e-05, 'epoch': 2.83}\n"
     ]
    },
    {
     "name": "stderr",
     "output_type": "stream",
     "text": [
      " 29%|██▊       | 36500/127430 [8:35:29<15:44:33,  1.60it/s]"
     ]
    },
    {
     "name": "stdout",
     "output_type": "stream",
     "text": [
      "{'loss': 0.1684, 'learning_rate': 1.4271364670799657e-05, 'epoch': 2.86}\n"
     ]
    },
    {
     "name": "stderr",
     "output_type": "stream",
     "text": [
      " 29%|██▉       | 37000/127430 [8:40:44<15:34:49,  1.61it/s]"
     ]
    },
    {
     "name": "stdout",
     "output_type": "stream",
     "text": [
      "{'loss': 0.1564, 'learning_rate': 1.4192890214235266e-05, 'epoch': 2.9}\n"
     ]
    },
    {
     "name": "stderr",
     "output_type": "stream",
     "text": [
      " 29%|██▉       | 37500/127430 [8:46:09<18:43:17,  1.33it/s]"
     ]
    },
    {
     "name": "stdout",
     "output_type": "stream",
     "text": [
      "{'loss': 0.1669, 'learning_rate': 1.4114415757670879e-05, 'epoch': 2.94}\n"
     ]
    },
    {
     "name": "stderr",
     "output_type": "stream",
     "text": [
      " 30%|██▉       | 38000/127430 [8:53:01<21:48:30,  1.14it/s]"
     ]
    },
    {
     "name": "stdout",
     "output_type": "stream",
     "text": [
      "{'loss': 0.1629, 'learning_rate': 1.403594130110649e-05, 'epoch': 2.98}\n"
     ]
    },
    {
     "name": "stderr",
     "output_type": "stream",
     "text": [
      "                                                           \n",
      " 30%|███       | 38229/127430 [9:10:46<22:35:58,  1.10it/s]"
     ]
    },
    {
     "name": "stdout",
     "output_type": "stream",
     "text": [
      "{'eval_loss': nan, 'eval_runtime': 846.5233, 'eval_samples_per_second': 21.254, 'eval_steps_per_second': 2.657, 'epoch': 3.0}\n"
     ]
    },
    {
     "name": "stderr",
     "output_type": "stream",
     "text": [
      " 30%|███       | 38500/127430 [9:14:26<20:21:37,  1.21it/s]   "
     ]
    },
    {
     "name": "stdout",
     "output_type": "stream",
     "text": [
      "{'loss': 0.1635, 'learning_rate': 1.3957466844542103e-05, 'epoch': 3.02}\n"
     ]
    },
    {
     "name": "stderr",
     "output_type": "stream",
     "text": [
      " 31%|███       | 39000/127430 [9:21:10<19:16:04,  1.27it/s]"
     ]
    },
    {
     "name": "stdout",
     "output_type": "stream",
     "text": [
      "{'loss': 0.1633, 'learning_rate': 1.3878992387977714e-05, 'epoch': 3.06}\n"
     ]
    },
    {
     "name": "stderr",
     "output_type": "stream",
     "text": [
      " 31%|███       | 39500/127430 [9:27:57<19:47:18,  1.23it/s]"
     ]
    },
    {
     "name": "stdout",
     "output_type": "stream",
     "text": [
      "{'loss': 0.1705, 'learning_rate': 1.3800517931413327e-05, 'epoch': 3.1}\n"
     ]
    },
    {
     "name": "stderr",
     "output_type": "stream",
     "text": [
      " 31%|███▏      | 40000/127430 [9:34:42<19:38:47,  1.24it/s]"
     ]
    },
    {
     "name": "stdout",
     "output_type": "stream",
     "text": [
      "{'loss': 0.1711, 'learning_rate': 1.3722043474848938e-05, 'epoch': 3.14}\n"
     ]
    },
    {
     "name": "stderr",
     "output_type": "stream",
     "text": [
      " 32%|███▏      | 40500/127430 [9:40:28<15:30:18,  1.56it/s]"
     ]
    },
    {
     "name": "stdout",
     "output_type": "stream",
     "text": [
      "{'loss': 0.1631, 'learning_rate': 1.364356901828455e-05, 'epoch': 3.18}\n"
     ]
    },
    {
     "name": "stderr",
     "output_type": "stream",
     "text": [
      " 32%|███▏      | 41000/127430 [9:45:47<15:16:16,  1.57it/s]"
     ]
    },
    {
     "name": "stdout",
     "output_type": "stream",
     "text": [
      "{'loss': 0.1443, 'learning_rate': 1.356509456172016e-05, 'epoch': 3.22}\n"
     ]
    },
    {
     "name": "stderr",
     "output_type": "stream",
     "text": [
      " 33%|███▎      | 41500/127430 [9:51:04<14:51:09,  1.61it/s]"
     ]
    },
    {
     "name": "stdout",
     "output_type": "stream",
     "text": [
      "{'loss': 0.1511, 'learning_rate': 1.3486620105155773e-05, 'epoch': 3.26}\n"
     ]
    },
    {
     "name": "stderr",
     "output_type": "stream",
     "text": [
      " 33%|███▎      | 42000/127430 [9:56:20<15:13:17,  1.56it/s]"
     ]
    },
    {
     "name": "stdout",
     "output_type": "stream",
     "text": [
      "{'loss': 0.171, 'learning_rate': 1.3408145648591384e-05, 'epoch': 3.3}\n"
     ]
    },
    {
     "name": "stderr",
     "output_type": "stream",
     "text": [
      " 33%|███▎      | 42500/127430 [10:01:35<14:36:26,  1.62it/s]"
     ]
    },
    {
     "name": "stdout",
     "output_type": "stream",
     "text": [
      "{'loss': 0.1644, 'learning_rate': 1.3329671192026997e-05, 'epoch': 3.34}\n"
     ]
    },
    {
     "name": "stderr",
     "output_type": "stream",
     "text": [
      " 34%|███▎      | 43000/127430 [10:06:50<14:39:20,  1.60it/s]"
     ]
    },
    {
     "name": "stdout",
     "output_type": "stream",
     "text": [
      "{'loss': 0.1554, 'learning_rate': 1.3251196735462608e-05, 'epoch': 3.37}\n"
     ]
    },
    {
     "name": "stderr",
     "output_type": "stream",
     "text": [
      " 34%|███▍      | 43500/127430 [10:12:07<14:36:41,  1.60it/s]"
     ]
    },
    {
     "name": "stdout",
     "output_type": "stream",
     "text": [
      "{'loss': 0.1588, 'learning_rate': 1.317272227889822e-05, 'epoch': 3.41}\n"
     ]
    },
    {
     "name": "stderr",
     "output_type": "stream",
     "text": [
      " 35%|███▍      | 44000/127430 [10:17:23<14:35:16,  1.59it/s]"
     ]
    },
    {
     "name": "stdout",
     "output_type": "stream",
     "text": [
      "{'loss': 0.1613, 'learning_rate': 1.3094247822333832e-05, 'epoch': 3.45}\n"
     ]
    },
    {
     "name": "stderr",
     "output_type": "stream",
     "text": [
      " 35%|███▍      | 44500/127430 [10:22:40<14:46:05,  1.56it/s]"
     ]
    },
    {
     "name": "stdout",
     "output_type": "stream",
     "text": [
      "{'loss': 0.1641, 'learning_rate': 1.3015773365769445e-05, 'epoch': 3.49}\n"
     ]
    },
    {
     "name": "stderr",
     "output_type": "stream",
     "text": [
      " 35%|███▌      | 45000/127430 [10:27:56<14:46:38,  1.55it/s]"
     ]
    },
    {
     "name": "stdout",
     "output_type": "stream",
     "text": [
      "{'loss': 0.16, 'learning_rate': 1.2937298909205054e-05, 'epoch': 3.53}\n"
     ]
    },
    {
     "name": "stderr",
     "output_type": "stream",
     "text": [
      " 36%|███▌      | 45500/127430 [10:33:13<14:09:11,  1.61it/s]"
     ]
    },
    {
     "name": "stdout",
     "output_type": "stream",
     "text": [
      "{'loss': 0.1664, 'learning_rate': 1.2858824452640665e-05, 'epoch': 3.57}\n"
     ]
    },
    {
     "name": "stderr",
     "output_type": "stream",
     "text": [
      " 36%|███▌      | 46000/127430 [10:38:29<14:11:05,  1.59it/s]"
     ]
    },
    {
     "name": "stdout",
     "output_type": "stream",
     "text": [
      "{'loss': 0.1613, 'learning_rate': 1.2780349996076278e-05, 'epoch': 3.61}\n"
     ]
    },
    {
     "name": "stderr",
     "output_type": "stream",
     "text": [
      " 36%|███▋      | 46500/127430 [10:43:47<14:31:22,  1.55it/s]"
     ]
    },
    {
     "name": "stdout",
     "output_type": "stream",
     "text": [
      "{'loss': 0.149, 'learning_rate': 1.270187553951189e-05, 'epoch': 3.65}\n"
     ]
    },
    {
     "name": "stderr",
     "output_type": "stream",
     "text": [
      " 37%|███▋      | 47000/127430 [10:49:04<13:51:45,  1.61it/s]"
     ]
    },
    {
     "name": "stdout",
     "output_type": "stream",
     "text": [
      "{'loss': 0.1665, 'learning_rate': 1.2623401082947502e-05, 'epoch': 3.69}\n"
     ]
    },
    {
     "name": "stderr",
     "output_type": "stream",
     "text": [
      " 37%|███▋      | 47500/127430 [10:54:21<14:27:03,  1.54it/s]"
     ]
    },
    {
     "name": "stdout",
     "output_type": "stream",
     "text": [
      "{'loss': 0.159, 'learning_rate': 1.2544926626383114e-05, 'epoch': 3.73}\n"
     ]
    },
    {
     "name": "stderr",
     "output_type": "stream",
     "text": [
      " 38%|███▊      | 48000/127430 [10:59:41<14:07:13,  1.56it/s]"
     ]
    },
    {
     "name": "stdout",
     "output_type": "stream",
     "text": [
      "{'loss': 0.156, 'learning_rate': 1.2466452169818726e-05, 'epoch': 3.77}\n"
     ]
    },
    {
     "name": "stderr",
     "output_type": "stream",
     "text": [
      " 38%|███▊      | 48500/127430 [11:04:58<14:05:06,  1.56it/s]"
     ]
    },
    {
     "name": "stdout",
     "output_type": "stream",
     "text": [
      "{'loss': 0.1518, 'learning_rate': 1.2387977713254338e-05, 'epoch': 3.81}\n"
     ]
    },
    {
     "name": "stderr",
     "output_type": "stream",
     "text": [
      " 38%|███▊      | 49000/127430 [11:10:16<13:22:12,  1.63it/s]"
     ]
    },
    {
     "name": "stdout",
     "output_type": "stream",
     "text": [
      "{'loss': 0.156, 'learning_rate': 1.2309503256689948e-05, 'epoch': 3.85}\n"
     ]
    },
    {
     "name": "stderr",
     "output_type": "stream",
     "text": [
      " 39%|███▉      | 49500/127430 [11:15:32<13:36:53,  1.59it/s]"
     ]
    },
    {
     "name": "stdout",
     "output_type": "stream",
     "text": [
      "{'loss': 0.159, 'learning_rate': 1.2231028800125559e-05, 'epoch': 3.88}\n"
     ]
    },
    {
     "name": "stderr",
     "output_type": "stream",
     "text": [
      " 39%|███▉      | 50000/127430 [11:20:52<13:25:22,  1.60it/s]"
     ]
    },
    {
     "name": "stdout",
     "output_type": "stream",
     "text": [
      "{'loss': 0.1526, 'learning_rate': 1.2152554343561172e-05, 'epoch': 3.92}\n"
     ]
    },
    {
     "name": "stderr",
     "output_type": "stream",
     "text": [
      " 40%|███▉      | 50500/127430 [11:26:12<13:29:17,  1.58it/s]"
     ]
    },
    {
     "name": "stdout",
     "output_type": "stream",
     "text": [
      "{'loss': 0.1428, 'learning_rate': 1.2074079886996783e-05, 'epoch': 3.96}\n"
     ]
    },
    {
     "name": "stderr",
     "output_type": "stream",
     "text": [
      "                                                            \n",
      " 40%|████      | 50972/127430 [11:39:59<11:30:02,  1.85it/s]"
     ]
    },
    {
     "name": "stdout",
     "output_type": "stream",
     "text": [
      "{'eval_loss': nan, 'eval_runtime': 526.955, 'eval_samples_per_second': 34.143, 'eval_steps_per_second': 4.268, 'epoch': 4.0}\n"
     ]
    },
    {
     "name": "stderr",
     "output_type": "stream",
     "text": [
      " 40%|████      | 51000/127430 [11:40:17<13:39:07,  1.56it/s]   "
     ]
    },
    {
     "name": "stdout",
     "output_type": "stream",
     "text": [
      "{'loss': 0.1464, 'learning_rate': 1.1995605430432395e-05, 'epoch': 4.0}\n"
     ]
    },
    {
     "name": "stderr",
     "output_type": "stream",
     "text": [
      " 40%|████      | 51500/127430 [11:45:34<13:06:29,  1.61it/s]"
     ]
    },
    {
     "name": "stdout",
     "output_type": "stream",
     "text": [
      "{'loss': 0.1482, 'learning_rate': 1.1917130973868008e-05, 'epoch': 4.04}\n"
     ]
    },
    {
     "name": "stderr",
     "output_type": "stream",
     "text": [
      " 41%|████      | 52000/127430 [11:50:52<13:04:12,  1.60it/s]"
     ]
    },
    {
     "name": "stdout",
     "output_type": "stream",
     "text": [
      "{'loss': 0.1464, 'learning_rate': 1.183865651730362e-05, 'epoch': 4.08}\n"
     ]
    },
    {
     "name": "stderr",
     "output_type": "stream",
     "text": [
      " 41%|████      | 52500/127430 [11:56:08<13:13:37,  1.57it/s]"
     ]
    },
    {
     "name": "stdout",
     "output_type": "stream",
     "text": [
      "{'loss': 0.1623, 'learning_rate': 1.1760182060739232e-05, 'epoch': 4.12}\n"
     ]
    },
    {
     "name": "stderr",
     "output_type": "stream",
     "text": [
      " 42%|████▏     | 53000/127430 [12:01:24<12:53:17,  1.60it/s]"
     ]
    },
    {
     "name": "stdout",
     "output_type": "stream",
     "text": [
      "{'loss': 0.1586, 'learning_rate': 1.1681707604174842e-05, 'epoch': 4.16}\n"
     ]
    },
    {
     "name": "stderr",
     "output_type": "stream",
     "text": [
      " 42%|████▏     | 53500/127430 [12:06:42<12:44:46,  1.61it/s]"
     ]
    },
    {
     "name": "stdout",
     "output_type": "stream",
     "text": [
      "{'loss': 0.1512, 'learning_rate': 1.1603233147610453e-05, 'epoch': 4.2}\n"
     ]
    },
    {
     "name": "stderr",
     "output_type": "stream",
     "text": [
      " 42%|████▏     | 54000/127430 [12:12:01<13:04:32,  1.56it/s]"
     ]
    },
    {
     "name": "stdout",
     "output_type": "stream",
     "text": [
      "{'loss': 0.1523, 'learning_rate': 1.1524758691046065e-05, 'epoch': 4.24}\n"
     ]
    },
    {
     "name": "stderr",
     "output_type": "stream",
     "text": [
      " 43%|████▎     | 54500/127430 [12:17:19<12:46:40,  1.59it/s]"
     ]
    },
    {
     "name": "stdout",
     "output_type": "stream",
     "text": [
      "{'loss': 0.144, 'learning_rate': 1.1446284234481676e-05, 'epoch': 4.28}\n"
     ]
    },
    {
     "name": "stderr",
     "output_type": "stream",
     "text": [
      " 43%|████▎     | 55000/127430 [12:22:39<12:25:45,  1.62it/s]"
     ]
    },
    {
     "name": "stdout",
     "output_type": "stream",
     "text": [
      "{'loss': 0.1425, 'learning_rate': 1.136780977791729e-05, 'epoch': 4.32}\n"
     ]
    },
    {
     "name": "stderr",
     "output_type": "stream",
     "text": [
      " 44%|████▎     | 55500/127430 [12:27:55<12:25:45,  1.61it/s]"
     ]
    },
    {
     "name": "stdout",
     "output_type": "stream",
     "text": [
      "{'loss': 0.1594, 'learning_rate': 1.12893353213529e-05, 'epoch': 4.36}\n"
     ]
    },
    {
     "name": "stderr",
     "output_type": "stream",
     "text": [
      " 44%|████▍     | 56000/127430 [12:33:11<12:30:08,  1.59it/s]"
     ]
    },
    {
     "name": "stdout",
     "output_type": "stream",
     "text": [
      "{'loss': 0.1551, 'learning_rate': 1.1210860864788513e-05, 'epoch': 4.39}\n"
     ]
    },
    {
     "name": "stderr",
     "output_type": "stream",
     "text": [
      " 44%|████▍     | 56500/127430 [12:38:28<12:08:19,  1.62it/s]"
     ]
    },
    {
     "name": "stdout",
     "output_type": "stream",
     "text": [
      "{'loss': 0.1591, 'learning_rate': 1.1132386408224123e-05, 'epoch': 4.43}\n"
     ]
    },
    {
     "name": "stderr",
     "output_type": "stream",
     "text": [
      " 45%|████▍     | 57000/127430 [12:43:46<12:23:32,  1.58it/s]"
     ]
    },
    {
     "name": "stdout",
     "output_type": "stream",
     "text": [
      "{'loss': 0.1535, 'learning_rate': 1.1053911951659735e-05, 'epoch': 4.47}\n"
     ]
    },
    {
     "name": "stderr",
     "output_type": "stream",
     "text": [
      " 45%|████▌     | 57500/127430 [12:49:02<13:02:51,  1.49it/s]"
     ]
    },
    {
     "name": "stdout",
     "output_type": "stream",
     "text": [
      "{'loss': 0.1517, 'learning_rate': 1.0975437495095346e-05, 'epoch': 4.51}\n"
     ]
    },
    {
     "name": "stderr",
     "output_type": "stream",
     "text": [
      " 46%|████▌     | 58000/127430 [12:54:18<11:59:48,  1.61it/s]"
     ]
    },
    {
     "name": "stdout",
     "output_type": "stream",
     "text": [
      "{'loss': 0.154, 'learning_rate': 1.089696303853096e-05, 'epoch': 4.55}\n"
     ]
    },
    {
     "name": "stderr",
     "output_type": "stream",
     "text": [
      " 46%|████▌     | 58500/127430 [12:59:34<12:03:29,  1.59it/s]"
     ]
    },
    {
     "name": "stdout",
     "output_type": "stream",
     "text": [
      "{'loss': 0.1481, 'learning_rate': 1.081848858196657e-05, 'epoch': 4.59}\n"
     ]
    },
    {
     "name": "stderr",
     "output_type": "stream",
     "text": [
      " 46%|████▋     | 59000/127430 [13:04:52<12:06:24,  1.57it/s]"
     ]
    },
    {
     "name": "stdout",
     "output_type": "stream",
     "text": [
      "{'loss': 0.1613, 'learning_rate': 1.0740014125402183e-05, 'epoch': 4.63}\n"
     ]
    },
    {
     "name": "stderr",
     "output_type": "stream",
     "text": [
      " 47%|████▋     | 59500/127430 [13:10:09<11:59:11,  1.57it/s]"
     ]
    },
    {
     "name": "stdout",
     "output_type": "stream",
     "text": [
      "{'loss': 0.1432, 'learning_rate': 1.0661539668837794e-05, 'epoch': 4.67}\n"
     ]
    },
    {
     "name": "stderr",
     "output_type": "stream",
     "text": [
      " 47%|████▋     | 60000/127430 [13:15:28<11:43:52,  1.60it/s]"
     ]
    },
    {
     "name": "stdout",
     "output_type": "stream",
     "text": [
      "{'loss': 0.1476, 'learning_rate': 1.0583065212273407e-05, 'epoch': 4.71}\n"
     ]
    },
    {
     "name": "stderr",
     "output_type": "stream",
     "text": [
      " 47%|████▋     | 60500/127430 [13:20:48<11:38:51,  1.60it/s]"
     ]
    },
    {
     "name": "stdout",
     "output_type": "stream",
     "text": [
      "{'loss': 0.1544, 'learning_rate': 1.0504590755709016e-05, 'epoch': 4.75}\n"
     ]
    },
    {
     "name": "stderr",
     "output_type": "stream",
     "text": [
      " 48%|████▊     | 61000/127430 [13:26:09<11:53:41,  1.55it/s]"
     ]
    },
    {
     "name": "stdout",
     "output_type": "stream",
     "text": [
      "{'loss': 0.1546, 'learning_rate': 1.0426116299144629e-05, 'epoch': 4.79}\n"
     ]
    },
    {
     "name": "stderr",
     "output_type": "stream",
     "text": [
      " 48%|████▊     | 61500/127430 [13:31:30<11:33:29,  1.58it/s]"
     ]
    },
    {
     "name": "stdout",
     "output_type": "stream",
     "text": [
      "{'loss': 0.1424, 'learning_rate': 1.034764184258024e-05, 'epoch': 4.83}\n"
     ]
    },
    {
     "name": "stderr",
     "output_type": "stream",
     "text": [
      " 49%|████▊     | 62000/127430 [13:36:52<11:20:08,  1.60it/s]"
     ]
    },
    {
     "name": "stdout",
     "output_type": "stream",
     "text": [
      "{'loss': 0.1462, 'learning_rate': 1.0269167386015853e-05, 'epoch': 4.87}\n"
     ]
    },
    {
     "name": "stderr",
     "output_type": "stream",
     "text": [
      " 49%|████▉     | 62500/127430 [13:42:15<11:35:12,  1.56it/s]"
     ]
    },
    {
     "name": "stdout",
     "output_type": "stream",
     "text": [
      "{'loss': 0.1594, 'learning_rate': 1.0190692929451464e-05, 'epoch': 4.9}\n"
     ]
    },
    {
     "name": "stderr",
     "output_type": "stream",
     "text": [
      " 49%|████▉     | 63000/127430 [13:47:36<11:31:49,  1.55it/s]"
     ]
    },
    {
     "name": "stdout",
     "output_type": "stream",
     "text": [
      "{'loss': 0.1439, 'learning_rate': 1.0112218472887077e-05, 'epoch': 4.94}\n"
     ]
    },
    {
     "name": "stderr",
     "output_type": "stream",
     "text": [
      " 50%|████▉     | 63500/127430 [13:52:58<11:33:46,  1.54it/s]"
     ]
    },
    {
     "name": "stdout",
     "output_type": "stream",
     "text": [
      "{'loss': 0.1462, 'learning_rate': 1.0033744016322688e-05, 'epoch': 4.98}\n"
     ]
    },
    {
     "name": "stderr",
     "output_type": "stream",
     "text": [
      "                                                            \n",
      " 50%|█████     | 63715/127430 [14:04:04<9:51:35,  1.79it/s]"
     ]
    },
    {
     "name": "stdout",
     "output_type": "stream",
     "text": [
      "{'eval_loss': nan, 'eval_runtime': 527.5882, 'eval_samples_per_second': 34.102, 'eval_steps_per_second': 4.263, 'epoch': 5.0}\n"
     ]
    },
    {
     "name": "stderr",
     "output_type": "stream",
     "text": [
      " 50%|█████     | 64000/127430 [14:07:02<11:09:01,  1.58it/s]   "
     ]
    },
    {
     "name": "stdout",
     "output_type": "stream",
     "text": [
      "{'loss': 0.1415, 'learning_rate': 9.955269559758299e-06, 'epoch': 5.02}\n"
     ]
    },
    {
     "name": "stderr",
     "output_type": "stream",
     "text": [
      " 51%|█████     | 64500/127430 [14:12:18<11:05:14,  1.58it/s]"
     ]
    },
    {
     "name": "stdout",
     "output_type": "stream",
     "text": [
      "{'loss': 0.1525, 'learning_rate': 9.876795103193912e-06, 'epoch': 5.06}\n"
     ]
    },
    {
     "name": "stderr",
     "output_type": "stream",
     "text": [
      " 51%|█████     | 65000/127430 [14:17:35<10:55:51,  1.59it/s]"
     ]
    },
    {
     "name": "stdout",
     "output_type": "stream",
     "text": [
      "{'loss': 0.1473, 'learning_rate': 9.798320646629523e-06, 'epoch': 5.1}\n"
     ]
    },
    {
     "name": "stderr",
     "output_type": "stream",
     "text": [
      " 51%|█████▏    | 65500/127430 [14:23:09<11:36:01,  1.48it/s]"
     ]
    },
    {
     "name": "stdout",
     "output_type": "stream",
     "text": [
      "{'loss': 0.1451, 'learning_rate': 9.719846190065134e-06, 'epoch': 5.14}\n"
     ]
    },
    {
     "name": "stderr",
     "output_type": "stream",
     "text": [
      " 52%|█████▏    | 66000/127430 [14:28:48<11:33:55,  1.48it/s]"
     ]
    },
    {
     "name": "stdout",
     "output_type": "stream",
     "text": [
      "{'loss': 0.141, 'learning_rate': 9.641371733500747e-06, 'epoch': 5.18}\n"
     ]
    },
    {
     "name": "stderr",
     "output_type": "stream",
     "text": [
      " 52%|█████▏    | 66500/127430 [14:34:26<11:13:51,  1.51it/s]"
     ]
    },
    {
     "name": "stdout",
     "output_type": "stream",
     "text": [
      "{'loss': 0.1523, 'learning_rate': 9.562897276936358e-06, 'epoch': 5.22}\n"
     ]
    },
    {
     "name": "stderr",
     "output_type": "stream",
     "text": [
      " 53%|█████▎    | 67000/127430 [14:40:06<11:27:59,  1.46it/s]"
     ]
    },
    {
     "name": "stdout",
     "output_type": "stream",
     "text": [
      "{'loss': 0.1405, 'learning_rate': 9.48442282037197e-06, 'epoch': 5.26}\n"
     ]
    },
    {
     "name": "stderr",
     "output_type": "stream",
     "text": [
      " 53%|█████▎    | 67500/127430 [14:45:47<11:11:29,  1.49it/s]"
     ]
    },
    {
     "name": "stdout",
     "output_type": "stream",
     "text": [
      "{'loss': 0.147, 'learning_rate': 9.405948363807582e-06, 'epoch': 5.3}\n"
     ]
    },
    {
     "name": "stderr",
     "output_type": "stream",
     "text": [
      " 53%|█████▎    | 68000/127430 [14:51:26<11:21:39,  1.45it/s]"
     ]
    },
    {
     "name": "stdout",
     "output_type": "stream",
     "text": [
      "{'loss': 0.1357, 'learning_rate': 9.327473907243193e-06, 'epoch': 5.34}\n"
     ]
    },
    {
     "name": "stderr",
     "output_type": "stream",
     "text": [
      " 54%|█████▍    | 68500/127430 [14:57:07<11:15:18,  1.45it/s]"
     ]
    },
    {
     "name": "stdout",
     "output_type": "stream",
     "text": [
      "{'loss': 0.1456, 'learning_rate': 9.248999450678806e-06, 'epoch': 5.38}\n"
     ]
    },
    {
     "name": "stderr",
     "output_type": "stream",
     "text": [
      " 54%|█████▍    | 69000/127430 [15:02:45<10:58:32,  1.48it/s]"
     ]
    },
    {
     "name": "stdout",
     "output_type": "stream",
     "text": [
      "{'loss': 0.1366, 'learning_rate': 9.170524994114417e-06, 'epoch': 5.41}\n"
     ]
    },
    {
     "name": "stderr",
     "output_type": "stream",
     "text": [
      " 55%|█████▍    | 69500/127430 [15:08:22<10:49:55,  1.49it/s]"
     ]
    },
    {
     "name": "stdout",
     "output_type": "stream",
     "text": [
      "{'loss': 0.1532, 'learning_rate': 9.092050537550028e-06, 'epoch': 5.45}\n"
     ]
    },
    {
     "name": "stderr",
     "output_type": "stream",
     "text": [
      " 55%|█████▍    | 70000/127430 [15:13:57<11:26:25,  1.39it/s]"
     ]
    },
    {
     "name": "stdout",
     "output_type": "stream",
     "text": [
      "{'loss': 0.1512, 'learning_rate': 9.01357608098564e-06, 'epoch': 5.49}\n"
     ]
    },
    {
     "name": "stderr",
     "output_type": "stream",
     "text": [
      " 55%|█████▌    | 70500/127430 [15:19:37<10:23:06,  1.52it/s]"
     ]
    },
    {
     "name": "stdout",
     "output_type": "stream",
     "text": [
      "{'loss': 0.1451, 'learning_rate': 8.935101624421252e-06, 'epoch': 5.53}\n"
     ]
    },
    {
     "name": "stderr",
     "output_type": "stream",
     "text": [
      " 56%|█████▌    | 71000/127430 [15:25:09<10:48:42,  1.45it/s]"
     ]
    },
    {
     "name": "stdout",
     "output_type": "stream",
     "text": [
      "{'loss': 0.1528, 'learning_rate': 8.856627167856864e-06, 'epoch': 5.57}\n"
     ]
    },
    {
     "name": "stderr",
     "output_type": "stream",
     "text": [
      " 56%|█████▌    | 71500/127430 [15:30:43<10:29:00,  1.48it/s]"
     ]
    },
    {
     "name": "stdout",
     "output_type": "stream",
     "text": [
      "{'loss': 0.1452, 'learning_rate': 8.778152711292474e-06, 'epoch': 5.61}\n"
     ]
    },
    {
     "name": "stderr",
     "output_type": "stream",
     "text": [
      " 57%|█████▋    | 72000/127430 [15:36:15<10:26:28,  1.47it/s]"
     ]
    },
    {
     "name": "stdout",
     "output_type": "stream",
     "text": [
      "{'loss': 0.1504, 'learning_rate': 8.699678254728087e-06, 'epoch': 5.65}\n"
     ]
    },
    {
     "name": "stderr",
     "output_type": "stream",
     "text": [
      " 57%|█████▋    | 72500/127430 [15:41:48<10:08:42,  1.50it/s]"
     ]
    },
    {
     "name": "stdout",
     "output_type": "stream",
     "text": [
      "{'loss': 0.1409, 'learning_rate': 8.6212037981637e-06, 'epoch': 5.69}\n"
     ]
    },
    {
     "name": "stderr",
     "output_type": "stream",
     "text": [
      " 57%|█████▋    | 73000/127430 [15:47:21<9:47:17,  1.54it/s] "
     ]
    },
    {
     "name": "stdout",
     "output_type": "stream",
     "text": [
      "{'loss': 0.1481, 'learning_rate': 8.54272934159931e-06, 'epoch': 5.73}\n"
     ]
    },
    {
     "name": "stderr",
     "output_type": "stream",
     "text": [
      " 58%|█████▊    | 73500/127430 [15:52:54<10:14:22,  1.46it/s]"
     ]
    },
    {
     "name": "stdout",
     "output_type": "stream",
     "text": [
      "{'loss': 0.1436, 'learning_rate': 8.464254885034922e-06, 'epoch': 5.77}\n"
     ]
    },
    {
     "name": "stderr",
     "output_type": "stream",
     "text": [
      " 58%|█████▊    | 74000/127430 [15:58:27<9:44:37,  1.52it/s] "
     ]
    },
    {
     "name": "stdout",
     "output_type": "stream",
     "text": [
      "{'loss': 0.1612, 'learning_rate': 8.385780428470533e-06, 'epoch': 5.81}\n"
     ]
    },
    {
     "name": "stderr",
     "output_type": "stream",
     "text": [
      " 58%|█████▊    | 74500/127430 [16:03:58<10:02:55,  1.46it/s]"
     ]
    },
    {
     "name": "stdout",
     "output_type": "stream",
     "text": [
      "{'loss': 0.1387, 'learning_rate': 8.307305971906145e-06, 'epoch': 5.85}\n"
     ]
    },
    {
     "name": "stderr",
     "output_type": "stream",
     "text": [
      " 59%|█████▉    | 75000/127430 [16:09:28<9:34:35,  1.52it/s] "
     ]
    },
    {
     "name": "stdout",
     "output_type": "stream",
     "text": [
      "{'loss': 0.1449, 'learning_rate': 8.228831515341757e-06, 'epoch': 5.89}\n"
     ]
    },
    {
     "name": "stderr",
     "output_type": "stream",
     "text": [
      " 59%|█████▉    | 75500/127430 [16:15:02<9:44:53,  1.48it/s] "
     ]
    },
    {
     "name": "stdout",
     "output_type": "stream",
     "text": [
      "{'loss': 0.1477, 'learning_rate': 8.150357058777368e-06, 'epoch': 5.92}\n"
     ]
    },
    {
     "name": "stderr",
     "output_type": "stream",
     "text": [
      " 60%|█████▉    | 76000/127430 [16:20:39<9:15:28,  1.54it/s] "
     ]
    },
    {
     "name": "stdout",
     "output_type": "stream",
     "text": [
      "{'loss': 0.1448, 'learning_rate': 8.07188260221298e-06, 'epoch': 5.96}\n"
     ]
    },
    {
     "name": "stderr",
     "output_type": "stream",
     "text": [
      "                                                            \n",
      " 60%|██████    | 76458/127430 [16:35:15<8:04:18,  1.75it/s]"
     ]
    },
    {
     "name": "stdout",
     "output_type": "stream",
     "text": [
      "{'eval_loss': nan, 'eval_runtime': 571.6014, 'eval_samples_per_second': 31.476, 'eval_steps_per_second': 3.935, 'epoch': 6.0}\n"
     ]
    },
    {
     "name": "stderr",
     "output_type": "stream",
     "text": [
      " 60%|██████    | 76500/127430 [16:35:43<9:30:14,  1.49it/s]    "
     ]
    },
    {
     "name": "stdout",
     "output_type": "stream",
     "text": [
      "{'loss': 0.1397, 'learning_rate': 7.993408145648592e-06, 'epoch': 6.0}\n"
     ]
    },
    {
     "name": "stderr",
     "output_type": "stream",
     "text": [
      " 60%|██████    | 77000/127430 [16:41:13<9:19:35,  1.50it/s] "
     ]
    },
    {
     "name": "stdout",
     "output_type": "stream",
     "text": [
      "{'loss': 0.1427, 'learning_rate': 7.914933689084203e-06, 'epoch': 6.04}\n"
     ]
    },
    {
     "name": "stderr",
     "output_type": "stream",
     "text": [
      " 61%|██████    | 77500/127430 [16:46:47<9:21:08,  1.48it/s] "
     ]
    },
    {
     "name": "stdout",
     "output_type": "stream",
     "text": [
      "{'loss': 0.1304, 'learning_rate': 7.836459232519815e-06, 'epoch': 6.08}\n"
     ]
    },
    {
     "name": "stderr",
     "output_type": "stream",
     "text": [
      " 61%|██████    | 78000/127430 [16:52:25<8:53:32,  1.54it/s] "
     ]
    },
    {
     "name": "stdout",
     "output_type": "stream",
     "text": [
      "{'loss': 0.1463, 'learning_rate': 7.757984775955427e-06, 'epoch': 6.12}\n"
     ]
    },
    {
     "name": "stderr",
     "output_type": "stream",
     "text": [
      " 62%|██████▏   | 78500/127430 [16:57:58<9:00:11,  1.51it/s]"
     ]
    },
    {
     "name": "stdout",
     "output_type": "stream",
     "text": [
      "{'loss': 0.1528, 'learning_rate': 7.67951031939104e-06, 'epoch': 6.16}\n"
     ]
    },
    {
     "name": "stderr",
     "output_type": "stream",
     "text": [
      " 62%|██████▏   | 79000/127430 [17:03:30<8:54:53,  1.51it/s]"
     ]
    },
    {
     "name": "stdout",
     "output_type": "stream",
     "text": [
      "{'loss': 0.1371, 'learning_rate': 7.60103586282665e-06, 'epoch': 6.2}\n"
     ]
    },
    {
     "name": "stderr",
     "output_type": "stream",
     "text": [
      " 62%|██████▏   | 79500/127430 [17:09:00<8:58:44,  1.48it/s]"
     ]
    },
    {
     "name": "stdout",
     "output_type": "stream",
     "text": [
      "{'loss': 0.1439, 'learning_rate': 7.522561406262262e-06, 'epoch': 6.24}\n"
     ]
    },
    {
     "name": "stderr",
     "output_type": "stream",
     "text": [
      " 63%|██████▎   | 80000/127430 [17:14:30<8:59:08,  1.47it/s]"
     ]
    },
    {
     "name": "stdout",
     "output_type": "stream",
     "text": [
      "{'loss': 0.1441, 'learning_rate': 7.444086949697874e-06, 'epoch': 6.28}\n"
     ]
    },
    {
     "name": "stderr",
     "output_type": "stream",
     "text": [
      " 63%|██████▎   | 80500/127430 [17:20:08<8:35:33,  1.52it/s] "
     ]
    },
    {
     "name": "stdout",
     "output_type": "stream",
     "text": [
      "{'loss': 0.1381, 'learning_rate': 7.365612493133486e-06, 'epoch': 6.32}\n"
     ]
    },
    {
     "name": "stderr",
     "output_type": "stream",
     "text": [
      " 64%|██████▎   | 81000/127430 [17:25:45<8:17:23,  1.56it/s]"
     ]
    },
    {
     "name": "stdout",
     "output_type": "stream",
     "text": [
      "{'loss': 0.146, 'learning_rate': 7.287138036569097e-06, 'epoch': 6.36}\n"
     ]
    },
    {
     "name": "stderr",
     "output_type": "stream",
     "text": [
      " 64%|██████▍   | 81500/127430 [17:31:22<8:45:41,  1.46it/s]"
     ]
    },
    {
     "name": "stdout",
     "output_type": "stream",
     "text": [
      "{'loss': 0.1364, 'learning_rate': 7.208663580004709e-06, 'epoch': 6.4}\n"
     ]
    },
    {
     "name": "stderr",
     "output_type": "stream",
     "text": [
      " 64%|██████▍   | 82000/127430 [17:36:58<8:22:29,  1.51it/s]"
     ]
    },
    {
     "name": "stdout",
     "output_type": "stream",
     "text": [
      "{'loss': 0.1412, 'learning_rate': 7.130189123440321e-06, 'epoch': 6.43}\n"
     ]
    },
    {
     "name": "stderr",
     "output_type": "stream",
     "text": [
      " 65%|██████▍   | 82500/127430 [17:42:26<8:06:09,  1.54it/s]"
     ]
    },
    {
     "name": "stdout",
     "output_type": "stream",
     "text": [
      "{'loss': 0.1457, 'learning_rate': 7.051714666875933e-06, 'epoch': 6.47}\n"
     ]
    },
    {
     "name": "stderr",
     "output_type": "stream",
     "text": [
      " 65%|██████▌   | 83000/127430 [17:47:48<7:45:51,  1.59it/s]"
     ]
    },
    {
     "name": "stdout",
     "output_type": "stream",
     "text": [
      "{'loss': 0.134, 'learning_rate': 6.973240210311543e-06, 'epoch': 6.51}\n"
     ]
    },
    {
     "name": "stderr",
     "output_type": "stream",
     "text": [
      " 66%|██████▌   | 83500/127430 [17:53:07<7:44:58,  1.57it/s]"
     ]
    },
    {
     "name": "stdout",
     "output_type": "stream",
     "text": [
      "{'loss': 0.1406, 'learning_rate': 6.894765753747156e-06, 'epoch': 6.55}\n"
     ]
    },
    {
     "name": "stderr",
     "output_type": "stream",
     "text": [
      " 66%|██████▌   | 84000/127430 [17:58:30<8:05:24,  1.49it/s]"
     ]
    },
    {
     "name": "stdout",
     "output_type": "stream",
     "text": [
      "{'loss': 0.1375, 'learning_rate': 6.816291297182768e-06, 'epoch': 6.59}\n"
     ]
    },
    {
     "name": "stderr",
     "output_type": "stream",
     "text": [
      " 66%|██████▋   | 84500/127430 [18:03:54<7:49:35,  1.52it/s]"
     ]
    },
    {
     "name": "stdout",
     "output_type": "stream",
     "text": [
      "{'loss': 0.1447, 'learning_rate': 6.73781684061838e-06, 'epoch': 6.63}\n"
     ]
    },
    {
     "name": "stderr",
     "output_type": "stream",
     "text": [
      " 67%|██████▋   | 85000/127430 [18:09:16<7:26:12,  1.58it/s]"
     ]
    },
    {
     "name": "stdout",
     "output_type": "stream",
     "text": [
      "{'loss': 0.1393, 'learning_rate': 6.65934238405399e-06, 'epoch': 6.67}\n"
     ]
    },
    {
     "name": "stderr",
     "output_type": "stream",
     "text": [
      " 67%|██████▋   | 85500/127430 [18:14:39<7:37:44,  1.53it/s]"
     ]
    },
    {
     "name": "stdout",
     "output_type": "stream",
     "text": [
      "{'loss': 0.1268, 'learning_rate': 6.580867927489602e-06, 'epoch': 6.71}\n"
     ]
    },
    {
     "name": "stderr",
     "output_type": "stream",
     "text": [
      " 67%|██████▋   | 86000/127430 [18:19:59<7:28:19,  1.54it/s]"
     ]
    },
    {
     "name": "stdout",
     "output_type": "stream",
     "text": [
      "{'loss': 0.1443, 'learning_rate': 6.502393470925215e-06, 'epoch': 6.75}\n"
     ]
    },
    {
     "name": "stderr",
     "output_type": "stream",
     "text": [
      " 68%|██████▊   | 86500/127430 [18:25:20<7:21:35,  1.54it/s]"
     ]
    },
    {
     "name": "stdout",
     "output_type": "stream",
     "text": [
      "{'loss': 0.1377, 'learning_rate': 6.423919014360827e-06, 'epoch': 6.79}\n"
     ]
    },
    {
     "name": "stderr",
     "output_type": "stream",
     "text": [
      " 68%|██████▊   | 87000/127430 [18:30:44<7:24:32,  1.52it/s]"
     ]
    },
    {
     "name": "stdout",
     "output_type": "stream",
     "text": [
      "{'loss': 0.143, 'learning_rate': 6.345444557796437e-06, 'epoch': 6.83}\n"
     ]
    },
    {
     "name": "stderr",
     "output_type": "stream",
     "text": [
      " 69%|██████▊   | 87500/127430 [18:36:04<7:08:29,  1.55it/s]"
     ]
    },
    {
     "name": "stdout",
     "output_type": "stream",
     "text": [
      "{'loss': 0.138, 'learning_rate': 6.266970101232049e-06, 'epoch': 6.87}\n"
     ]
    },
    {
     "name": "stderr",
     "output_type": "stream",
     "text": [
      " 69%|██████▉   | 88000/127430 [18:41:24<7:14:35,  1.51it/s]"
     ]
    },
    {
     "name": "stdout",
     "output_type": "stream",
     "text": [
      "{'loss': 0.1487, 'learning_rate': 6.188495644667661e-06, 'epoch': 6.91}\n"
     ]
    },
    {
     "name": "stderr",
     "output_type": "stream",
     "text": [
      " 69%|██████▉   | 88500/127430 [18:46:45<6:42:33,  1.61it/s]"
     ]
    },
    {
     "name": "stdout",
     "output_type": "stream",
     "text": [
      "{'loss': 0.1418, 'learning_rate': 6.110021188103274e-06, 'epoch': 6.94}\n"
     ]
    },
    {
     "name": "stderr",
     "output_type": "stream",
     "text": [
      " 70%|██████▉   | 89000/127430 [18:52:02<6:40:25,  1.60it/s]"
     ]
    },
    {
     "name": "stdout",
     "output_type": "stream",
     "text": [
      "{'loss': 0.1425, 'learning_rate': 6.031546731538884e-06, 'epoch': 6.98}\n"
     ]
    },
    {
     "name": "stderr",
     "output_type": "stream",
     "text": [
      "                                                           \n",
      " 70%|███████   | 89201/127430 [19:03:06<5:56:00,  1.79it/s]"
     ]
    },
    {
     "name": "stdout",
     "output_type": "stream",
     "text": [
      "{'eval_loss': nan, 'eval_runtime': 536.009, 'eval_samples_per_second': 33.567, 'eval_steps_per_second': 4.196, 'epoch': 7.0}\n"
     ]
    },
    {
     "name": "stderr",
     "output_type": "stream",
     "text": [
      " 70%|███████   | 89500/127430 [19:06:19<6:52:07,  1.53it/s]    "
     ]
    },
    {
     "name": "stdout",
     "output_type": "stream",
     "text": [
      "{'loss': 0.1426, 'learning_rate': 5.953072274974496e-06, 'epoch': 7.02}\n"
     ]
    },
    {
     "name": "stderr",
     "output_type": "stream",
     "text": [
      " 71%|███████   | 90000/127430 [19:11:43<6:57:41,  1.49it/s]"
     ]
    },
    {
     "name": "stdout",
     "output_type": "stream",
     "text": [
      "{'loss': 0.1404, 'learning_rate': 5.874597818410108e-06, 'epoch': 7.06}\n"
     ]
    },
    {
     "name": "stderr",
     "output_type": "stream",
     "text": [
      " 71%|███████   | 90500/127430 [19:17:08<6:39:35,  1.54it/s] "
     ]
    },
    {
     "name": "stdout",
     "output_type": "stream",
     "text": [
      "{'loss': 0.144, 'learning_rate': 5.79612336184572e-06, 'epoch': 7.1}\n"
     ]
    },
    {
     "name": "stderr",
     "output_type": "stream",
     "text": [
      " 71%|███████▏  | 91000/127430 [19:22:30<6:22:17,  1.59it/s]"
     ]
    },
    {
     "name": "stdout",
     "output_type": "stream",
     "text": [
      "{'loss': 0.1339, 'learning_rate': 5.717648905281331e-06, 'epoch': 7.14}\n"
     ]
    },
    {
     "name": "stderr",
     "output_type": "stream",
     "text": [
      " 72%|███████▏  | 91500/127430 [19:27:52<6:20:24,  1.57it/s]"
     ]
    },
    {
     "name": "stdout",
     "output_type": "stream",
     "text": [
      "{'loss': 0.1339, 'learning_rate': 5.639174448716943e-06, 'epoch': 7.18}\n"
     ]
    },
    {
     "name": "stderr",
     "output_type": "stream",
     "text": [
      " 72%|███████▏  | 92000/127430 [19:33:14<6:10:12,  1.60it/s]"
     ]
    },
    {
     "name": "stdout",
     "output_type": "stream",
     "text": [
      "{'loss': 0.128, 'learning_rate': 5.560699992152555e-06, 'epoch': 7.22}\n"
     ]
    },
    {
     "name": "stderr",
     "output_type": "stream",
     "text": [
      " 73%|███████▎  | 92500/127430 [19:38:36<6:01:48,  1.61it/s]"
     ]
    },
    {
     "name": "stdout",
     "output_type": "stream",
     "text": [
      "{'loss': 0.1398, 'learning_rate': 5.482225535588166e-06, 'epoch': 7.26}\n"
     ]
    },
    {
     "name": "stderr",
     "output_type": "stream",
     "text": [
      " 73%|███████▎  | 93000/127430 [19:43:59<6:18:23,  1.52it/s]"
     ]
    },
    {
     "name": "stdout",
     "output_type": "stream",
     "text": [
      "{'loss': 0.1355, 'learning_rate': 5.403751079023778e-06, 'epoch': 7.3}\n"
     ]
    },
    {
     "name": "stderr",
     "output_type": "stream",
     "text": [
      " 73%|███████▎  | 93500/127430 [19:49:24<6:03:39,  1.56it/s]"
     ]
    },
    {
     "name": "stdout",
     "output_type": "stream",
     "text": [
      "{'loss': 0.1462, 'learning_rate': 5.32527662245939e-06, 'epoch': 7.34}\n"
     ]
    },
    {
     "name": "stderr",
     "output_type": "stream",
     "text": [
      " 74%|███████▍  | 94000/127430 [19:55:22<7:31:14,  1.23it/s]"
     ]
    },
    {
     "name": "stdout",
     "output_type": "stream",
     "text": [
      "{'loss': 0.1362, 'learning_rate': 5.246802165895002e-06, 'epoch': 7.38}\n"
     ]
    },
    {
     "name": "stderr",
     "output_type": "stream",
     "text": [
      " 74%|███████▍  | 94500/127430 [20:02:06<8:03:05,  1.14it/s]"
     ]
    },
    {
     "name": "stdout",
     "output_type": "stream",
     "text": [
      "{'loss': 0.1487, 'learning_rate': 5.168327709330613e-06, 'epoch': 7.42}\n"
     ]
    },
    {
     "name": "stderr",
     "output_type": "stream",
     "text": [
      " 75%|███████▍  | 95000/127430 [20:08:57<7:29:34,  1.20it/s]"
     ]
    },
    {
     "name": "stdout",
     "output_type": "stream",
     "text": [
      "{'loss': 0.1317, 'learning_rate': 5.089853252766225e-06, 'epoch': 7.46}\n"
     ]
    },
    {
     "name": "stderr",
     "output_type": "stream",
     "text": [
      " 75%|███████▍  | 95500/127430 [20:15:55<7:25:30,  1.19it/s]"
     ]
    },
    {
     "name": "stdout",
     "output_type": "stream",
     "text": [
      "{'loss': 0.1262, 'learning_rate': 5.011378796201837e-06, 'epoch': 7.49}\n"
     ]
    },
    {
     "name": "stderr",
     "output_type": "stream",
     "text": [
      " 75%|███████▌  | 96000/127430 [20:22:59<7:36:32,  1.15it/s]"
     ]
    },
    {
     "name": "stdout",
     "output_type": "stream",
     "text": [
      "{'loss': 0.1358, 'learning_rate': 4.932904339637449e-06, 'epoch': 7.53}\n"
     ]
    },
    {
     "name": "stderr",
     "output_type": "stream",
     "text": [
      " 76%|███████▌  | 96500/127430 [20:30:10<7:54:08,  1.09it/s]"
     ]
    },
    {
     "name": "stdout",
     "output_type": "stream",
     "text": [
      "{'loss': 0.1442, 'learning_rate': 4.8544298830730605e-06, 'epoch': 7.57}\n"
     ]
    },
    {
     "name": "stderr",
     "output_type": "stream",
     "text": [
      " 76%|███████▌  | 97000/127430 [20:37:21<7:02:21,  1.20it/s]"
     ]
    },
    {
     "name": "stdout",
     "output_type": "stream",
     "text": [
      "{'loss': 0.1361, 'learning_rate': 4.775955426508672e-06, 'epoch': 7.61}\n"
     ]
    },
    {
     "name": "stderr",
     "output_type": "stream",
     "text": [
      " 77%|███████▋  | 97500/127430 [20:44:30<7:16:14,  1.14it/s]"
     ]
    },
    {
     "name": "stdout",
     "output_type": "stream",
     "text": [
      "{'loss': 0.1406, 'learning_rate': 4.6974809699442836e-06, 'epoch': 7.65}\n"
     ]
    },
    {
     "name": "stderr",
     "output_type": "stream",
     "text": [
      " 77%|███████▋  | 98000/127430 [20:51:41<7:20:33,  1.11it/s]"
     ]
    },
    {
     "name": "stdout",
     "output_type": "stream",
     "text": [
      "{'loss': 0.1375, 'learning_rate': 4.619006513379895e-06, 'epoch': 7.69}\n"
     ]
    },
    {
     "name": "stderr",
     "output_type": "stream",
     "text": [
      " 77%|███████▋  | 98500/127430 [20:58:51<6:48:35,  1.18it/s]"
     ]
    },
    {
     "name": "stdout",
     "output_type": "stream",
     "text": [
      "{'loss': 0.1396, 'learning_rate': 4.540532056815507e-06, 'epoch': 7.73}\n"
     ]
    },
    {
     "name": "stderr",
     "output_type": "stream",
     "text": [
      " 78%|███████▊  | 99000/127430 [21:06:09<7:20:24,  1.08it/s]"
     ]
    },
    {
     "name": "stdout",
     "output_type": "stream",
     "text": [
      "{'loss': 0.13, 'learning_rate': 4.4620576002511185e-06, 'epoch': 7.77}\n"
     ]
    },
    {
     "name": "stderr",
     "output_type": "stream",
     "text": [
      " 78%|███████▊  | 99500/127430 [21:13:28<6:51:43,  1.13it/s]"
     ]
    },
    {
     "name": "stdout",
     "output_type": "stream",
     "text": [
      "{'loss': 0.1472, 'learning_rate': 4.3835831436867305e-06, 'epoch': 7.81}\n"
     ]
    },
    {
     "name": "stderr",
     "output_type": "stream",
     "text": [
      " 78%|███████▊  | 100000/127430 [21:20:41<6:44:48,  1.13it/s]"
     ]
    },
    {
     "name": "stdout",
     "output_type": "stream",
     "text": [
      "{'loss': 0.1472, 'learning_rate': 4.3051086871223416e-06, 'epoch': 7.85}\n"
     ]
    },
    {
     "name": "stderr",
     "output_type": "stream",
     "text": [
      " 79%|███████▉  | 100500/127430 [21:27:57<6:21:34,  1.18it/s] "
     ]
    },
    {
     "name": "stdout",
     "output_type": "stream",
     "text": [
      "{'loss': 0.1335, 'learning_rate': 4.2266342305579535e-06, 'epoch': 7.89}\n"
     ]
    },
    {
     "name": "stderr",
     "output_type": "stream",
     "text": [
      " 79%|███████▉  | 101000/127430 [21:34:23<4:57:57,  1.48it/s]"
     ]
    },
    {
     "name": "stdout",
     "output_type": "stream",
     "text": [
      "{'loss': 0.1363, 'learning_rate': 4.1481597739935654e-06, 'epoch': 7.93}\n"
     ]
    },
    {
     "name": "stderr",
     "output_type": "stream",
     "text": [
      " 80%|███████▉  | 101500/127430 [21:39:43<4:32:36,  1.59it/s]"
     ]
    },
    {
     "name": "stdout",
     "output_type": "stream",
     "text": [
      "{'loss': 0.1438, 'learning_rate': 4.069685317429177e-06, 'epoch': 7.97}\n"
     ]
    },
    {
     "name": "stderr",
     "output_type": "stream",
     "text": [
      "                                                            \n",
      " 80%|████████  | 101944/127430 [21:53:05<3:49:32,  1.85it/s]"
     ]
    },
    {
     "name": "stdout",
     "output_type": "stream",
     "text": [
      "{'eval_loss': nan, 'eval_runtime': 522.2387, 'eval_samples_per_second': 34.452, 'eval_steps_per_second': 4.306, 'epoch': 8.0}\n"
     ]
    },
    {
     "name": "stderr",
     "output_type": "stream",
     "text": [
      " 80%|████████  | 102000/127430 [21:53:41<4:31:53,  1.56it/s]    "
     ]
    },
    {
     "name": "stdout",
     "output_type": "stream",
     "text": [
      "{'loss': 0.1439, 'learning_rate': 3.9912108608647885e-06, 'epoch': 8.0}\n"
     ]
    },
    {
     "name": "stderr",
     "output_type": "stream",
     "text": [
      " 80%|████████  | 102500/127430 [21:58:57<4:28:42,  1.55it/s]"
     ]
    },
    {
     "name": "stdout",
     "output_type": "stream",
     "text": [
      "{'loss': 0.1399, 'learning_rate': 3.9127364043004e-06, 'epoch': 8.04}\n"
     ]
    },
    {
     "name": "stderr",
     "output_type": "stream",
     "text": [
      " 81%|████████  | 103000/127430 [22:04:13<4:32:46,  1.49it/s]"
     ]
    },
    {
     "name": "stdout",
     "output_type": "stream",
     "text": [
      "{'loss': 0.1537, 'learning_rate': 3.834261947736012e-06, 'epoch': 8.08}\n"
     ]
    },
    {
     "name": "stderr",
     "output_type": "stream",
     "text": [
      " 81%|████████  | 103500/127430 [22:09:38<4:19:25,  1.54it/s]"
     ]
    },
    {
     "name": "stdout",
     "output_type": "stream",
     "text": [
      "{'loss': 0.1404, 'learning_rate': 3.7557874911716243e-06, 'epoch': 8.12}\n"
     ]
    },
    {
     "name": "stderr",
     "output_type": "stream",
     "text": [
      " 82%|████████▏ | 104000/127430 [22:14:58<4:05:28,  1.59it/s]"
     ]
    },
    {
     "name": "stdout",
     "output_type": "stream",
     "text": [
      "{'loss': 0.1359, 'learning_rate': 3.6773130346072354e-06, 'epoch': 8.16}\n"
     ]
    },
    {
     "name": "stderr",
     "output_type": "stream",
     "text": [
      " 82%|████████▏ | 104500/127430 [22:20:21<4:03:02,  1.57it/s]"
     ]
    },
    {
     "name": "stdout",
     "output_type": "stream",
     "text": [
      "{'loss': 0.1419, 'learning_rate': 3.5988385780428477e-06, 'epoch': 8.2}\n"
     ]
    },
    {
     "name": "stderr",
     "output_type": "stream",
     "text": [
      " 82%|████████▏ | 105000/127430 [22:25:25<3:44:12,  1.67it/s]"
     ]
    },
    {
     "name": "stdout",
     "output_type": "stream",
     "text": [
      "{'loss': 0.1425, 'learning_rate': 3.520364121478459e-06, 'epoch': 8.24}\n"
     ]
    },
    {
     "name": "stderr",
     "output_type": "stream",
     "text": [
      " 83%|████████▎ | 105500/127430 [22:30:24<3:39:47,  1.66it/s]"
     ]
    },
    {
     "name": "stdout",
     "output_type": "stream",
     "text": [
      "{'loss': 0.1431, 'learning_rate': 3.4418896649140708e-06, 'epoch': 8.28}\n"
     ]
    },
    {
     "name": "stderr",
     "output_type": "stream",
     "text": [
      " 83%|████████▎ | 106000/127430 [22:35:22<3:31:37,  1.69it/s]"
     ]
    },
