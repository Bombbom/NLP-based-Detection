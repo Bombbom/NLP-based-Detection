{
 "cells": [
  {
   "cell_type": "code",
   "execution_count": 1,
   "metadata": {},
   "outputs": [],
   "source": [
    "int2op = {\"00\": \"STOP\",\n",
    "\"01\": \"ADD\",\n",
    "\"02\": \"MUL\",\n",
    "\"03\": \"SUB\",\n",
    "\"04\": \"DIV\",\n",
    "\"05\": \"SDIV\",\n",
    "\"06\": \"MOD\",\n",
    "\"07\":\"SMOD\",\n",
    "\"08\":\"ADDMOD\",\n",
    "\"09\":\"MULMOD\",\n",
    "\"0a\":\"EXP\",\n",
    "\"0b\":\"SIGNEXTEND\",\n",
    "\"10\":\"LT\",\n",
    "\"11\":\"GT\",\n",
    "\"12\":\"SLT\",\n",
    "\"13\":\"SGT\",\n",
    "\"14\":\"EQ\",\n",
    "\"15\":\"ISZERO\",\n",
    "\"16\":\"AND\",\n",
    "\"17\":\"OR\",\n",
    "\"18\":\"XOR\",\n",
    "\"19\":\"NOT\",\n",
    "\"1a\":\"BYTE\",\n",
    "\"1b\":\"SHL\",\n",
    "\"1c\": \"SHR\",\n",
    "\"1d\": \"SAR\",\n",
    "\"20\":\"SHA3\",\n",
    "\"30\":\"ADDRESS\",\n",
    "\"31\":\"BALANCE\",\n",
    "\"32\":\"ORIGIN\",\n",
    "\"33\":\"CALLER\",\n",
    "\"34\":\"CALLVALUE\",\n",
    "\"35\":\"CALLDATALOAD\",\n",
    "\"36\":\"CALLDATASIZE\",\n",
    "\"37\":\"CALLDATACOPY\",\n",
    "\"38\":\"CODESIZE\",\n",
    "\"39\":\"CODECOPY\",\n",
    "\"3a\":\"GASPRICE\",\n",
    "\"3b\":\"EXTCODESIZE\",\n",
    "\"3c\":\"EXTCODECOPY\",\n",
    "\"3d\":\"RETURNDATASIZE\",\n",
    "\"3e\":\"RETURNDATACOPY\",\n",
    "\"3f\": \"EXTCODEHASH\",\n",
    "\"40\":\"BLOCKHASH\",\n",
    "\"41\":\"COINBASE\",\n",
    "\"42\":\"TIMESTAMP\",\n",
    "\"43\":\"NUMBER\",\n",
    "\"44\":\"DIFFICULTY\",\n",
    "\"45\":\"GASLIMIT\",\n",
    "\"46\": \"CHAINID\",\n",
    "\"47\": \"SELFBALANCE\",\n",
    "\"50\":\"POP\",\n",
    "\"51\":\"MLOAD\",\n",
    "\"52\":\"MSTORE\",\n",
    "\"53\":\"MSTORE8\",\n",
    "\"54\":\"SLOAD\",\n",
    "\"55\":\"SSTORE\",\n",
    "\"56\":\"JUMP\",\n",
    "\"57\":\"JUMPI\",\n",
    "\"58\":\"PC\",\n",
    "\"59\":\"MSIZE\",\n",
    "\"5a\":\"GAS\",\n",
    "\"5b\":\"JUMPDEST\",\n",
    "\"60\":\"PUSH1\",\n",
    "\"61\":\"PUSH2\",\n",
    "\"62\":\"PUSH3\",\n",
    "\"63\":\"PUSH4\",\n",
    "\"64\":\"PUSH5\",\n",
    "\"65\":\"PUSH6\",\n",
    "\"66\":\"PUSH7\",\n",
    "\"67\":\"PUSH8\",\n",
    "\"68\":\"PUSH9\",\n",
    "\"69\":\"PUSH10\",\n",
    "\"6a\":\"PUSH11\",\n",
    "\"6b\":\"PUSH12\",\n",
    "\"6c\":\"PUSH13\",\n",
    "\"6d\":\"PUSH14\",\n",
    "\"6e\":\"PUSH15\",\n",
    "\"6f\":\"PUSH16\",\n",
    "\"70\":\"PUSH17\",\n",
    "\"71\":\"PUSH18\",\n",
    "\"72\":\"PUSH19\",\n",
    "\"73\":\"PUSH20\",\n",
    "\"74\":\"PUSH21\",\n",
    "\"75\":\"PUSH22\",\n",
    "\"76\":\"PUSH23\",\n",
    "\"77\":\"PUSH24\",\n",
    "\"78\":\"PUSH25\",\n",
    "\"79\":\"PUSH26\",\n",
    "\"7a\":\"PUSH27\",\n",
    "\"7b\":\"PUSH28\",\n",
    "\"7c\":\"PUSH29\",\n",
    "\"7d\":\"PUSH30\",\n",
    "\"7e\":\"PUSH31\",\n",
    "\"7f\":\"PUSH32\",\n",
    "\"80\":\"DUP1\",\n",
    "\"81\":\"DUP2\",\n",
    "\"82\":\"DUP3\",\n",
    "\"83\":\"DUP4\",\n",
    "\"84\":\"DUP5\",\n",
    "\"85\":\"DUP6\",\n",
    "\"86\":\"DUP7\",\n",
    "\"87\":\"DUP8\",\n",
    "\"88\":\"DUP9\",\n",
    "\"89\":\"DUP10\",\n",
    "\"8a\":\"DUP11\",\n",
    "\"8b\":\"DUP12\",\n",
    "\"8c\":\"DUP13\",\n",
    "\"8d\":\"DUP14\",\n",
    "\"8e\":\"DUP15\",\n",
    "\"8f\":\"DUP16\",\n",
    "\"90\":\"SWAP1\",\n",
    "\"91\":\"SWAP2\",\n",
    "\"92\":\"SWAP3\",\n",
    "\"93\":\"SWAP4\",\n",
    "\"94\":\"SWAP5\",\n",
    "\"95\":\"SWAP6\",\n",
    "\"96\":\"SWAP7\",\n",
    "\"97\":\"SWAP8\",\n",
    "\"98\":\"SWAP9\",\n",
    "\"99\":\"SWAP10\",\n",
    "\"9a\":\"SWAP11\",\n",
    "\"9b\":\"SWAP12\",\n",
    "\"9c\":\"SWAP13\",\n",
    "\"9d\":\"SWAP14\",\n",
    "\"9e\":\"SWAP15\",\n",
    "\"9f\":\"SWAP16\",\n",
    "\"a0\":\"LOG0\",\n",
    "\"a1\":\"LOG1\",\n",
    "\"a2\":\"LOG2\",\n",
    "\"a3\":\"LOG3\",\n",
    "\"a4\":\"LOG4\",\n",
    "\"b0\":\"PUSH\",\n",
    "\"b1\":\"DUP\",\n",
    "\"b2\":\"SWAP\",\n",
    "\"f0\":\"CREATE\",\n",
    "\"f1\":\"CALL\",\n",
    "\"f2\":\"CALLCODE\",\n",
    "\"f3\":\"RETURN\",\n",
    "\"f4\":\"DELEGATECALL\",\n",
    "\"f5\":\"CREATE2\",\n",
    "\"fa\":\"STATICCALL\",\n",
    "\"fd\":\"REVERT\",\n",
    "\"fe\":\"INVALID\",\n",
    "\"ff\":\"SELFDESTRUCT\"}"
   ]
  },
  {
   "cell_type": "code",
   "execution_count": 2,
   "metadata": {},
   "outputs": [
    {
     "name": "stderr",
     "output_type": "stream",
     "text": [
      "/home/bombbom/Documents/NLP_in_Detection_System/env_nlp/lib/python3.8/site-packages/tqdm/auto.py:21: TqdmWarning: IProgress not found. Please update jupyter and ipywidgets. See https://ipywidgets.readthedocs.io/en/stable/user_install.html\n",
      "  from .autonotebook import tqdm as notebook_tqdm\n"
     ]
    }
   ],
   "source": [
    "from datasets import Dataset\n",
    "import pandas as pd\n",
    "import re"
   ]
  },
  {
   "cell_type": "code",
   "execution_count": 3,
   "metadata": {},
   "outputs": [
    {
     "data": {
      "text/html": [
       "<div>\n",
       "<style scoped>\n",
       "    .dataframe tbody tr th:only-of-type {\n",
       "        vertical-align: middle;\n",
       "    }\n",
       "\n",
       "    .dataframe tbody tr th {\n",
       "        vertical-align: top;\n",
       "    }\n",
       "\n",
       "    .dataframe thead th {\n",
       "        text-align: right;\n",
       "    }\n",
       "</style>\n",
       "<table border=\"1\" class=\"dataframe\">\n",
       "  <thead>\n",
       "    <tr style=\"text-align: right;\">\n",
       "      <th></th>\n",
       "      <th>address</th>\n",
       "      <th>source_code</th>\n",
       "      <th>categories</th>\n",
       "      <th>lines</th>\n",
       "    </tr>\n",
       "  </thead>\n",
       "  <tbody>\n",
       "    <tr>\n",
       "      <th>0</th>\n",
       "      <td>0x21e13cb3f3f26f92a62ac7adab4093e8997d1fb1</td>\n",
       "      <td>pragma solidity ^0.4.18;\\n\\n// ---------------...</td>\n",
       "      <td>['Other', 'arithmetic', 'arithmetic']</td>\n",
       "      <td>[154, 141, 103]</td>\n",
       "    </tr>\n",
       "    <tr>\n",
       "      <th>1</th>\n",
       "      <td>0x344005c29af957567f0b40950b425ed018b92170</td>\n",
       "      <td>pragma solidity  ^0.4.21;\\n\\n\\ncontract DSMath...</td>\n",
       "      <td>['arithmetic', 'reentrancy', 'arithmetic', 'ar...</td>\n",
       "      <td>[201, 16, 209, 176, 146, 154, 29]</td>\n",
       "    </tr>\n",
       "    <tr>\n",
       "      <th>2</th>\n",
       "      <td>0x44e320110176c11c93e116f6770f13d96deded43</td>\n",
       "      <td>pragma solidity ^0.4.20;\\n\\n\\ncontract Ownable...</td>\n",
       "      <td>['arithmetic']</td>\n",
       "      <td>[82, 46]</td>\n",
       "    </tr>\n",
       "    <tr>\n",
       "      <th>3</th>\n",
       "      <td>0x5ecd84482176db90bb741ddc8c2f9ccc290e29ce</td>\n",
       "      <td>pragma solidity ^0.4.8;\\ncontract Token{\\n    ...</td>\n",
       "      <td>['arithmetic', 'unchecked_low_calls', 'arithme...</td>\n",
       "      <td>[99, 38, 78, 48, 49, 60, 93]</td>\n",
       "    </tr>\n",
       "    <tr>\n",
       "      <th>4</th>\n",
       "      <td>0xcaf187eb618d2335b4130d784a697be96f4b07b9</td>\n",
       "      <td>pragma solidity 0.4.15;\\n\\ncontract RegistryIC...</td>\n",
       "      <td>['Other']</td>\n",
       "      <td>[80, 28, 63]</td>\n",
       "    </tr>\n",
       "    <tr>\n",
       "      <th>...</th>\n",
       "      <td>...</td>\n",
       "      <td>...</td>\n",
       "      <td>...</td>\n",
       "      <td>...</td>\n",
       "    </tr>\n",
       "    <tr>\n",
       "      <th>47326</th>\n",
       "      <td>0x7f650f3b231d3a32c2b0e2940e870acdd4aa9961</td>\n",
       "      <td>pragma solidity ^0.4.24;\\n\\n\\n\\n\\n/**\\n * @tit...</td>\n",
       "      <td>['reentrancy', 'arithmetic', 'time_manipulatio...</td>\n",
       "      <td>[258, 264, 245, 253, 287]</td>\n",
       "    </tr>\n",
       "    <tr>\n",
       "      <th>47327</th>\n",
       "      <td>0xc73f2474001ad1d6aed615af53631148cf98de6b</td>\n",
       "      <td>pragma solidity ^0.4.18;\\n\\n// ---------------...</td>\n",
       "      <td>['Other', 'arithmetic', 'arithmetic']</td>\n",
       "      <td>[200, 218, 128, 102]</td>\n",
       "    </tr>\n",
       "    <tr>\n",
       "      <th>47328</th>\n",
       "      <td>0xb2105f178abe620ddbb86a70afa94bfa9daa4d01</td>\n",
       "      <td>pragma solidity ^0.4.23;\\n\\nlibrary SafeMath {...</td>\n",
       "      <td>['arithmetic', 'arithmetic', 'front_running']</td>\n",
       "      <td>[124, 20, 205]</td>\n",
       "    </tr>\n",
       "    <tr>\n",
       "      <th>47329</th>\n",
       "      <td>0xe2d4b960d0c639633582cddef57528461e62083d</td>\n",
       "      <td>pragma solidity ^0.4.23;\\n\\n\\n/// @title Multi...</td>\n",
       "      <td>['arithmetic', 'Other', 'unchecked_low_calls',...</td>\n",
       "      <td>[140, 142, 23, 282, 410, 157, 287, 296, 302, 3...</td>\n",
       "    </tr>\n",
       "    <tr>\n",
       "      <th>47330</th>\n",
       "      <td>0xb44a2acd38f7ee6ae965aa8d77f4f14849770203</td>\n",
       "      <td>pragma solidity ^0.4.2;  \\n\\ncontract Maurel {...</td>\n",
       "      <td>['arithmetic']</td>\n",
       "      <td>[7]</td>\n",
       "    </tr>\n",
       "  </tbody>\n",
       "</table>\n",
       "<p>47331 rows × 4 columns</p>\n",
       "</div>"
      ],
      "text/plain": [
       "                                          address  \\\n",
       "0      0x21e13cb3f3f26f92a62ac7adab4093e8997d1fb1   \n",
       "1      0x344005c29af957567f0b40950b425ed018b92170   \n",
       "2      0x44e320110176c11c93e116f6770f13d96deded43   \n",
       "3      0x5ecd84482176db90bb741ddc8c2f9ccc290e29ce   \n",
       "4      0xcaf187eb618d2335b4130d784a697be96f4b07b9   \n",
       "...                                           ...   \n",
       "47326  0x7f650f3b231d3a32c2b0e2940e870acdd4aa9961   \n",
       "47327  0xc73f2474001ad1d6aed615af53631148cf98de6b   \n",
       "47328  0xb2105f178abe620ddbb86a70afa94bfa9daa4d01   \n",
       "47329  0xe2d4b960d0c639633582cddef57528461e62083d   \n",
       "47330  0xb44a2acd38f7ee6ae965aa8d77f4f14849770203   \n",
       "\n",
       "                                             source_code  \\\n",
       "0      pragma solidity ^0.4.18;\\n\\n// ---------------...   \n",
       "1      pragma solidity  ^0.4.21;\\n\\n\\ncontract DSMath...   \n",
       "2      pragma solidity ^0.4.20;\\n\\n\\ncontract Ownable...   \n",
       "3      pragma solidity ^0.4.8;\\ncontract Token{\\n    ...   \n",
       "4      pragma solidity 0.4.15;\\n\\ncontract RegistryIC...   \n",
       "...                                                  ...   \n",
       "47326  pragma solidity ^0.4.24;\\n\\n\\n\\n\\n/**\\n * @tit...   \n",
       "47327  pragma solidity ^0.4.18;\\n\\n// ---------------...   \n",
       "47328  pragma solidity ^0.4.23;\\n\\nlibrary SafeMath {...   \n",
       "47329  pragma solidity ^0.4.23;\\n\\n\\n/// @title Multi...   \n",
       "47330  pragma solidity ^0.4.2;  \\n\\ncontract Maurel {...   \n",
       "\n",
       "                                              categories  \\\n",
       "0                  ['Other', 'arithmetic', 'arithmetic']   \n",
       "1      ['arithmetic', 'reentrancy', 'arithmetic', 'ar...   \n",
       "2                                         ['arithmetic']   \n",
       "3      ['arithmetic', 'unchecked_low_calls', 'arithme...   \n",
       "4                                              ['Other']   \n",
       "...                                                  ...   \n",
       "47326  ['reentrancy', 'arithmetic', 'time_manipulatio...   \n",
       "47327              ['Other', 'arithmetic', 'arithmetic']   \n",
       "47328      ['arithmetic', 'arithmetic', 'front_running']   \n",
       "47329  ['arithmetic', 'Other', 'unchecked_low_calls',...   \n",
       "47330                                     ['arithmetic']   \n",
       "\n",
       "                                                   lines  \n",
       "0                                        [154, 141, 103]  \n",
       "1                      [201, 16, 209, 176, 146, 154, 29]  \n",
       "2                                               [82, 46]  \n",
       "3                           [99, 38, 78, 48, 49, 60, 93]  \n",
       "4                                           [80, 28, 63]  \n",
       "...                                                  ...  \n",
       "47326                          [258, 264, 245, 253, 287]  \n",
       "47327                               [200, 218, 128, 102]  \n",
       "47328                                     [124, 20, 205]  \n",
       "47329  [140, 142, 23, 282, 410, 157, 287, 296, 302, 3...  \n",
       "47330                                                [7]  \n",
       "\n",
       "[47331 rows x 4 columns]"
      ]
     },
     "execution_count": 3,
     "metadata": {},
     "output_type": "execute_result"
    }
   ],
   "source": [
    "data = pd.read_pickle(\"/home/bombbom/Documents/NLP_in_Detection_System/dataset_example/labeled_SBW_datasets.pkl\")\n",
    "data"
   ]
  },
  {
   "cell_type": "code",
   "execution_count": 4,
   "metadata": {},
   "outputs": [],
   "source": [
    "# data = data[['address', 'source_code', 'categories']]"
   ]
  },
  {
   "cell_type": "code",
   "execution_count": 4,
   "metadata": {},
   "outputs": [],
   "source": [
    "import re\n",
    "def get_version(source_code):\n",
    "    x = re.findall(\"[0][.][0-9][.][0-9]*[0-9]\", source_code)\n",
    "    if len(x)>0:\n",
    "        return x[0]\n",
    "    return \"0.4.25\""
   ]
  },
  {
   "cell_type": "code",
   "execution_count": 5,
   "metadata": {},
   "outputs": [],
   "source": [
    "data['version'] = data.source_code.apply(get_version)"
   ]
  },
  {
   "cell_type": "code",
   "execution_count": 7,
   "metadata": {},
   "outputs": [],
   "source": [
    "def change(version):\n",
    "    if version =='0.4.99' :\n",
    "        return '0.5.0'"
   ]
  },
  {
   "cell_type": "code",
   "execution_count": 8,
   "metadata": {},
   "outputs": [
    {
     "data": {
      "text/plain": [
       "array(['0.4.18', '0.4.21', '0.4.20', '0.4.8', '0.4.15', '0.4.17',\n",
       "       '0.4.24', '0.4.4', '0.4.19', '0.4.16', '0.4.25', '0.4.13',\n",
       "       '0.4.99', '0.5.0', '0.4.22', '0.4.11', '0.4.23', '0.5.2', '0.5.7',\n",
       "       '0.5.6', '0.5.4', '0.4.0', '0.5.1', '0.4.2', '0.4.3', '0.4.9',\n",
       "       '0.5.5', '0.4.7', '0.4.10', '0.5.00', '0.5.8', '0.4.14', '0.4.12',\n",
       "       '0.7.1', '0.5.9', '0.4.6', '0.1.4', '0.0.1', '0.5.3', '0.3.14',\n",
       "       '0.4.26', '0.1.0', '0.5.10', '0.2.1', '0.4.1', '0.3.6', '0.3.5',\n",
       "       '0.9.9', '0.0.2', '0.4.5', '0.2.4', '0.3.1', '0.1.5', '0.1.2',\n",
       "       '0.3.3', '0.1.3', '0.1.1', '0.3.2', '0.6.0'], dtype=object)"
      ]
     },
     "execution_count": 8,
     "metadata": {},
     "output_type": "execute_result"
    }
   ],
   "source": [
    "data['version'].unique()"
   ]
  },
  {
   "cell_type": "code",
   "execution_count": 9,
   "metadata": {},
   "outputs": [],
   "source": [
    "value = [ '0.4.8', '0.4.4',  '0.4.0',  '0.4.2', '0.4.3', '0.4.9', '0.4.7', '0.4.10', '0.5.00', '0.4.6', '0.1.4', '0.0.1',  '0.3.14','0.1.0',  '0.2.1', '0.4.1', '0.3.6', '0.3.5','0.9.9', '0.0.2', '0.4.5', '0.2.4', '0.3.1', '0.1.5', '0.1.2','0.3.3', '0.1.3', '0.1.1', '0.3.2']\n",
    "\n",
    "def filter_rows_by_values(df, col, values):\n",
    "       df = data[~data[col].isin(values)]\n",
    "       return df\n",
    "       "
   ]
  },
  {
   "cell_type": "code",
   "execution_count": 10,
   "metadata": {},
   "outputs": [],
   "source": [
    "data = filter_rows_by_values(data, \"version\", value)"
   ]
  },
  {
   "cell_type": "code",
   "execution_count": 11,
   "metadata": {},
   "outputs": [
    {
     "data": {
      "text/html": [
       "<div>\n",
       "<style scoped>\n",
       "    .dataframe tbody tr th:only-of-type {\n",
       "        vertical-align: middle;\n",
       "    }\n",
       "\n",
       "    .dataframe tbody tr th {\n",
       "        vertical-align: top;\n",
       "    }\n",
       "\n",
       "    .dataframe thead th {\n",
       "        text-align: right;\n",
       "    }\n",
       "</style>\n",
       "<table border=\"1\" class=\"dataframe\">\n",
       "  <thead>\n",
       "    <tr style=\"text-align: right;\">\n",
       "      <th></th>\n",
       "      <th>address</th>\n",
       "      <th>source_code</th>\n",
       "      <th>categories</th>\n",
       "      <th>lines</th>\n",
       "      <th>version</th>\n",
       "    </tr>\n",
       "  </thead>\n",
       "  <tbody>\n",
       "    <tr>\n",
       "      <th>0</th>\n",
       "      <td>0x21e13cb3f3f26f92a62ac7adab4093e8997d1fb1</td>\n",
       "      <td>pragma solidity ^0.4.18;\\n\\n// ---------------...</td>\n",
       "      <td>['Other', 'arithmetic', 'arithmetic']</td>\n",
       "      <td>[154, 141, 103]</td>\n",
       "      <td>0.4.18</td>\n",
       "    </tr>\n",
       "    <tr>\n",
       "      <th>1</th>\n",
       "      <td>0x344005c29af957567f0b40950b425ed018b92170</td>\n",
       "      <td>pragma solidity  ^0.4.21;\\n\\n\\ncontract DSMath...</td>\n",
       "      <td>['arithmetic', 'reentrancy', 'arithmetic', 'ar...</td>\n",
       "      <td>[201, 16, 209, 176, 146, 154, 29]</td>\n",
       "      <td>0.4.21</td>\n",
       "    </tr>\n",
       "    <tr>\n",
       "      <th>2</th>\n",
       "      <td>0x44e320110176c11c93e116f6770f13d96deded43</td>\n",
       "      <td>pragma solidity ^0.4.20;\\n\\n\\ncontract Ownable...</td>\n",
       "      <td>['arithmetic']</td>\n",
       "      <td>[82, 46]</td>\n",
       "      <td>0.4.20</td>\n",
       "    </tr>\n",
       "    <tr>\n",
       "      <th>3</th>\n",
       "      <td>0xcaf187eb618d2335b4130d784a697be96f4b07b9</td>\n",
       "      <td>pragma solidity 0.4.15;\\n\\ncontract RegistryIC...</td>\n",
       "      <td>['Other']</td>\n",
       "      <td>[80, 28, 63]</td>\n",
       "      <td>0.4.15</td>\n",
       "    </tr>\n",
       "    <tr>\n",
       "      <th>4</th>\n",
       "      <td>0x2ab58a02c4d26bcf3c6116f62ec5c1a6d4c7a53f</td>\n",
       "      <td>pragma solidity ^0.4.18;\\n\\n// File: openzeppe...</td>\n",
       "      <td>['arithmetic', 'front_running', 'Other', 'reen...</td>\n",
       "      <td>[37, 166, 199, 103, 167, 175, 80, 178, 84, 86,...</td>\n",
       "      <td>0.4.18</td>\n",
       "    </tr>\n",
       "    <tr>\n",
       "      <th>...</th>\n",
       "      <td>...</td>\n",
       "      <td>...</td>\n",
       "      <td>...</td>\n",
       "      <td>...</td>\n",
       "      <td>...</td>\n",
       "    </tr>\n",
       "    <tr>\n",
       "      <th>42829</th>\n",
       "      <td>0xc2396239e59d07bd726e94411413a26152e8c733</td>\n",
       "      <td>pragma solidity ^0.4.18;\\n\\n// ---------------...</td>\n",
       "      <td>['Other', 'arithmetic', 'arithmetic']</td>\n",
       "      <td>[129, 219, 201]</td>\n",
       "      <td>0.4.18</td>\n",
       "    </tr>\n",
       "    <tr>\n",
       "      <th>42830</th>\n",
       "      <td>0x7f650f3b231d3a32c2b0e2940e870acdd4aa9961</td>\n",
       "      <td>pragma solidity ^0.4.24;\\n\\n\\n\\n\\n/**\\n * @tit...</td>\n",
       "      <td>['reentrancy', 'arithmetic', 'time_manipulatio...</td>\n",
       "      <td>[258, 264, 245, 253, 287]</td>\n",
       "      <td>0.4.24</td>\n",
       "    </tr>\n",
       "    <tr>\n",
       "      <th>42831</th>\n",
       "      <td>0xc73f2474001ad1d6aed615af53631148cf98de6b</td>\n",
       "      <td>pragma solidity ^0.4.18;\\n\\n// ---------------...</td>\n",
       "      <td>['Other', 'arithmetic', 'arithmetic']</td>\n",
       "      <td>[200, 218, 128, 102]</td>\n",
       "      <td>0.4.18</td>\n",
       "    </tr>\n",
       "    <tr>\n",
       "      <th>42832</th>\n",
       "      <td>0xb2105f178abe620ddbb86a70afa94bfa9daa4d01</td>\n",
       "      <td>pragma solidity ^0.4.23;\\n\\nlibrary SafeMath {...</td>\n",
       "      <td>['arithmetic', 'arithmetic', 'front_running']</td>\n",
       "      <td>[124, 20, 205]</td>\n",
       "      <td>0.4.23</td>\n",
       "    </tr>\n",
       "    <tr>\n",
       "      <th>42833</th>\n",
       "      <td>0xe2d4b960d0c639633582cddef57528461e62083d</td>\n",
       "      <td>pragma solidity ^0.4.23;\\n\\n\\n/// @title Multi...</td>\n",
       "      <td>['arithmetic', 'Other', 'unchecked_low_calls',...</td>\n",
       "      <td>[140, 142, 23, 282, 410, 157, 287, 296, 302, 3...</td>\n",
       "      <td>0.4.23</td>\n",
       "    </tr>\n",
       "  </tbody>\n",
       "</table>\n",
       "<p>42834 rows × 5 columns</p>\n",
       "</div>"
      ],
      "text/plain": [
       "                                          address  \\\n",
       "0      0x21e13cb3f3f26f92a62ac7adab4093e8997d1fb1   \n",
       "1      0x344005c29af957567f0b40950b425ed018b92170   \n",
       "2      0x44e320110176c11c93e116f6770f13d96deded43   \n",
       "3      0xcaf187eb618d2335b4130d784a697be96f4b07b9   \n",
       "4      0x2ab58a02c4d26bcf3c6116f62ec5c1a6d4c7a53f   \n",
       "...                                           ...   \n",
       "42829  0xc2396239e59d07bd726e94411413a26152e8c733   \n",
       "42830  0x7f650f3b231d3a32c2b0e2940e870acdd4aa9961   \n",
       "42831  0xc73f2474001ad1d6aed615af53631148cf98de6b   \n",
       "42832  0xb2105f178abe620ddbb86a70afa94bfa9daa4d01   \n",
       "42833  0xe2d4b960d0c639633582cddef57528461e62083d   \n",
       "\n",
       "                                             source_code  \\\n",
       "0      pragma solidity ^0.4.18;\\n\\n// ---------------...   \n",
       "1      pragma solidity  ^0.4.21;\\n\\n\\ncontract DSMath...   \n",
       "2      pragma solidity ^0.4.20;\\n\\n\\ncontract Ownable...   \n",
       "3      pragma solidity 0.4.15;\\n\\ncontract RegistryIC...   \n",
       "4      pragma solidity ^0.4.18;\\n\\n// File: openzeppe...   \n",
       "...                                                  ...   \n",
       "42829  pragma solidity ^0.4.18;\\n\\n// ---------------...   \n",
       "42830  pragma solidity ^0.4.24;\\n\\n\\n\\n\\n/**\\n * @tit...   \n",
       "42831  pragma solidity ^0.4.18;\\n\\n// ---------------...   \n",
       "42832  pragma solidity ^0.4.23;\\n\\nlibrary SafeMath {...   \n",
       "42833  pragma solidity ^0.4.23;\\n\\n\\n/// @title Multi...   \n",
       "\n",
       "                                              categories  \\\n",
       "0                  ['Other', 'arithmetic', 'arithmetic']   \n",
       "1      ['arithmetic', 'reentrancy', 'arithmetic', 'ar...   \n",
       "2                                         ['arithmetic']   \n",
       "3                                              ['Other']   \n",
       "4      ['arithmetic', 'front_running', 'Other', 'reen...   \n",
       "...                                                  ...   \n",
       "42829              ['Other', 'arithmetic', 'arithmetic']   \n",
       "42830  ['reentrancy', 'arithmetic', 'time_manipulatio...   \n",
       "42831              ['Other', 'arithmetic', 'arithmetic']   \n",
       "42832      ['arithmetic', 'arithmetic', 'front_running']   \n",
       "42833  ['arithmetic', 'Other', 'unchecked_low_calls',...   \n",
       "\n",
       "                                                   lines version  \n",
       "0                                        [154, 141, 103]  0.4.18  \n",
       "1                      [201, 16, 209, 176, 146, 154, 29]  0.4.21  \n",
       "2                                               [82, 46]  0.4.20  \n",
       "3                                           [80, 28, 63]  0.4.15  \n",
       "4      [37, 166, 199, 103, 167, 175, 80, 178, 84, 86,...  0.4.18  \n",
       "...                                                  ...     ...  \n",
       "42829                                    [129, 219, 201]  0.4.18  \n",
       "42830                          [258, 264, 245, 253, 287]  0.4.24  \n",
       "42831                               [200, 218, 128, 102]  0.4.18  \n",
       "42832                                     [124, 20, 205]  0.4.23  \n",
       "42833  [140, 142, 23, 282, 410, 157, 287, 296, 302, 3...  0.4.23  \n",
       "\n",
       "[42834 rows x 5 columns]"
      ]
     },
     "execution_count": 11,
     "metadata": {},
     "output_type": "execute_result"
    }
   ],
   "source": [
    "data.reset_index(drop = \"True\")"
   ]
  },
  {
   "cell_type": "code",
   "execution_count": 12,
   "metadata": {},
   "outputs": [
    {
     "name": "stderr",
     "output_type": "stream",
     "text": [
      "/tmp/ipykernel_105203/1490153070.py:1: SettingWithCopyWarning: \n",
      "A value is trying to be set on a copy of a slice from a DataFrame.\n",
      "Try using .loc[row_indexer,col_indexer] = value instead\n",
      "\n",
      "See the caveats in the documentation: https://pandas.pydata.org/pandas-docs/stable/user_guide/indexing.html#returning-a-view-versus-a-copy\n",
      "  data.version = data.version.apply(change)\n"
     ]
    }
   ],
   "source": [
    "data.version = data.version.apply(change)"
   ]
  },
  {
   "cell_type": "code",
   "execution_count": 21,
   "metadata": {},
   "outputs": [
    {
     "data": {
      "text/plain": [
       "Version('0.4.11')"
      ]
     },
     "execution_count": 21,
     "metadata": {},
     "output_type": "execute_result"
    }
   ],
   "source": [
    "import solcx\n",
    "solcx.install_solc('0.4.11')"
   ]
  },
  {
   "cell_type": "code",
   "execution_count": 13,
   "metadata": {},
   "outputs": [],
   "source": [
    "import os\n",
    "import solcx\n",
    "def compiler(input):\n",
    "    version = get_version(input)\n",
    "    token = \"\"\n",
    "    \n",
    "    try: \n",
    "        solcx.install_solc(version)\n",
    "        a = solcx.compile_source(\n",
    "            input,\n",
    "            output_values=[\"opcodes\"],\n",
    "            solc_version=version\n",
    "        )\n",
    "        \n",
    "        for key, value in a.items():\n",
    "            for k in value:\n",
    "                # print(value[k])\n",
    "                # print(len(value[k]))\n",
    "                # token = value[k].split()\n",
    "                # print(len(token))\n",
    "                token = value[k]\n",
    "    except:\n",
    "        token=\"\"\n",
    "    \n",
    "    return token"
   ]
  },
  {
   "cell_type": "code",
   "execution_count": 14,
   "metadata": {},
   "outputs": [
    {
     "name": "stderr",
     "output_type": "stream",
     "text": [
      "/tmp/ipykernel_105203/1518998255.py:1: SettingWithCopyWarning: \n",
      "A value is trying to be set on a copy of a slice from a DataFrame.\n",
      "Try using .loc[row_indexer,col_indexer] = value instead\n",
      "\n",
      "See the caveats in the documentation: https://pandas.pydata.org/pandas-docs/stable/user_guide/indexing.html#returning-a-view-versus-a-copy\n",
      "  data['opcode'] = data.source_code.apply(compiler)\n"
     ]
    }
   ],
   "source": [
    "data['opcode'] = data.source_code.apply(compiler)"
   ]
  },
  {
   "cell_type": "code",
   "execution_count": 9,
   "metadata": {},
   "outputs": [],
   "source": [
    "data.to_pickle(\"data_full.pkl\")"
   ]
  },
  {
   "cell_type": "code",
   "execution_count": 10,
   "metadata": {},
   "outputs": [
    {
     "data": {
      "text/html": [
       "<div>\n",
       "<style scoped>\n",
       "    .dataframe tbody tr th:only-of-type {\n",
       "        vertical-align: middle;\n",
       "    }\n",
       "\n",
       "    .dataframe tbody tr th {\n",
       "        vertical-align: top;\n",
       "    }\n",
       "\n",
       "    .dataframe thead th {\n",
       "        text-align: right;\n",
       "    }\n",
       "</style>\n",
       "<table border=\"1\" class=\"dataframe\">\n",
       "  <thead>\n",
       "    <tr style=\"text-align: right;\">\n",
       "      <th></th>\n",
       "      <th>source_code</th>\n",
       "      <th>version</th>\n",
       "    </tr>\n",
       "  </thead>\n",
       "  <tbody>\n",
       "    <tr>\n",
       "      <th>0</th>\n",
       "      <td>PUSH1 0x60 PUSH1 0x40 MSTORE CALLVALUE ISZERO ...</td>\n",
       "      <td>None</td>\n",
       "    </tr>\n",
       "    <tr>\n",
       "      <th>1</th>\n",
       "      <td>PUSH1 0x60 PUSH1 0x40 MSTORE CALLVALUE ISZERO ...</td>\n",
       "      <td>None</td>\n",
       "    </tr>\n",
       "    <tr>\n",
       "      <th>2</th>\n",
       "      <td>PUSH1 0x60 PUSH1 0x40 MSTORE CALLVALUE ISZERO ...</td>\n",
       "      <td>None</td>\n",
       "    </tr>\n",
       "    <tr>\n",
       "      <th>4</th>\n",
       "      <td>PUSH1 0x60 PUSH1 0x40 MSTORE CALLVALUE ISZERO ...</td>\n",
       "      <td>None</td>\n",
       "    </tr>\n",
       "    <tr>\n",
       "      <th>5</th>\n",
       "      <td>PUSH1 0x60 PUSH1 0x40 MSTORE PUSH1 0x40 DUP1 M...</td>\n",
       "      <td>None</td>\n",
       "    </tr>\n",
       "    <tr>\n",
       "      <th>...</th>\n",
       "      <td>...</td>\n",
       "      <td>...</td>\n",
       "    </tr>\n",
       "    <tr>\n",
       "      <th>47325</th>\n",
       "      <td>PUSH1 0x60 PUSH1 0x40 MSTORE CALLVALUE ISZERO ...</td>\n",
       "      <td>None</td>\n",
       "    </tr>\n",
       "    <tr>\n",
       "      <th>47326</th>\n",
       "      <td>PUSH1 0x4C PUSH1 0x2C PUSH1 0xB DUP3 DUP3 DUP3...</td>\n",
       "      <td>None</td>\n",
       "    </tr>\n",
       "    <tr>\n",
       "      <th>47327</th>\n",
       "      <td>PUSH1 0x60 PUSH1 0x40 MSTORE CALLVALUE ISZERO ...</td>\n",
       "      <td>None</td>\n",
       "    </tr>\n",
       "    <tr>\n",
       "      <th>47328</th>\n",
       "      <td>PUSH1 0x4C PUSH1 0x2C PUSH1 0xB DUP3 DUP3 DUP3...</td>\n",
       "      <td>None</td>\n",
       "    </tr>\n",
       "    <tr>\n",
       "      <th>47329</th>\n",
       "      <td>PUSH1 0x80 PUSH1 0x40 MSTORE CALLVALUE DUP1 IS...</td>\n",
       "      <td>None</td>\n",
       "    </tr>\n",
       "  </tbody>\n",
       "</table>\n",
       "<p>42834 rows × 2 columns</p>\n",
       "</div>"
      ],
      "text/plain": [
       "                                             source_code version\n",
       "0      PUSH1 0x60 PUSH1 0x40 MSTORE CALLVALUE ISZERO ...    None\n",
       "1      PUSH1 0x60 PUSH1 0x40 MSTORE CALLVALUE ISZERO ...    None\n",
       "2      PUSH1 0x60 PUSH1 0x40 MSTORE CALLVALUE ISZERO ...    None\n",
       "4      PUSH1 0x60 PUSH1 0x40 MSTORE CALLVALUE ISZERO ...    None\n",
       "5      PUSH1 0x60 PUSH1 0x40 MSTORE PUSH1 0x40 DUP1 M...    None\n",
       "...                                                  ...     ...\n",
       "47325  PUSH1 0x60 PUSH1 0x40 MSTORE CALLVALUE ISZERO ...    None\n",
       "47326  PUSH1 0x4C PUSH1 0x2C PUSH1 0xB DUP3 DUP3 DUP3...    None\n",
       "47327  PUSH1 0x60 PUSH1 0x40 MSTORE CALLVALUE ISZERO ...    None\n",
       "47328  PUSH1 0x4C PUSH1 0x2C PUSH1 0xB DUP3 DUP3 DUP3...    None\n",
       "47329  PUSH1 0x80 PUSH1 0x40 MSTORE CALLVALUE DUP1 IS...    None\n",
       "\n",
       "[42834 rows x 2 columns]"
      ]
     },
     "execution_count": 10,
     "metadata": {},
     "output_type": "execute_result"
    }
   ],
   "source": [
    "data"
   ]
  },
  {
   "cell_type": "code",
   "execution_count": 11,
   "metadata": {},
   "outputs": [],
   "source": [
    "data=data[['source_code']]"
   ]
  },
  {
   "cell_type": "code",
   "execution_count": 14,
   "metadata": {},
   "outputs": [],
   "source": [
    "data = data.reset_index(drop=True)"
   ]
  },
  {
   "cell_type": "code",
   "execution_count": 7,
   "metadata": {},
   "outputs": [],
   "source": [
    "data =pd.read_pickle(\"/home/bombbom/Documents/NLP_in_Detection_System/data.pkl\")"
   ]
  },
  {
   "cell_type": "code",
   "execution_count": 15,
   "metadata": {},
   "outputs": [
    {
     "data": {
      "text/html": [
       "<div>\n",
       "<style scoped>\n",
       "    .dataframe tbody tr th:only-of-type {\n",
       "        vertical-align: middle;\n",
       "    }\n",
       "\n",
       "    .dataframe tbody tr th {\n",
       "        vertical-align: top;\n",
       "    }\n",
       "\n",
       "    .dataframe thead th {\n",
       "        text-align: right;\n",
       "    }\n",
       "</style>\n",
       "<table border=\"1\" class=\"dataframe\">\n",
       "  <thead>\n",
       "    <tr style=\"text-align: right;\">\n",
       "      <th></th>\n",
       "      <th>source_code</th>\n",
       "    </tr>\n",
       "  </thead>\n",
       "  <tbody>\n",
       "    <tr>\n",
       "      <th>0</th>\n",
       "      <td>PUSH1 0x60 PUSH1 0x40 MSTORE CALLVALUE ISZERO ...</td>\n",
       "    </tr>\n",
       "    <tr>\n",
       "      <th>1</th>\n",
       "      <td>PUSH1 0x60 PUSH1 0x40 MSTORE CALLVALUE ISZERO ...</td>\n",
       "    </tr>\n",
       "    <tr>\n",
       "      <th>2</th>\n",
       "      <td>PUSH1 0x60 PUSH1 0x40 MSTORE CALLVALUE ISZERO ...</td>\n",
       "    </tr>\n",
       "    <tr>\n",
       "      <th>3</th>\n",
       "      <td>PUSH1 0x60 PUSH1 0x40 MSTORE CALLVALUE ISZERO ...</td>\n",
       "    </tr>\n",
       "    <tr>\n",
       "      <th>4</th>\n",
       "      <td>PUSH1 0x60 PUSH1 0x40 MSTORE PUSH1 0x40 DUP1 M...</td>\n",
       "    </tr>\n",
       "    <tr>\n",
       "      <th>...</th>\n",
       "      <td>...</td>\n",
       "    </tr>\n",
       "    <tr>\n",
       "      <th>42829</th>\n",
       "      <td>PUSH1 0x60 PUSH1 0x40 MSTORE CALLVALUE ISZERO ...</td>\n",
       "    </tr>\n",
       "    <tr>\n",
       "      <th>42830</th>\n",
       "      <td>PUSH1 0x4C PUSH1 0x2C PUSH1 0xB DUP3 DUP3 DUP3...</td>\n",
       "    </tr>\n",
       "    <tr>\n",
       "      <th>42831</th>\n",
       "      <td>PUSH1 0x60 PUSH1 0x40 MSTORE CALLVALUE ISZERO ...</td>\n",
       "    </tr>\n",
       "    <tr>\n",
       "      <th>42832</th>\n",
       "      <td>PUSH1 0x4C PUSH1 0x2C PUSH1 0xB DUP3 DUP3 DUP3...</td>\n",
       "    </tr>\n",
       "    <tr>\n",
       "      <th>42833</th>\n",
       "      <td>PUSH1 0x80 PUSH1 0x40 MSTORE CALLVALUE DUP1 IS...</td>\n",
       "    </tr>\n",
       "  </tbody>\n",
       "</table>\n",
       "<p>42834 rows × 1 columns</p>\n",
       "</div>"
      ],
      "text/plain": [
       "                                             source_code\n",
       "0      PUSH1 0x60 PUSH1 0x40 MSTORE CALLVALUE ISZERO ...\n",
       "1      PUSH1 0x60 PUSH1 0x40 MSTORE CALLVALUE ISZERO ...\n",
       "2      PUSH1 0x60 PUSH1 0x40 MSTORE CALLVALUE ISZERO ...\n",
       "3      PUSH1 0x60 PUSH1 0x40 MSTORE CALLVALUE ISZERO ...\n",
       "4      PUSH1 0x60 PUSH1 0x40 MSTORE PUSH1 0x40 DUP1 M...\n",
       "...                                                  ...\n",
       "42829  PUSH1 0x60 PUSH1 0x40 MSTORE CALLVALUE ISZERO ...\n",
       "42830  PUSH1 0x4C PUSH1 0x2C PUSH1 0xB DUP3 DUP3 DUP3...\n",
       "42831  PUSH1 0x60 PUSH1 0x40 MSTORE CALLVALUE ISZERO ...\n",
       "42832  PUSH1 0x4C PUSH1 0x2C PUSH1 0xB DUP3 DUP3 DUP3...\n",
       "42833  PUSH1 0x80 PUSH1 0x40 MSTORE CALLVALUE DUP1 IS...\n",
       "\n",
       "[42834 rows x 1 columns]"
      ]
     },
     "execution_count": 15,
     "metadata": {},
     "output_type": "execute_result"
    }
   ],
   "source": [
    "data"
   ]
  },
  {
   "cell_type": "code",
   "execution_count": null,
   "metadata": {},
   "outputs": [],
   "source": []
  },
  {
   "cell_type": "code",
   "execution_count": 16,
   "metadata": {},
   "outputs": [],
   "source": [
    "data = Dataset.from_pandas(data)"
   ]
  },
  {
   "cell_type": "code",
   "execution_count": 17,
   "metadata": {},
   "outputs": [],
   "source": [
    "def get_training_corpus():\n",
    "    return (\n",
    "        data[i : i + 1000][\"source_code\"]\n",
    "        for i in range(0, len(data), 1000)\n",
    "    )\n",
    "\n",
    "\n",
    "training_corpus = get_training_corpus()"
   ]
  },
  {
   "cell_type": "code",
   "execution_count": 18,
   "metadata": {},
   "outputs": [],
   "source": [
    "from transformers import AutoTokenizer\n",
    "\n",
    "old_tokenizer = AutoTokenizer.from_pretrained(\"distilbert-base-uncased\")"
   ]
  },
  {
   "cell_type": "code",
   "execution_count": 19,
   "metadata": {},
   "outputs": [
    {
     "data": {
      "text/plain": [
       "['push',\n",
       " '##1',\n",
       " '0',\n",
       " '##x',\n",
       " '##80',\n",
       " 'push',\n",
       " '##1',\n",
       " '0',\n",
       " '##x',\n",
       " '##40',\n",
       " 'ms',\n",
       " '##tore',\n",
       " 'call',\n",
       " '##val',\n",
       " '##ue',\n",
       " 'du',\n",
       " '##p',\n",
       " '##1']"
      ]
     },
     "execution_count": 19,
     "metadata": {},
     "output_type": "execute_result"
    }
   ],
   "source": [
    "example = '''PUSH1 0x80 PUSH1 0x40 MSTORE CALLVALUE DUP1'''\n",
    "\n",
    "tokens = old_tokenizer.tokenize(example)\n",
    "tokens"
   ]
  },
  {
   "cell_type": "code",
   "execution_count": 20,
   "metadata": {},
   "outputs": [
    {
     "data": {
      "text/plain": [
       "145"
      ]
     },
     "execution_count": 20,
     "metadata": {},
     "output_type": "execute_result"
    }
   ],
   "source": [
    "old_tokenizer.add_tokens(list(int2op.values()))"
   ]
  },
  {
   "cell_type": "code",
   "execution_count": 21,
   "metadata": {},
   "outputs": [
    {
     "name": "stdout",
     "output_type": "stream",
     "text": [
      "\n",
      "\n",
      "\n"
     ]
    }
   ],
   "source": [
    "tokenizer = old_tokenizer.train_new_from_iterator(training_corpus, 52000)\n"
   ]
  },
  {
   "cell_type": "code",
   "execution_count": 22,
   "metadata": {},
   "outputs": [
    {
     "data": {
      "text/plain": [
       "['push1', '0x80', 'push1', '0x40', 'mstore', 'callvalue', 'dup1']"
      ]
     },
     "execution_count": 22,
     "metadata": {},
     "output_type": "execute_result"
    }
   ],
   "source": [
    "tokens = tokenizer.tokenize(example)\n",
    "tokens"
   ]
  },
  {
   "cell_type": "code",
   "execution_count": 23,
   "metadata": {},
   "outputs": [
    {
     "data": {
      "text/plain": [
       "('/home/bombbom/Documents/NLP_in_Detection_System/save_model/tokenizer_opcode/tokenizer_config.json',\n",
       " '/home/bombbom/Documents/NLP_in_Detection_System/save_model/tokenizer_opcode/special_tokens_map.json',\n",
       " '/home/bombbom/Documents/NLP_in_Detection_System/save_model/tokenizer_opcode/vocab.txt',\n",
       " '/home/bombbom/Documents/NLP_in_Detection_System/save_model/tokenizer_opcode/added_tokens.json',\n",
       " '/home/bombbom/Documents/NLP_in_Detection_System/save_model/tokenizer_opcode/tokenizer.json')"
      ]
     },
     "execution_count": 23,
     "metadata": {},
     "output_type": "execute_result"
    }
   ],
   "source": [
    "tokenizer.save_pretrained(\"/home/bombbom/Documents/NLP_in_Detection_System/save_model/tokenizer_opcode/\")"
   ]
  },
  {
   "attachments": {},
   "cell_type": "markdown",
   "metadata": {},
   "source": [
    "# Pretrain"
   ]
  },
  {
   "cell_type": "code",
   "execution_count": 24,
   "metadata": {},
   "outputs": [],
   "source": [
    "df=pd.read_pickle(\"/home/bombbom/Documents/NLP_in_Detection_System/data.pkl\")"
   ]
  },
  {
   "cell_type": "code",
   "execution_count": 25,
   "metadata": {},
   "outputs": [],
   "source": [
    "df =df[['source_code']]"
   ]
  },
  {
   "cell_type": "code",
   "execution_count": 26,
   "metadata": {},
   "outputs": [
    {
     "data": {
      "text/html": [
       "<div>\n",
       "<style scoped>\n",
       "    .dataframe tbody tr th:only-of-type {\n",
       "        vertical-align: middle;\n",
       "    }\n",
       "\n",
       "    .dataframe tbody tr th {\n",
       "        vertical-align: top;\n",
       "    }\n",
       "\n",
       "    .dataframe thead th {\n",
       "        text-align: right;\n",
       "    }\n",
       "</style>\n",
       "<table border=\"1\" class=\"dataframe\">\n",
       "  <thead>\n",
       "    <tr style=\"text-align: right;\">\n",
       "      <th></th>\n",
       "      <th>source_code</th>\n",
       "    </tr>\n",
       "  </thead>\n",
       "  <tbody>\n",
       "    <tr>\n",
       "      <th>0</th>\n",
       "      <td>PUSH1 0x60 PUSH1 0x40 MSTORE CALLVALUE ISZERO ...</td>\n",
       "    </tr>\n",
       "    <tr>\n",
       "      <th>1</th>\n",
       "      <td>PUSH1 0x60 PUSH1 0x40 MSTORE CALLVALUE ISZERO ...</td>\n",
       "    </tr>\n",
       "    <tr>\n",
       "      <th>2</th>\n",
       "      <td>PUSH1 0x60 PUSH1 0x40 MSTORE CALLVALUE ISZERO ...</td>\n",
       "    </tr>\n",
       "    <tr>\n",
       "      <th>4</th>\n",
       "      <td>PUSH1 0x60 PUSH1 0x40 MSTORE CALLVALUE ISZERO ...</td>\n",
       "    </tr>\n",
       "    <tr>\n",
       "      <th>5</th>\n",
       "      <td>PUSH1 0x60 PUSH1 0x40 MSTORE PUSH1 0x40 DUP1 M...</td>\n",
       "    </tr>\n",
       "    <tr>\n",
       "      <th>...</th>\n",
       "      <td>...</td>\n",
       "    </tr>\n",
       "    <tr>\n",
       "      <th>47325</th>\n",
       "      <td>PUSH1 0x60 PUSH1 0x40 MSTORE CALLVALUE ISZERO ...</td>\n",
       "    </tr>\n",
       "    <tr>\n",
       "      <th>47326</th>\n",
       "      <td>PUSH1 0x4C PUSH1 0x2C PUSH1 0xB DUP3 DUP3 DUP3...</td>\n",
       "    </tr>\n",
       "    <tr>\n",
       "      <th>47327</th>\n",
       "      <td>PUSH1 0x60 PUSH1 0x40 MSTORE CALLVALUE ISZERO ...</td>\n",
       "    </tr>\n",
       "    <tr>\n",
       "      <th>47328</th>\n",
       "      <td>PUSH1 0x4C PUSH1 0x2C PUSH1 0xB DUP3 DUP3 DUP3...</td>\n",
       "    </tr>\n",
       "    <tr>\n",
       "      <th>47329</th>\n",
       "      <td>PUSH1 0x80 PUSH1 0x40 MSTORE CALLVALUE DUP1 IS...</td>\n",
       "    </tr>\n",
       "  </tbody>\n",
       "</table>\n",
       "<p>42834 rows × 1 columns</p>\n",
       "</div>"
      ],
      "text/plain": [
       "                                             source_code\n",
       "0      PUSH1 0x60 PUSH1 0x40 MSTORE CALLVALUE ISZERO ...\n",
       "1      PUSH1 0x60 PUSH1 0x40 MSTORE CALLVALUE ISZERO ...\n",
       "2      PUSH1 0x60 PUSH1 0x40 MSTORE CALLVALUE ISZERO ...\n",
       "4      PUSH1 0x60 PUSH1 0x40 MSTORE CALLVALUE ISZERO ...\n",
       "5      PUSH1 0x60 PUSH1 0x40 MSTORE PUSH1 0x40 DUP1 M...\n",
       "...                                                  ...\n",
       "47325  PUSH1 0x60 PUSH1 0x40 MSTORE CALLVALUE ISZERO ...\n",
       "47326  PUSH1 0x4C PUSH1 0x2C PUSH1 0xB DUP3 DUP3 DUP3...\n",
       "47327  PUSH1 0x60 PUSH1 0x40 MSTORE CALLVALUE ISZERO ...\n",
       "47328  PUSH1 0x4C PUSH1 0x2C PUSH1 0xB DUP3 DUP3 DUP3...\n",
       "47329  PUSH1 0x80 PUSH1 0x40 MSTORE CALLVALUE DUP1 IS...\n",
       "\n",
       "[42834 rows x 1 columns]"
      ]
     },
     "execution_count": 26,
     "metadata": {},
     "output_type": "execute_result"
    }
   ],
   "source": [
    "df"
   ]
  },
  {
   "cell_type": "code",
   "execution_count": 28,
   "metadata": {},
   "outputs": [],
   "source": [
    "from sklearn.model_selection import train_test_split\n",
    "\n",
    "train, test = train_test_split(df,test_size=0.3, random_state=20)"
   ]
  },
  {
   "cell_type": "code",
   "execution_count": 29,
   "metadata": {},
   "outputs": [],
   "source": [
    "train, val = train_test_split(train,test_size=0.15, random_state=20)"
   ]
  },
  {
   "cell_type": "code",
   "execution_count": 30,
   "metadata": {},
   "outputs": [],
   "source": [
    "data_train = Dataset.from_pandas(train)\n",
    "data_test = Dataset.from_pandas(test)\n",
    "data_val = Dataset.from_pandas(val)"
   ]
  },
  {
   "cell_type": "code",
   "execution_count": 31,
   "metadata": {},
   "outputs": [],
   "source": [
    "def preprocess_function(examples):\n",
    "    return tokenizer([\" \".join(x) for x in examples[\"source_code\"]], padding = \"max_length\", truncation=True)\n",
    "\n",
    "block_size = 128\n",
    "\n",
    "def group_texts(examples):\n",
    "    # Concatenate all texts.\n",
    "    concatenated_examples = {k: sum(examples[k], []) for k in examples.keys()}\n",
    "    total_length = len(concatenated_examples[list(examples.keys())[0]])\n",
    "    # We drop the small remainder, we could add padding if the model supported it instead of this drop, you can\n",
    "    # customize this part to your needs.\n",
    "    if total_length >= block_size:\n",
    "        total_length = (total_length // block_size) * block_size\n",
    "    # Split by chunks of block_size.\n",
    "    result = {\n",
    "        k: [t[i : i + block_size] for i in range(0, total_length, block_size)]\n",
    "        for k, t in concatenated_examples.items()\n",
    "    }\n",
    "    result[\"labels\"] = result[\"input_ids\"].copy()\n",
    "    return result\n"
   ]
  },
  {
   "cell_type": "code",
   "execution_count": 32,
   "metadata": {},
   "outputs": [
    {
     "name": "stderr",
     "output_type": "stream",
     "text": [
      "                                                                               \r"
     ]
    }
   ],
   "source": [
    "tokenized_data_train = data_train.map(preprocess_function, batched = True, num_proc=4, remove_columns = data_train.column_names)\n",
    "tokenized_data_val = data_val.map(preprocess_function, batched = True, num_proc=4, remove_columns = data_val.column_names)\n"
   ]
  },
  {
   "cell_type": "code",
   "execution_count": 33,
   "metadata": {},
   "outputs": [
    {
     "name": "stderr",
     "output_type": "stream",
     "text": [
      "                                                                                \r"
     ]
    }
   ],
   "source": [
    "lm_dataset_train = tokenized_data_train.map(group_texts, batched=True, num_proc=4 )\n",
    "lm_dataset_val = tokenized_data_val.map(group_texts, batched=True, num_proc=4)"
   ]
  },
  {
   "cell_type": "code",
   "execution_count": 36,
   "metadata": {},
   "outputs": [
    {
     "name": "stdout",
     "output_type": "stream",
     "text": [
      "DistilBertForMaskedLM(\n",
      "  (activation): GELUActivation()\n",
      "  (distilbert): DistilBertModel(\n",
      "    (embeddings): Embeddings(\n",
      "      (word_embeddings): Embedding(30522, 768, padding_idx=0)\n",
      "      (position_embeddings): Embedding(512, 768)\n",
      "      (LayerNorm): LayerNorm((768,), eps=1e-12, elementwise_affine=True)\n",
      "      (dropout): Dropout(p=0.1, inplace=False)\n",
      "    )\n",
      "    (transformer): Transformer(\n",
      "      (layer): ModuleList(\n",
      "        (0-5): 6 x TransformerBlock(\n",
      "          (attention): MultiHeadSelfAttention(\n",
      "            (dropout): Dropout(p=0.1, inplace=False)\n",
      "            (q_lin): Linear(in_features=768, out_features=768, bias=True)\n",
      "            (k_lin): Linear(in_features=768, out_features=768, bias=True)\n",
      "            (v_lin): Linear(in_features=768, out_features=768, bias=True)\n",
      "            (out_lin): Linear(in_features=768, out_features=768, bias=True)\n",
      "          )\n",
      "          (sa_layer_norm): LayerNorm((768,), eps=1e-12, elementwise_affine=True)\n",
      "          (ffn): FFN(\n",
      "            (dropout): Dropout(p=0.1, inplace=False)\n",
      "            (lin1): Linear(in_features=768, out_features=3072, bias=True)\n",
      "            (lin2): Linear(in_features=3072, out_features=768, bias=True)\n",
      "            (activation): GELUActivation()\n",
      "          )\n",
      "          (output_layer_norm): LayerNorm((768,), eps=1e-12, elementwise_affine=True)\n",
      "        )\n",
      "      )\n",
      "    )\n",
      "  )\n",
      "  (vocab_transform): Linear(in_features=768, out_features=768, bias=True)\n",
      "  (vocab_layer_norm): LayerNorm((768,), eps=1e-12, elementwise_affine=True)\n",
      "  (vocab_projector): Linear(in_features=768, out_features=30522, bias=True)\n",
      "  (mlm_loss_fct): CrossEntropyLoss()\n",
      ")\n",
      "DistilBertForMaskedLM(\n",
      "  (activation): GELUActivation()\n",
      "  (distilbert): DistilBertModel(\n",
      "    (embeddings): Embeddings(\n",
      "      (word_embeddings): Embedding(52000, 768)\n",
      "      (position_embeddings): Embedding(512, 768)\n",
      "      (LayerNorm): LayerNorm((768,), eps=1e-12, elementwise_affine=True)\n",
      "      (dropout): Dropout(p=0.1, inplace=False)\n",
      "    )\n",
      "    (transformer): Transformer(\n",
      "      (layer): ModuleList(\n",
      "        (0-5): 6 x TransformerBlock(\n",
      "          (attention): MultiHeadSelfAttention(\n",
      "            (dropout): Dropout(p=0.1, inplace=False)\n",
      "            (q_lin): Linear(in_features=768, out_features=768, bias=True)\n",
      "            (k_lin): Linear(in_features=768, out_features=768, bias=True)\n",
      "            (v_lin): Linear(in_features=768, out_features=768, bias=True)\n",
      "            (out_lin): Linear(in_features=768, out_features=768, bias=True)\n",
      "          )\n",
      "          (sa_layer_norm): LayerNorm((768,), eps=1e-12, elementwise_affine=True)\n",
      "          (ffn): FFN(\n",
      "            (dropout): Dropout(p=0.1, inplace=False)\n",
      "            (lin1): Linear(in_features=768, out_features=3072, bias=True)\n",
      "            (lin2): Linear(in_features=3072, out_features=768, bias=True)\n",
      "            (activation): GELUActivation()\n",
      "          )\n",
      "          (output_layer_norm): LayerNorm((768,), eps=1e-12, elementwise_affine=True)\n",
      "        )\n",
      "      )\n",
      "    )\n",
      "  )\n",
      "  (vocab_transform): Linear(in_features=768, out_features=768, bias=True)\n",
      "  (vocab_layer_norm): LayerNorm((768,), eps=1e-12, elementwise_affine=True)\n",
      "  (vocab_projector): Linear(in_features=768, out_features=52000, bias=True)\n",
      "  (mlm_loss_fct): CrossEntropyLoss()\n",
      ")\n"
     ]
    }
   ],
   "source": [
    "from transformers import DataCollatorForLanguageModeling\n",
    "\n",
    "data_collator = DataCollatorForLanguageModeling(tokenizer=tokenizer, mlm_probability=0.15)\n",
    "from transformers import AutoModelForMaskedLM\n",
    "model = AutoModelForMaskedLM.from_pretrained(\"distilbert-base-uncased\")\n",
    "print(model)\n",
    "# %%\n",
    "len(tokenizer)\n",
    "## Resize \n",
    "model.resize_token_embeddings(len(tokenizer))\n",
    "print(model)"
   ]
  },
  {
   "cell_type": "code",
   "execution_count": 37,
   "metadata": {},
   "outputs": [],
   "source": [
    "## Step 5: Setup training_args \n",
    "from transformers import Trainer, TrainingArguments\n",
    "training_args = TrainingArguments(\n",
    "    output_dir=\"pre-train-mlm_opcode\",\n",
    "    evaluation_strategy=\"epoch\",\n",
    "    learning_rate=2e-5,\n",
    "    num_train_epochs=10,\n",
    "    weight_decay=0.01,\n",
    "    save_steps=10000,\n",
    "    push_to_hub=False,\n",
    ")\n",
    "\n",
    "trainer = Trainer(\n",
    "    model=model,\n",
    "    args=training_args,\n",
    "    train_dataset=lm_dataset_train,\n",
    "    eval_dataset=lm_dataset_val,\n",
    "    data_collator=data_collator,\n",
    ")\n"
   ]
  },
  {
   "cell_type": "code",
   "execution_count": null,
   "metadata": {},
   "outputs": [],
   "source": [
    "train.train()"
   ]
  },
  {
   "cell_type": "code",
   "execution_count": null,
   "metadata": {},
   "outputs": [],
   "source": [
    "train.save()"
   ]
  }
 ],
 "metadata": {
  "kernelspec": {
   "display_name": "env_nlp",
   "language": "python",
   "name": "python3"
  },
  "language_info": {
   "codemirror_mode": {
    "name": "ipython",
    "version": 3
   },
   "file_extension": ".py",
   "mimetype": "text/x-python",
   "name": "python",
   "nbconvert_exporter": "python",
   "pygments_lexer": "ipython3",
   "version": "3.8.10"
  },
  "orig_nbformat": 4
 },
 "nbformat": 4,
 "nbformat_minor": 2
}
