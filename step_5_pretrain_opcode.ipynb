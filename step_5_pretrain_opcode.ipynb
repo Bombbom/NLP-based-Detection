{
 "cells": [
  {
   "cell_type": "code",
   "execution_count": 1,
   "metadata": {},
   "outputs": [],
   "source": [
    "int2op = {\"00\": \"STOP\",\n",
    "\"01\": \"ADD\",\n",
    "\"02\": \"MUL\",\n",
    "\"03\": \"SUB\",\n",
    "\"04\": \"DIV\",\n",
    "\"05\": \"SDIV\",\n",
    "\"06\": \"MOD\",\n",
    "\"07\":\"SMOD\",\n",
    "\"08\":\"ADDMOD\",\n",
    "\"09\":\"MULMOD\",\n",
    "\"0a\":\"EXP\",\n",
    "\"0b\":\"SIGNEXTEND\",\n",
    "\"10\":\"LT\",\n",
    "\"11\":\"GT\",\n",
    "\"12\":\"SLT\",\n",
    "\"13\":\"SGT\",\n",
    "\"14\":\"EQ\",\n",
    "\"15\":\"ISZERO\",\n",
    "\"16\":\"AND\",\n",
    "\"17\":\"OR\",\n",
    "\"18\":\"XOR\",\n",
    "\"19\":\"NOT\",\n",
    "\"1a\":\"BYTE\",\n",
    "\"1b\":\"SHL\",\n",
    "\"1c\": \"SHR\",\n",
    "\"1d\": \"SAR\",\n",
    "\"20\":\"SHA3\",\n",
    "\"30\":\"ADDRESS\",\n",
    "\"31\":\"BALANCE\",\n",
    "\"32\":\"ORIGIN\",\n",
    "\"33\":\"CALLER\",\n",
    "\"34\":\"CALLVALUE\",\n",
    "\"35\":\"CALLDATALOAD\",\n",
    "\"36\":\"CALLDATASIZE\",\n",
    "\"37\":\"CALLDATACOPY\",\n",
    "\"38\":\"CODESIZE\",\n",
    "\"39\":\"CODECOPY\",\n",
    "\"3a\":\"GASPRICE\",\n",
    "\"3b\":\"EXTCODESIZE\",\n",
    "\"3c\":\"EXTCODECOPY\",\n",
    "\"3d\":\"RETURNDATASIZE\",\n",
    "\"3e\":\"RETURNDATACOPY\",\n",
    "\"3f\": \"EXTCODEHASH\",\n",
    "\"40\":\"BLOCKHASH\",\n",
    "\"41\":\"COINBASE\",\n",
    "\"42\":\"TIMESTAMP\",\n",
    "\"43\":\"NUMBER\",\n",
    "\"44\":\"DIFFICULTY\",\n",
    "\"45\":\"GASLIMIT\",\n",
    "\"46\": \"CHAINID\",\n",
    "\"47\": \"SELFBALANCE\",\n",
    "\"50\":\"POP\",\n",
    "\"51\":\"MLOAD\",\n",
    "\"52\":\"MSTORE\",\n",
    "\"53\":\"MSTORE8\",\n",
    "\"54\":\"SLOAD\",\n",
    "\"55\":\"SSTORE\",\n",
    "\"56\":\"JUMP\",\n",
    "\"57\":\"JUMPI\",\n",
    "\"58\":\"PC\",\n",
    "\"59\":\"MSIZE\",\n",
    "\"5a\":\"GAS\",\n",
    "\"5b\":\"JUMPDEST\",\n",
    "\"60\":\"PUSH1\",\n",
    "\"61\":\"PUSH2\",\n",
    "\"62\":\"PUSH3\",\n",
    "\"63\":\"PUSH4\",\n",
    "\"64\":\"PUSH5\",\n",
    "\"65\":\"PUSH6\",\n",
    "\"66\":\"PUSH7\",\n",
    "\"67\":\"PUSH8\",\n",
    "\"68\":\"PUSH9\",\n",
    "\"69\":\"PUSH10\",\n",
    "\"6a\":\"PUSH11\",\n",
    "\"6b\":\"PUSH12\",\n",
    "\"6c\":\"PUSH13\",\n",
    "\"6d\":\"PUSH14\",\n",
    "\"6e\":\"PUSH15\",\n",
    "\"6f\":\"PUSH16\",\n",
    "\"70\":\"PUSH17\",\n",
    "\"71\":\"PUSH18\",\n",
    "\"72\":\"PUSH19\",\n",
    "\"73\":\"PUSH20\",\n",
    "\"74\":\"PUSH21\",\n",
    "\"75\":\"PUSH22\",\n",
    "\"76\":\"PUSH23\",\n",
    "\"77\":\"PUSH24\",\n",
    "\"78\":\"PUSH25\",\n",
    "\"79\":\"PUSH26\",\n",
    "\"7a\":\"PUSH27\",\n",
    "\"7b\":\"PUSH28\",\n",
    "\"7c\":\"PUSH29\",\n",
    "\"7d\":\"PUSH30\",\n",
    "\"7e\":\"PUSH31\",\n",
    "\"7f\":\"PUSH32\",\n",
    "\"80\":\"DUP1\",\n",
    "\"81\":\"DUP2\",\n",
    "\"82\":\"DUP3\",\n",
    "\"83\":\"DUP4\",\n",
    "\"84\":\"DUP5\",\n",
    "\"85\":\"DUP6\",\n",
    "\"86\":\"DUP7\",\n",
    "\"87\":\"DUP8\",\n",
    "\"88\":\"DUP9\",\n",
    "\"89\":\"DUP10\",\n",
    "\"8a\":\"DUP11\",\n",
    "\"8b\":\"DUP12\",\n",
    "\"8c\":\"DUP13\",\n",
    "\"8d\":\"DUP14\",\n",
    "\"8e\":\"DUP15\",\n",
    "\"8f\":\"DUP16\",\n",
    "\"90\":\"SWAP1\",\n",
    "\"91\":\"SWAP2\",\n",
    "\"92\":\"SWAP3\",\n",
    "\"93\":\"SWAP4\",\n",
    "\"94\":\"SWAP5\",\n",
    "\"95\":\"SWAP6\",\n",
    "\"96\":\"SWAP7\",\n",
    "\"97\":\"SWAP8\",\n",
    "\"98\":\"SWAP9\",\n",
    "\"99\":\"SWAP10\",\n",
    "\"9a\":\"SWAP11\",\n",
    "\"9b\":\"SWAP12\",\n",
    "\"9c\":\"SWAP13\",\n",
    "\"9d\":\"SWAP14\",\n",
    "\"9e\":\"SWAP15\",\n",
    "\"9f\":\"SWAP16\",\n",
    "\"a0\":\"LOG0\",\n",
    "\"a1\":\"LOG1\",\n",
    "\"a2\":\"LOG2\",\n",
    "\"a3\":\"LOG3\",\n",
    "\"a4\":\"LOG4\",\n",
    "\"b0\":\"PUSH\",\n",
    "\"b1\":\"DUP\",\n",
    "\"b2\":\"SWAP\",\n",
    "\"f0\":\"CREATE\",\n",
    "\"f1\":\"CALL\",\n",
    "\"f2\":\"CALLCODE\",\n",
    "\"f3\":\"RETURN\",\n",
    "\"f4\":\"DELEGATECALL\",\n",
    "\"f5\":\"CREATE2\",\n",
    "\"fa\":\"STATICCALL\",\n",
    "\"fd\":\"REVERT\",\n",
    "\"fe\":\"INVALID\",\n",
    "\"ff\":\"SELFDESTRUCT\"}"
   ]
  },
  {
   "cell_type": "code",
   "execution_count": null,
   "metadata": {},
   "outputs": [],
   "source": [
    "from datasets import Dataset\n",
    "import pandas as pd\n",
    "import re"
   ]
  },
  {
   "cell_type": "code",
   "execution_count": null,
   "metadata": {},
   "outputs": [],
   "source": [
    "data = pd.read_pickle(\"/home/bombbom/Documents/NLP_in_Detection_System/dataset_example/labeled_SBW_datasets.pkl\")\n",
    "data"
   ]
  },
  {
   "cell_type": "code",
   "execution_count": null,
   "metadata": {},
   "outputs": [],
   "source": [
    "data = data[['source_code']]"
   ]
  },
  {
   "cell_type": "code",
   "execution_count": null,
   "metadata": {},
   "outputs": [],
   "source": [
    "def compiler(input):\n",
    "    pass"
   ]
  },
  {
   "cell_type": "code",
   "execution_count": null,
   "metadata": {},
   "outputs": [],
   "source": [
    "data.source_code = data.source_code.apply(compiler)"
   ]
  },
  {
   "cell_type": "code",
   "execution_count": null,
   "metadata": {},
   "outputs": [],
   "source": [
    "data = Dataset.from_pandas(data)"
   ]
  },
  {
   "cell_type": "code",
   "execution_count": null,
   "metadata": {},
   "outputs": [],
   "source": [
    "def get_training_corpus():\n",
    "    return (\n",
    "        data[i : i + 1000][\"source_code\"]\n",
    "        for i in range(0, len(data), 1000)\n",
    "    )\n",
    "\n",
    "\n",
    "training_corpus = get_training_corpus()"
   ]
  },
  {
   "cell_type": "code",
   "execution_count": null,
   "metadata": {},
   "outputs": [],
   "source": [
    "from transformers import AutoTokenizer\n",
    "\n",
    "old_tokenizer = AutoTokenizer.from_pretrained(\"distilbert-base-uncased\")"
   ]
  },
  {
   "cell_type": "code",
   "execution_count": null,
   "metadata": {},
   "outputs": [],
   "source": [
    "example = '''pragma solidity ^0.8.17;\n",
    "\n",
    "contract HelloWorld {\n",
    "    string public greet = \"Hello World!\";\n",
    "}'''\n",
    "\n",
    "tokens = old_tokenizer.tokenize(example)\n",
    "tokens"
   ]
  },
  {
   "cell_type": "code",
   "execution_count": null,
   "metadata": {},
   "outputs": [],
   "source": [
    "old_tokenizer.add_tokens(list(int2op.values()))"
   ]
  },
  {
   "cell_type": "code",
   "execution_count": null,
   "metadata": {},
   "outputs": [],
   "source": [
    "tokenizer = old_tokenizer.train_new_from_iterator(training_corpus, 52000)\n"
   ]
  },
  {
   "cell_type": "code",
   "execution_count": null,
   "metadata": {},
   "outputs": [],
   "source": [
    "tokens = tokenizer.tokenize(example)\n",
    "tokens"
   ]
  },
  {
   "cell_type": "code",
   "execution_count": null,
   "metadata": {},
   "outputs": [],
   "source": [
    "tokenizer.save_pretrained(\"/home/bombbom/Documents/NLP_in_Detection_System/save_model/tokenizer_opcode/\")"
   ]
  },
  {
   "attachments": {},
   "cell_type": "markdown",
   "metadata": {},
   "source": [
    "# Pretrain"
   ]
  },
  {
   "cell_type": "code",
   "execution_count": null,
   "metadata": {},
   "outputs": [],
   "source": [
    "data_train = Dataset.from_pandas(train)\n",
    "data_test = Dataset.from_pandas(test)\n",
    "data_val = Dataset.from_pandas(val)"
   ]
  },
  {
   "cell_type": "code",
   "execution_count": null,
   "metadata": {},
   "outputs": [],
   "source": [
    "def preprocess_function(examples):\n",
    "    return tokenizer([\" \".join(x) for x in examples[\"source_code\"]], padding = \"max_length\", truncation=True)\n",
    "\n",
    "block_size = 128\n",
    "\n",
    "def group_texts(examples):\n",
    "    # Concatenate all texts.\n",
    "    concatenated_examples = {k: sum(examples[k], []) for k in examples.keys()}\n",
    "    total_length = len(concatenated_examples[list(examples.keys())[0]])\n",
    "    # We drop the small remainder, we could add padding if the model supported it instead of this drop, you can\n",
    "    # customize this part to your needs.\n",
    "    if total_length >= block_size:\n",
    "        total_length = (total_length // block_size) * block_size\n",
    "    # Split by chunks of block_size.\n",
    "    result = {\n",
    "        k: [t[i : i + block_size] for i in range(0, total_length, block_size)]\n",
    "        for k, t in concatenated_examples.items()\n",
    "    }\n",
    "    result[\"labels\"] = result[\"input_ids\"].copy()\n",
    "    return result\n"
   ]
  },
  {
   "cell_type": "code",
   "execution_count": null,
   "metadata": {},
   "outputs": [],
   "source": [
    "tokenized_data_train = data_train.map(preprocess_function, batched = True, num_proc=4, remove_columns = data_train.column_names)\n",
    "tokenized_data_val = data_val.map(preprocess_function, batched = True, num_proc=4, remove_columns = data_val.column_names)\n"
   ]
  },
  {
   "cell_type": "code",
   "execution_count": null,
   "metadata": {},
   "outputs": [],
   "source": [
    "lm_dataset_train = tokenized_data_train.map(group_texts, batched=True, num_proc=4 )\n",
    "lm_dataset_val = tokenized_data_val.map(group_texts, batched=True, num_proc=4)"
   ]
  },
  {
   "cell_type": "code",
   "execution_count": null,
   "metadata": {},
   "outputs": [],
   "source": [
    "from transformers import DataCollatorForLanguageModeling\n",
    "\n",
    "data_collator = DataCollatorForLanguageModeling(tokenizer=new_tokenizer, mlm_probability=0.15)\n",
    "from transformers import AutoModelForMaskedLM\n",
    "model = AutoModelForMaskedLM.from_pretrained(\"distilbert-base-uncased\")\n",
    "print(model)\n",
    "# %%\n",
    "len(new_tokenizer)\n",
    "## Resize \n",
    "model.resize_token_embeddings(len(new_tokenizer))\n",
    "print(model)"
   ]
  },
  {
   "cell_type": "code",
   "execution_count": null,
   "metadata": {},
   "outputs": [],
   "source": [
    "## Step 5: Setup training_args \n",
    "from transformers import Trainer, TrainingArguments\n",
    "training_args = TrainingArguments(\n",
    "    output_dir=\"pre-train-mlm\",\n",
    "    evaluation_strategy=\"epoch\",\n",
    "    learning_rate=2e-5,\n",
    "    num_train_epochs=10,\n",
    "    weight_decay=0.01,\n",
    "    save_steps=10000,\n",
    "    push_to_hub=False,\n",
    ")\n",
    "\n",
    "trainer = Trainer(\n",
    "    model=model,\n",
    "    args=training_args,\n",
    "    train_dataset=lm_dataset_train,\n",
    "    eval_dataset=lm_dataset_val,\n",
    "    data_collator=data_collator,\n",
    ")\n"
   ]
  },
  {
   "cell_type": "code",
   "execution_count": null,
   "metadata": {},
   "outputs": [],
   "source": [
    "trainer.train()\n"
   ]
  },
  {
   "cell_type": "code",
   "execution_count": null,
   "metadata": {},
   "outputs": [],
   "source": [
    "trainer.save_model(\"/home/bombbom/Documents/NLP_in_Detection_System/save_model/pre_train_opcode/\")"
   ]
  }
 ],
 "metadata": {
  "kernelspec": {
   "display_name": "env_nlp",
   "language": "python",
   "name": "python3"
  },
  "language_info": {
   "codemirror_mode": {
    "name": "ipython",
    "version": 3
   },
   "file_extension": ".py",
   "mimetype": "text/x-python",
   "name": "python",
   "nbconvert_exporter": "python",
   "pygments_lexer": "ipython3",
   "version": "3.8.10"
  },
  "orig_nbformat": 4
 },
 "nbformat": 4,
 "nbformat_minor": 2
}
