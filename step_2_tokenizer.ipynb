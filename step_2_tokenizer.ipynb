{
 "cells": [
  {
   "attachments": {},
   "cell_type": "markdown",
   "metadata": {},
   "source": [
    "# Tokenizer"
   ]
  },
  {
   "cell_type": "code",
   "execution_count": null,
   "metadata": {},
   "outputs": [],
   "source": [
    "operators3 = {'<<=', '>>='}\n",
    "operators2 = {\n",
    "    '->', '++', '--',\n",
    "    '!~', '<<', '>>', '<=', '>=',\n",
    "    '==', '!=', '&&', '||', '+=',\n",
    "    '-=', '*=', '/=', '%=', '&=', '^=', '|='\n",
    "}\n",
    "operators1 = {\n",
    "    '(', ')', '[', ']', '.',\n",
    "    '+', '-', '*', '&', '/',\n",
    "    '%', '<', '>', '^', '|',\n",
    "    '=', ',', '?', ':', ';',\n",
    "    '{', '}'\n",
    "}\n",
    "def tokenize(line):\n",
    "        tmp, w = [], []\n",
    "        i = 0\n",
    "        while i < len(line):\n",
    "            # Ignore spaces and combine previously collected chars to form words\n",
    "            if line[i] == ' ':\n",
    "                tmp.append(''.join(w))\n",
    "                tmp.append(line[i])\n",
    "                w = []\n",
    "                i += 1\n",
    "            # Check operators and append to final list\n",
    "            elif line[i:i + 3] in operators3:\n",
    "                tmp.append(''.join(w))\n",
    "                tmp.append(line[i:i + 3])\n",
    "                w = []\n",
    "                i += 3\n",
    "            elif line[i:i + 2] in operators2:\n",
    "                tmp.append(''.join(w))\n",
    "                tmp.append(line[i:i + 2])\n",
    "                w = []\n",
    "                i += 2\n",
    "            elif line[i] in operators1:\n",
    "                tmp.append(''.join(w))\n",
    "                tmp.append(line[i])\n",
    "                w = []\n",
    "                i += 1\n",
    "            # Character appended to word list\n",
    "            else:\n",
    "                w.append(line[i])\n",
    "                i += 1\n",
    "        # Filter out irrelevant strings\n",
    "        res = list(filter(lambda c: c != '', tmp))\n",
    "        return list(filter(lambda c: c != ' ', res))"
   ]
  },
  {
   "cell_type": "code",
   "execution_count": null,
   "metadata": {},
   "outputs": [],
   "source": [
    "operators  = ['++', '--', '-', '!', '~', '**', '*', '/', '%', '+','<<', '>>', '&', '^', '|','<', '>', '<=', '>=', '==', '!=' , '&&', '||', '=', '|=', '^=', '&=', '<<=', '>>=', '+=', '-=', '*=', '/=', '%=', ',', ':'  ]\n",
    "global_variable = ['abi.decode', 'abi.encode', 'abi.encodePacked', 'abi.encodeWithSelector', 'abi.encodeCall', 'abi.encodeWithSignature','bytes.concat','string.concat', 'block.basefee', 'block.chainid',  'block.coinbase', 'block.difficulty', 'block.gaslimit', 'block.number', 'block.prevrandao',  'block.timestamp', 'gasleft', 'msg.data','msg.sender','msg.sig','msg.value', 'tx.gasprice', 'tx.origin' , 'assert', 'require' , 'revert', 'blockhash' , 'keccak256', 'sha256' , 'ripemd160', 'ecrecover', 'addmod', 'mulmod', 'selfdestruct' ]\n",
    "Other_keyword = ['bytes1','bytes2','bytes3','bytes4','bytes5','bytes6','bytes7','bytes8','bytes9','bytes10','bytes11','bytes12','bytes13','bytes14','bytes15','bytes16','bytes17','bytes18','bytes19','bytes20','bytes21','bytes22','bytes23','bytes24','bytes25','bytes26','bytes27','bytes28','bytes29','bytes30','bytes31','bytes32']\n",
    "number = ['wei','gwei','ether','seconds','minutes','hours','days','weeks','years' ]\n",
    "evm_built = ['stop','add','sub','mul','div','sdiv','mod','smod','exp','not','lt','gt','slt','sgt','eq','iszero','and','or','xor','byte','shl','shr','sar','addmod','mulmod','signextend','keccak256','pop','mload','mstore','mstore8','sload','sstore','msize','gas','address','balance','selfbalance','caller','callvalue','calldataload','calldatasize','calldatacopy','extcodesize','extcodecopy','returndatasize','returndatacopy','extcodehash','create','create2','call','callcode','delegatecall','staticcall','return','revert','selfdestruct','invalid','log0','log1','log2','log3','log4','chainid','origin','gasprice','blockhash','coinbase','timestamp','number','difficulty','prevrandao','gaslimit','basefee']\n",
    "uint = ['uint','uint8','uint16','uint24','uint32','uint40','uint48','uint56','uint64','uint72','uint80','uint88','uint96','uint104','uint112','uint120','uint128','uint136','uint144','uint152','uint160','uint168','uint176','uint184','uint192','uint200','uint208','uint216','uint224','uint232','uint240','uint248','uint256']\n",
    "int_ =['int','int8','int16','int24','int32','int40','int48','int56','int64','int72','int80','int88','int96','int104','int112','int120','int128','int136','int144','int152','int160','int168','int176','int184','int192','int200','int208','int216','int224','int232','int240','int248','int256']"
   ]
  }
 ],
 "metadata": {
  "language_info": {
   "name": "python"
  },
  "orig_nbformat": 4
 },
 "nbformat": 4,
 "nbformat_minor": 2
}
